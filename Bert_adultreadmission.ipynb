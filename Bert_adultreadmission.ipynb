{
  "nbformat": 4,
  "nbformat_minor": 0,
  "metadata": {
    "colab": {
      "name": "Untitled0.ipynb",
      "provenance": [],
      "include_colab_link": true
    },
    "kernelspec": {
      "name": "python3",
      "display_name": "Python 3"
    },
    "accelerator": "GPU"
  },
  "cells": [
    {
      "cell_type": "markdown",
      "metadata": {
        "id": "view-in-github",
        "colab_type": "text"
      },
      "source": [
        "<a href=\"https://colab.research.google.com/github/acmilannesta/Bert-embedding/blob/master/Bert_adultreadmission.ipynb\" target=\"_parent\"><img src=\"https://colab.research.google.com/assets/colab-badge.svg\" alt=\"Open In Colab\"/></a>"
      ]
    },
    {
      "cell_type": "code",
      "metadata": {
        "id": "-ItDxs5xGRfa",
        "colab_type": "code",
        "colab": {}
      },
      "source": [
        "!wget https://storage.googleapis.com/bert_models/2018_10_18/uncased_L-12_H-768_A-12.zip\n",
        "!unzip uncased_L-12_H-768_A-12.zip"
      ],
      "execution_count": 0,
      "outputs": []
    },
    {
      "cell_type": "code",
      "metadata": {
        "id": "g0TXgKiFFVyN",
        "colab_type": "code",
        "outputId": "69df2890-5f66-4672-fb46-57f4b9cdc5ec",
        "colab": {
          "base_uri": "https://localhost:8080/",
          "height": 125
        }
      },
      "source": [
        "from google.colab import drive\n",
        "drive.mount('/content/drive')"
      ],
      "execution_count": 1,
      "outputs": [
        {
          "output_type": "stream",
          "text": [
            "Go to this URL in a browser: https://accounts.google.com/o/oauth2/auth?client_id=947318989803-6bn6qk8qdgf4n4g3pfee6491hc0brc4i.apps.googleusercontent.com&redirect_uri=urn%3Aietf%3Awg%3Aoauth%3A2.0%3Aoob&scope=email%20https%3A%2F%2Fwww.googleapis.com%2Fauth%2Fdocs.test%20https%3A%2F%2Fwww.googleapis.com%2Fauth%2Fdrive%20https%3A%2F%2Fwww.googleapis.com%2Fauth%2Fdrive.photos.readonly%20https%3A%2F%2Fwww.googleapis.com%2Fauth%2Fpeopleapi.readonly&response_type=code\n",
            "\n",
            "Enter your authorization code:\n",
            "··········\n",
            "Mounted at /content/drive\n"
          ],
          "name": "stdout"
        }
      ]
    },
    {
      "cell_type": "code",
      "metadata": {
        "id": "fgw-2XW8Geus",
        "colab_type": "code",
        "colab": {}
      },
      "source": [
        "!pip install keras_bert"
      ],
      "execution_count": 0,
      "outputs": []
    },
    {
      "cell_type": "code",
      "metadata": {
        "id": "306WTFXmGPA6",
        "colab_type": "code",
        "colab": {}
      },
      "source": [
        "import json\n",
        "import numpy as np\n",
        "import pandas as pd\n",
        "from random import choice\n",
        "from keras_bert import load_trained_model_from_checkpoint, Tokenizer, AdamWarmup, calc_train_steps\n",
        "import re, os, gc\n",
        "import codecs\n",
        "from keras.layers import *\n",
        "from keras.models import Model\n",
        "import keras.backend as K\n",
        "from keras.optimizers import Adam\n",
        "import tensorflow as tf\n",
        "from sklearn.model_selection import train_test_split\n",
        "from sklearn.metrics import roc_auc_score, accuracy_score, precision_score, recall_score, f1_score\n",
        "import warnings\n",
        "warnings.filterwarnings(\"ignore\")"
      ],
      "execution_count": 0,
      "outputs": []
    },
    {
      "cell_type": "code",
      "metadata": {
        "id": "eJhMtLYVGl0N",
        "colab_type": "code",
        "colab": {}
      },
      "source": [
        "MAXLEN = 300\n",
        "BATCH_SIZE = 8\n",
        "config_path = '/content/drive/My Drive/biobert_pretrain_output_all_notes_150000/bert_config.json' #'uncased_L-12_H-768_A-12/bert_config.json'\n",
        "checkpoint_path = '/content/drive/My Drive/biobert_pretrain_output_all_notes_150000/model.ckpt' #'uncased_L-12_H-768_A-12/bert_model.ckpt'\n",
        "dict_path = '/content/drive/My Drive/biobert_pretrain_output_all_notes_150000/vocab.txt' #'uncased_L-12_H-768_A-12/vocab.txt'"
      ],
      "execution_count": 0,
      "outputs": []
    },
    {
      "cell_type": "code",
      "metadata": {
        "id": "-HC_n547GuYj",
        "colab_type": "code",
        "colab": {}
      },
      "source": [
        "token_dict = {}\n",
        "with codecs.open(dict_path, 'r', 'utf8') as reader:\n",
        "  for line in reader:\n",
        "      token = line.strip()\n",
        "      token_dict[token] = len(token_dict)"
      ],
      "execution_count": 0,
      "outputs": []
    },
    {
      "cell_type": "code",
      "metadata": {
        "id": "r973L4toG4s3",
        "colab_type": "code",
        "colab": {}
      },
      "source": [
        "# class OurTokenizer(Tokenizer):\n",
        "#     def _tokenize(self, text):\n",
        "#         R = []\n",
        "#         for c in text:\n",
        "#             if c in self._token_dict:\n",
        "#                 R.append(c)\n",
        "#             # elif self._is_space(c):\n",
        "#             #     R.append('[unused1]')\n",
        "#             else:\n",
        "#                 R.append('[UNK]')\n",
        "#         return R\n",
        "\n",
        "tokenizer = Tokenizer(token_dict)"
      ],
      "execution_count": 0,
      "outputs": []
    },
    {
      "cell_type": "code",
      "metadata": {
        "id": "mQK47tDfHL-U",
        "colab_type": "code",
        "colab": {}
      },
      "source": [
        "data = pd.read_csv('drive/My Drive/Adult readmission/Combined_vars_04092019_notes.csv')\n",
        "data.CODE_REHOSP = np.where(data.CODE_REHOSP==2, 0, 1)\n",
        "data1 = data[['sw_note', 'CODE_REHOSP']].dropna()\n",
        "data1['sw_note'] = data1['sw_note'].apply(lambda x: x.replace('\\r', ''))\n",
        "X_train, X_test, y_train, y_test = train_test_split(data1['sw_note'], data1['CODE_REHOSP'], test_size=0.2, random_state=0, stratify=data1['CODE_REHOSP'])\n",
        "train_data = list(zip(X_train, y_train))\n",
        "valid_data = list(zip(X_test, y_test))"
      ],
      "execution_count": 0,
      "outputs": []
    },
    {
      "cell_type": "code",
      "metadata": {
        "id": "iBjEFpmoC8en",
        "colab_type": "code",
        "colab": {}
      },
      "source": [
        "data1.to_csv('drive/My Drive/Data/sw_note.csv', index=False)\n",
        "# data1.shape"
      ],
      "execution_count": 0,
      "outputs": []
    },
    {
      "cell_type": "code",
      "metadata": {
        "id": "gl-tLqJGHXij",
        "colab_type": "code",
        "colab": {}
      },
      "source": [
        "def seq_padding(X, padding=0):\n",
        "  L = [len(x) for x in X]\n",
        "  ML = max(L)\n",
        "  return np.array([np.concatenate([x, [padding] * (ML - len(x))]) if len(x) < ML else x for x in X])\n",
        "\n",
        "class data_generator:\n",
        "  def __init__(self, data, batch_size=BATCH_SIZE, maxlen=MAXLEN):\n",
        "    self.data = data\n",
        "    self.batch_size = batch_size\n",
        "    self.maxlen = maxlen\n",
        "    self.steps = len(self.data) // self.batch_size\n",
        "    if len(self.data) % self.batch_size != 0:\n",
        "        self.steps += 1\n",
        "  def __len__(self):\n",
        "    return self.steps\n",
        "  def __iter__(self):\n",
        "    while True:\n",
        "      idxs = list(range(len(self.data)))\n",
        "      np.random.shuffle(idxs)\n",
        "      X1, X2, Y = [], [], []\n",
        "      for i in idxs:\n",
        "        d = self.data[i]\n",
        "        text = d[0][:self.maxlen]\n",
        "        x1, x2 = tokenizer.encode(first=text)\n",
        "        y = d[1]\n",
        "        X1.append(x1)\n",
        "        X2.append(x2)\n",
        "        Y.append([y])\n",
        "        if len(X1) == self.batch_size or i == idxs[-1]:\n",
        "          X1 = seq_padding(X1)\n",
        "          X2 = seq_padding(X2)\n",
        "          Y = seq_padding(Y)\n",
        "          yield [X1, X2], Y\n",
        "          [X1, X2, Y] = [], [], []"
      ],
      "execution_count": 0,
      "outputs": []
    },
    {
      "cell_type": "code",
      "metadata": {
        "id": "4fnY5nGsHgHz",
        "colab_type": "code",
        "colab": {}
      },
      "source": [
        "bert_model = load_trained_model_from_checkpoint(\n",
        "    config_path,\n",
        "    checkpoint_path,\n",
        "    trainable=True)\n",
        "\n",
        "x1_in = Input(shape=(None,))\n",
        "x2_in = Input(shape=(None,))\n",
        "\n",
        "x = bert_model([x1_in, x2_in])\n",
        "x = Lambda(lambda x: x[:, 0])(x)\n",
        "p = Dense(1, activation='sigmoid')(x)\n",
        "\n",
        "model = Model([x1_in, x2_in], p)\n",
        "# def auroc(y_true, y_pred):\n",
        "#     return tf.py_func(roc_auc_score, (y_true, y_pred), tf.double)\n",
        "decay_steps, warmup_steps = calc_train_steps(\n",
        "    len(train_data),\n",
        "    batch_size=BATCH_SIZE,\n",
        "    epochs=2,\n",
        ")\n",
        "\n",
        "model.compile(\n",
        "    loss='binary_crossentropy',\n",
        "    # optimizer=Adam(1e-5),\n",
        "    optimizer=AdamWarmup(decay_steps=decay_steps, warmup_steps=warmup_steps, lr=1e-5),\n",
        "    metrics=['acc']\n",
        ")"
      ],
      "execution_count": 0,
      "outputs": []
    },
    {
      "cell_type": "code",
      "metadata": {
        "id": "31l7HU8ZHsAe",
        "colab_type": "code",
        "outputId": "3405dfa2-4363-4910-e0d1-a0cda1e00964",
        "colab": {
          "base_uri": "https://localhost:8080/",
          "height": 105
        }
      },
      "source": [
        "train_D = data_generator(train_data)\n",
        "valid_D = data_generator(valid_data)\n",
        "model.fit_generator(\n",
        "    train_D.__iter__(),\n",
        "    steps_per_epoch=len(train_D),\n",
        "    epochs=2,\n",
        "    validation_data=valid_D.__iter__(),\n",
        "    validation_steps=len(valid_D)\n",
        ")"
      ],
      "execution_count": 64,
      "outputs": [
        {
          "output_type": "stream",
          "text": [
            "Epoch 1/2\n",
            "114/114 [==============================] - 61s 536ms/step - loss: 0.6189 - acc: 0.7039 - val_loss: 0.6115 - val_acc: 0.7061\n",
            "Epoch 2/2\n",
            "114/114 [==============================] - 28s 245ms/step - loss: 0.5773 - acc: 0.7057 - val_loss: 0.6194 - val_acc: 0.7061\n"
          ],
          "name": "stdout"
        },
        {
          "output_type": "execute_result",
          "data": {
            "text/plain": [
              "<keras.callbacks.History at 0x7f6718aad908>"
            ]
          },
          "metadata": {
            "tags": []
          },
          "execution_count": 64
        }
      ]
    },
    {
      "cell_type": "code",
      "metadata": {
        "id": "2frFKaglPXeZ",
        "colab_type": "code",
        "colab": {}
      },
      "source": [
        "pred = model.predict_generator(valid_D.__iter__(), len(valid_D))"
      ],
      "execution_count": 0,
      "outputs": []
    },
    {
      "cell_type": "code",
      "metadata": {
        "id": "Qn5G__2CL2Mz",
        "colab_type": "code",
        "outputId": "7b41da3e-e4de-418a-f365-0f5a3fd0696d",
        "colab": {
          "base_uri": "https://localhost:8080/",
          "height": 105
        }
      },
      "source": [
        "print('ROC-AUC: {:.2f}%'.format(roc_auc_score([x[1] for x in valid_data], pred)*100))\n",
        "print('Accuracy Score: {:.2f}%'.format(accuracy_score([x[1] for x in valid_data], [int(x>0.5) for x in pred])*100))\n",
        "print('Precision Score: {:.2f}%'.format(precision_score([x[1] for x in valid_data], [int(x>0.5) for x in pred])*100))\n",
        "print('Recall Score: {:.2f}%'.format(recall_score([x[1] for x in valid_data], [int(x>0.5) for x in pred])*100))\n",
        "print('F1 Score: {:.2f}%'.format(f1_score([x[1] for x in valid_data], [int(x>0.5) for x in pred])*100))"
      ],
      "execution_count": 66,
      "outputs": [
        {
          "output_type": "stream",
          "text": [
            "ROC-AUC: 49.98%\n",
            "Accuracy Score: 70.61%\n",
            "Precision Score: 0.00%\n",
            "Recall Score: 0.00%\n",
            "F1 Score: 0.00%\n"
          ],
          "name": "stdout"
        }
      ]
    }
  ]
}