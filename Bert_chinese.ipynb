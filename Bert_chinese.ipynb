{
  "nbformat": 4,
  "nbformat_minor": 0,
  "metadata": {
    "colab": {
      "name": "Untitled0.ipynb",
      "version": "0.3.2",
      "provenance": [],
      "include_colab_link": true
    },
    "kernelspec": {
      "name": "python3",
      "display_name": "Python 3"
    },
    "accelerator": "GPU"
  },
  "cells": [
    {
      "cell_type": "markdown",
      "metadata": {
        "id": "view-in-github",
        "colab_type": "text"
      },
      "source": [
        "<a href=\"https://colab.research.google.com/github/acmilannesta/Bert-embedding/blob/master/Bert_chinese.ipynb\" target=\"_parent\"><img src=\"https://colab.research.google.com/assets/colab-badge.svg\" alt=\"Open In Colab\"/></a>"
      ]
    },
    {
      "cell_type": "code",
      "metadata": {
        "id": "jwpLt3q1F9-c",
        "colab_type": "code",
        "colab": {}
      },
      "source": [
        "!git clone https://github.com/acmilannesta/Bert-embedding"
      ],
      "execution_count": 0,
      "outputs": []
    },
    {
      "cell_type": "code",
      "metadata": {
        "id": "-ItDxs5xGRfa",
        "colab_type": "code",
        "colab": {}
      },
      "source": [
        "!wget https://storage.googleapis.com/bert_models/2018_11_03/chinese_L-12_H-768_A-12.zip\n",
        "!unzip chinese_L-12_H-768_A-12.zip"
      ],
      "execution_count": 0,
      "outputs": []
    },
    {
      "cell_type": "code",
      "metadata": {
        "id": "fgw-2XW8Geus",
        "colab_type": "code",
        "colab": {}
      },
      "source": [
        "!pip install keras_bert"
      ],
      "execution_count": 0,
      "outputs": []
    },
    {
      "cell_type": "code",
      "metadata": {
        "id": "306WTFXmGPA6",
        "colab_type": "code",
        "colab": {}
      },
      "source": [
        "import json\n",
        "import numpy as np\n",
        "import pandas as pd\n",
        "from random import choice\n",
        "from keras_bert import load_trained_model_from_checkpoint, Tokenizer\n",
        "import re, os\n",
        "import codecs\n",
        "from keras.layers import *\n",
        "from keras.models import Model\n",
        "import keras.backend as K\n",
        "from keras.optimizers import Adam"
      ],
      "execution_count": 0,
      "outputs": []
    },
    {
      "cell_type": "code",
      "metadata": {
        "id": "eJhMtLYVGl0N",
        "colab_type": "code",
        "colab": {}
      },
      "source": [
        "maxlen = 100\n",
        "config_path = 'chinese_L-12_H-768_A-12/bert_config.json'\n",
        "checkpoint_path = 'chinese_L-12_H-768_A-12/bert_model.ckpt'\n",
        "dict_path = 'chinese_L-12_H-768_A-12/vocab.txt'"
      ],
      "execution_count": 0,
      "outputs": []
    },
    {
      "cell_type": "code",
      "metadata": {
        "id": "-HC_n547GuYj",
        "colab_type": "code",
        "colab": {}
      },
      "source": [
        "token_dict = {}\n",
        "\n",
        "with codecs.open(dict_path, 'r', 'utf8') as reader:\n",
        "    for line in reader:\n",
        "        token = line.strip()\n",
        "        token_dict[token] = len(token_dict)"
      ],
      "execution_count": 0,
      "outputs": []
    },
    {
      "cell_type": "code",
      "metadata": {
        "id": "r973L4toG4s3",
        "colab_type": "code",
        "colab": {}
      },
      "source": [
        "class OurTokenizer(Tokenizer):\n",
        "    def _tokenize(self, text):\n",
        "        R = []\n",
        "        for c in text:\n",
        "            if c in self._token_dict:\n",
        "                R.append(c)\n",
        "            elif self._is_space(c):\n",
        "                R.append('[unused1]')\n",
        "            else:\n",
        "                R.append('[UNK]')\n",
        "        return R\n",
        "\n",
        "tokenizer = OurTokenizer(token_dict)"
      ],
      "execution_count": 0,
      "outputs": []
    },
    {
      "cell_type": "code",
      "metadata": {
        "id": "mQK47tDfHL-U",
        "colab_type": "code",
        "colab": {}
      },
      "source": [
        "neg = pd.read_excel('Bert-embedding/neg.xls', header=None)\n",
        "pos = pd.read_excel('Bert-embedding/pos.xls', header=None)\n",
        "\n",
        "data = []\n",
        "\n",
        "for d in neg[0]:\n",
        "    data.append((d, 0))\n",
        "for d in pos[0]:\n",
        "    data.append((d, 1))\n",
        "    \n",
        "random_order = list(range(len(data)))\n",
        "np.random.shuffle(random_order)\n",
        "train_data = [data[j] for i, j in enumerate(random_order) if i % 10 != 0]\n",
        "valid_data = [data[j] for i, j in enumerate(random_order) if i % 10 == 0]"
      ],
      "execution_count": 0,
      "outputs": []
    },
    {
      "cell_type": "code",
      "metadata": {
        "id": "gl-tLqJGHXij",
        "colab_type": "code",
        "colab": {}
      },
      "source": [
        "def seq_padding(X, padding=0):\n",
        "    L = [len(x) for x in X]\n",
        "    ML = max(L)\n",
        "    return np.array([\n",
        "        np.concatenate([x, [padding] * (ML - len(x))]) if len(x) < ML else x for x in X\n",
        "    ])\n",
        "\n",
        "class data_generator:\n",
        "    def __init__(self, data, batch_size=32):\n",
        "        self.data = data\n",
        "        self.batch_size = batch_size\n",
        "        self.steps = len(self.data) // self.batch_size\n",
        "        if len(self.data) % self.batch_size != 0:\n",
        "            self.steps += 1\n",
        "    def __len__(self):\n",
        "        return self.steps\n",
        "    def __iter__(self):\n",
        "        while True:\n",
        "            idxs = list(range(len(self.data)))\n",
        "            np.random.shuffle(idxs)\n",
        "            X1, X2, Y = [], [], []\n",
        "            for i in idxs:\n",
        "                d = self.data[i]\n",
        "                text = d[0][:maxlen]\n",
        "                x1, x2 = tokenizer.encode(first=text)\n",
        "                y = d[1]\n",
        "                X1.append(x1)\n",
        "                X2.append(x2)\n",
        "                Y.append([y])\n",
        "                if len(X1) == self.batch_size or i == idxs[-1]:\n",
        "                    X1 = seq_padding(X1)\n",
        "                    X2 = seq_padding(X2)\n",
        "                    Y = seq_padding(Y)\n",
        "                    yield [X1, X2], Y\n",
        "                    [X1, X2, Y] = [], [], []"
      ],
      "execution_count": 0,
      "outputs": []
    },
    {
      "cell_type": "code",
      "metadata": {
        "id": "4fnY5nGsHgHz",
        "colab_type": "code",
        "colab": {}
      },
      "source": [
        "bert_model = load_trained_model_from_checkpoint(config_path, checkpoint_path)\n",
        "for l in bert_model.layers:\n",
        "    l.trainable = True\n",
        "\n",
        "x1_in = Input(shape=(None,))\n",
        "x2_in = Input(shape=(None,))\n",
        "\n",
        "x = bert_model([x1_in, x2_in])\n",
        "x = Lambda(lambda x: x[:, 0])(x)\n",
        "p = Dense(1, activation='sigmoid')(x)\n",
        "\n",
        "model = Model([x1_in, x2_in], p)\n",
        "model.compile(\n",
        "    loss='binary_crossentropy',\n",
        "    optimizer=Adam(1e-5),\n",
        "    metrics=['accuracy']\n",
        ")"
      ],
      "execution_count": 0,
      "outputs": []
    },
    {
      "cell_type": "code",
      "metadata": {
        "id": "31l7HU8ZHsAe",
        "colab_type": "code",
        "colab": {
          "base_uri": "https://localhost:8080/",
          "height": 52
        },
        "outputId": "11c153c9-54b9-4fff-94a1-7c0bf686c853"
      },
      "source": [
        "train_D = data_generator(train_data)\n",
        "valid_D = data_generator(valid_data)\n",
        "model.fit_generator(\n",
        "    train_D.__iter__(),\n",
        "    steps_per_epoch=len(train_D),\n",
        "    epochs=5,\n",
        "    validation_data=valid_D.__iter__(),\n",
        "    validation_steps=len(valid_D)\n",
        ")"
      ],
      "execution_count": 0,
      "outputs": [
        {
          "output_type": "stream",
          "text": [
            "Epoch 1/5\n",
            "  5/594 [..............................] - ETA: 35:25 - loss: 0.7263 - acc: 0.5563"
          ],
          "name": "stdout"
        }
      ]
    }
  ]
}