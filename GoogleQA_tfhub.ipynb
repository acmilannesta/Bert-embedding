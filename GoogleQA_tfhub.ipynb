{
  "nbformat": 4,
  "nbformat_minor": 0,
  "metadata": {
    "colab": {
      "name": "GoogleQA.ipynb",
      "provenance": [],
      "toc_visible": true,
      "include_colab_link": true
    },
    "kernelspec": {
      "name": "python3",
      "display_name": "Python 3"
    },
    "accelerator": "GPU"
  },
  "cells": [
    {
      "cell_type": "markdown",
      "metadata": {
        "id": "view-in-github",
        "colab_type": "text"
      },
      "source": [
        "<a href=\"https://colab.research.google.com/github/acmilannesta/Bert-embedding/blob/master/GoogleQA_tfhub.ipynb\" target=\"_parent\"><img src=\"https://colab.research.google.com/assets/colab-badge.svg\" alt=\"Open In Colab\"/></a>"
      ]
    },
    {
      "cell_type": "code",
      "metadata": {
        "id": "D82bieSpLcuc",
        "colab_type": "code",
        "outputId": "503fbddf-081b-43ee-dd16-6f3ab5ff92e2",
        "colab": {
          "base_uri": "https://localhost:8080/",
          "height": 312
        }
      },
      "source": [
        "!nvidia-smi"
      ],
      "execution_count": 1,
      "outputs": [
        {
          "output_type": "stream",
          "text": [
            "Tue Dec 24 21:40:05 2019       \n",
            "+-----------------------------------------------------------------------------+\n",
            "| NVIDIA-SMI 440.44       Driver Version: 418.67       CUDA Version: 10.1     |\n",
            "|-------------------------------+----------------------+----------------------+\n",
            "| GPU  Name        Persistence-M| Bus-Id        Disp.A | Volatile Uncorr. ECC |\n",
            "| Fan  Temp  Perf  Pwr:Usage/Cap|         Memory-Usage | GPU-Util  Compute M. |\n",
            "|===============================+======================+======================|\n",
            "|   0  Tesla P100-PCIE...  Off  | 00000000:00:04.0 Off |                    0 |\n",
            "| N/A   36C    P0    27W / 250W |      0MiB / 16280MiB |      0%      Default |\n",
            "+-------------------------------+----------------------+----------------------+\n",
            "                                                                               \n",
            "+-----------------------------------------------------------------------------+\n",
            "| Processes:                                                       GPU Memory |\n",
            "|  GPU       PID   Type   Process name                             Usage      |\n",
            "|=============================================================================|\n",
            "|  No running processes found                                                 |\n",
            "+-----------------------------------------------------------------------------+\n"
          ],
          "name": "stdout"
        }
      ]
    },
    {
      "cell_type": "code",
      "metadata": {
        "id": "JErzYVOxLtWo",
        "colab_type": "code",
        "outputId": "8195b2aa-2d3c-47e6-a635-38f75edf104f",
        "colab": {
          "base_uri": "https://localhost:8080/",
          "height": 315
        }
      },
      "source": [
        "# bert uncased base\n",
        "!wget https://tfhub.dev/tensorflow/bert_en_uncased_L-12_H-768_A-12/1?tf-hub-format=compressed -O bbu\n",
        "!mkdir bert_base_uncased\n",
        "!tar -xzf bbu -C bert_base_uncased\n",
        "\n",
        "# bert cased base\n",
        "!wget https://tfhub.dev/tensorflow/bert_en_cased_L-12_H-768_A-12/1?tf-hub-format=compressed -O bbc\n",
        "!mkdir bert_base_cased\n",
        "!tar -xzf bbc -C bert_base_cased\n",
        "\n",
        "# albert base\n",
        "!wget https://tfhub.dev/google/albert_base/1?tf-hub-format=compressed -O ab\n",
        "!mkdir albert_base\n",
        "!tar -xzf ab -C albert_base\n",
        "\n",
        "# bert uncased large\n",
        "!wget https://tfhub.dev/tensorflow/bert_en_uncased_L-24_H-1024_A-16/1?tf-hub-format=compressed -O blu\n",
        "!mkdir bert_large_uncased\n",
        "!tar -xzf blu -C bert_large_uncased"
      ],
      "execution_count": 2,
      "outputs": [
        {
          "output_type": "stream",
          "text": [
            "--2019-12-24 21:40:09--  https://tfhub.dev/tensorflow/bert_en_uncased_L-12_H-768_A-12/1?tf-hub-format=compressed\n",
            "Resolving tfhub.dev (tfhub.dev)... 74.125.20.113, 74.125.20.138, 74.125.20.139, ...\n",
            "Connecting to tfhub.dev (tfhub.dev)|74.125.20.113|:443... connected.\n",
            "HTTP request sent, awaiting response... 302 Found\n",
            "Location: https://storage.googleapis.com/tfhub-modules/tensorflow/bert_en_uncased_L-12_H-768_A-12/1.tar.gz [following]\n",
            "--2019-12-24 21:40:14--  https://storage.googleapis.com/tfhub-modules/tensorflow/bert_en_uncased_L-12_H-768_A-12/1.tar.gz\n",
            "Resolving storage.googleapis.com (storage.googleapis.com)... 74.125.195.128, 2607:f8b0:400e:c08::80\n",
            "Connecting to storage.googleapis.com (storage.googleapis.com)|74.125.195.128|:443... connected.\n",
            "HTTP request sent, awaiting response... 200 OK\n",
            "Length: 405800905 (387M) [application/x-tar]\n",
            "Saving to: ‘bbu’\n",
            "\n",
            "bbu                 100%[===================>] 387.00M   122MB/s    in 3.2s    \n",
            "\n",
            "2019-12-24 21:40:18 (122 MB/s) - ‘bbu’ saved [405800905/405800905]\n",
            "\n"
          ],
          "name": "stdout"
        }
      ]
    },
    {
      "cell_type": "code",
      "metadata": {
        "id": "TBrwK8dwLyw8",
        "colab_type": "code",
        "outputId": "31d2aa01-c570-4e5d-d930-ef41f9a77d1e",
        "colab": {
          "base_uri": "https://localhost:8080/",
          "height": 35
        }
      },
      "source": [
        "from google.colab import drive\n",
        "drive.mount('/content/drive', force_remount=True)"
      ],
      "execution_count": 5,
      "outputs": [
        {
          "output_type": "stream",
          "text": [
            "Mounted at /content/drive\n"
          ],
          "name": "stdout"
        }
      ]
    },
    {
      "cell_type": "code",
      "metadata": {
        "id": "KaDm4NWvLp_J",
        "colab_type": "code",
        "outputId": "c9350ff3-2af2-47d5-94e7-e15077410e42",
        "colab": {
          "base_uri": "https://localhost:8080/",
          "height": 52
        }
      },
      "source": [
        "%tensorflow_version 2.x\n",
        "import sys\n",
        "sys.path.insert(1, '/content/drive/My Drive/GoogleQA')\n",
        "import numpy as np\n",
        "import pandas as pd\n",
        "import os, gc\n",
        "import codecs\n",
        "import tensorflow as tf\n",
        "from tensorflow import keras\n",
        "from tensorflow.python.keras.backend import set_session\n",
        "# from keras.callbacks import Callback\n",
        "# from keras.models import Model, load_model\n",
        "from sklearn.preprocessing import OneHotEncoder\n",
        "from sklearn.model_selection import StratifiedKFold, RepeatedStratifiedKFold, GroupKFold, KFold, RepeatedKFold\n",
        "from scipy.stats import spearmanr\n",
        "from tqdm import tqdm\n",
        "import tensorflow_hub as hub\n",
        "# from albert_tokenization import FullTokenizer\n",
        "from tokenizer import Tokenizer\n",
        "from warmup_v2 import AdamWarmup, calc_train_steps\n",
        "tf.get_logger().setLevel('ERROR') \n",
        "# from keras_bert import load_trained_model_from_checkpoint, Tokenizer, AdamWarmup, calc_train_steps, get_custom_objects\n",
        "from hyperopt import fmin, hp, tpe, STATUS_OK, Trials\n",
        "print(tf.__version__)"
      ],
      "execution_count": 1,
      "outputs": [
        {
          "output_type": "stream",
          "text": [
            "TensorFlow 2.x selected.\n",
            "2.1.0-rc1\n"
          ],
          "name": "stdout"
        }
      ]
    },
    {
      "cell_type": "code",
      "metadata": {
        "id": "1xGojs4dL6S4",
        "colab_type": "code",
        "colab": {}
      },
      "source": [
        "data_path = 'drive/My Drive/GoogleQA/Data/'\n",
        "aux_path = 'drive/My Drive/GoogleQA/Web Scrap/'\n",
        "train = pd.read_csv(data_path+'train.csv')\n",
        "test = pd.read_csv(data_path+'test.csv')\n",
        "sub = pd.read_csv(data_path+'sample_submission.csv')\n",
        "# qa_aux = pd.read_csv(aux_path+'df_qa_extracted.csv')[['qa_id', 'question_viewed_times', 'question_votes', 'answer_counts', 'answer_votes']]\n",
        "# quser_aux = pd.read_csv(aux_path+'df_question_user_extracted.csv')\n",
        "# auser_aux = pd.read_csv(aux_path+'df_answer_user_extracted.csv')\n",
        "target_col = train.columns.tolist()[11:42]\n",
        "\n",
        "train['class'] = train.host.apply(lambda x: x.split('.')[0])\n",
        "train['question'] = train['category']+' '+train['class']+' '+train['question_title']+' '+train['question_body']\n",
        "     \n",
        "\n",
        "test['class'] = test.host.apply(lambda x: x.split('.')[0])\n",
        "test['question'] = test['category']+' '+test['class']+' '+test['question_title']+' '+test['question_body']\n",
        " \n",
        "\n",
        "\n"
      ],
      "execution_count": 0,
      "outputs": []
    },
    {
      "cell_type": "code",
      "metadata": {
        "id": "iPkHK5JvMJpY",
        "colab_type": "code",
        "colab": {}
      },
      "source": [
        "MAXLEN = 512 #@param {type:\"slider\", min:128, max:512, step:32}\n",
        "BATCH_SIZE = 4 #@param {type:'slider', min:1, max:32, step:1}\n",
        "NUM_EPOCHS = 3\n",
        "NUM_CLASSES = 30\n",
        "NUM_AUX = 6\n",
        "LR = 5e-5\n",
        "MIN_LR = 0\n",
        "model_path = 'bert_base_uncased' #@param ['bert_base_uncased', 'bert_base_cased', 'bert_large_uncased', 'albert_base']\n",
        "save_path = 'tmp'\n",
        "save_model = 'bbu5' \n",
        "CASED = False #@param ['True', 'False'] {type:\"raw\"}\n",
        "# OUTPUT_TRAIN = 'train_bert_ipredcv1415_oof.csv'\n",
        "# OUTPUT_TEST = 'test_bert_large.npy'\n",
        "# model_path = 'uncased_L-12_H-768_A-12' #@param ['uncased_L-12_H-768_A-12', 'wwm_uncased_L-24_H-1024_A-16', 'uncased_L-24_H-1024_A-16']\n",
        "# target_q_col = train.columns.tolist()[11:32]\n",
        "# target_a_col = train.columns.tolist()[32:42]\n"
      ],
      "execution_count": 0,
      "outputs": []
    },
    {
      "cell_type": "markdown",
      "metadata": {
        "id": "MknUuh8pFpq0",
        "colab_type": "text"
      },
      "source": [
        "## Bert tokenizer"
      ]
    },
    {
      "cell_type": "code",
      "metadata": {
        "id": "hb2llbNDMhVm",
        "colab_type": "code",
        "colab": {}
      },
      "source": [
        "token_dict = {}\n",
        "with codecs.open(os.path.join(model_path, 'assets/vocab.txt'), 'r', 'utf8') as reader:\n",
        "    for line in reader:\n",
        "        token = line.strip()\n",
        "        token_dict[token] = len(token_dict)\n",
        "tokenizer = Tokenizer(token_dict, cased=CASED)\n",
        "\n",
        "def convert_data(data_df, branch='training'):\n",
        "    data_df = data_df.reset_index(drop=True)\n",
        "    global tokenizer\n",
        "    global MAXLEN\n",
        "    global target_col\n",
        "    ids, segments = [], []\n",
        "    # q_title, q_body, answer = [], [], []\n",
        "    for i in tqdm(range(len(data_df))):\n",
        "        a, _ = tokenizer.encode(data_df.loc[i, 'question'])\n",
        "        b, _ = tokenizer.encode(data_df.loc[i, 'answer'])\n",
        "        if len(a) + len(b) >512:\n",
        "            if (len(a) > 256) & (len(b) > 256):\n",
        "                a, b = a[:256], b[:256]\n",
        "            elif len(a) > len(b):\n",
        "                a = a[:(512-len(b))]\n",
        "            elif len(a) <= len(b):\n",
        "                b = b[:(512-len(a))]\n",
        "        ids.append(a + b)\n",
        "        segments.append([0] * len(a) + [1] * len(b))\n",
        "    # aux = data_df[['question_viewed_times', 'question_votes', 'answer_counts', 'answer_votes', 'answer_user_reputation', 'question_user_reputation']]\n",
        "    # aux = aux.apply(lambda x: (x - x.mean()) / x.std())             \n",
        "    if branch == 'training':\n",
        "        targets = data_df[target_col]\n",
        "        return [ids, segments], np.array(targets)\n",
        "        # return [ids, segments], np.array(aux, dtype='float32'), np.array(targets)\n",
        "    else:\n",
        "        # return [ids, segments], np.array(aux, dtype='float32')\n",
        "        return [ids, segments]"
      ],
      "execution_count": 0,
      "outputs": []
    },
    {
      "cell_type": "code",
      "metadata": {
        "id": "jh7qwb8ZMlbK",
        "colab_type": "code",
        "colab": {}
      },
      "source": [
        "\"\"\"## Data Generator\"\"\"\n",
        "def seq_padding(X, padding=0):\n",
        "    L = [len(x) for x in X]\n",
        "    ML = min(max(L), MAXLEN)\n",
        "    # ML = MAXLEN\n",
        "    out = np.array([np.concatenate([x, [padding] * (ML - len(x))]) if len(x) < ML else x[:ML] for x in X])\n",
        "    return tf.convert_to_tensor(out, dtype=tf.int32)\n",
        "    \n",
        "def get_masks(X, padding=0):\n",
        "    L = [len(x) for x in X]\n",
        "    ML = min(max(L), MAXLEN)\n",
        "    # ML = MAXLEN\n",
        "    out = np.array([np.concatenate([[1]*len(x), [padding] * (ML - len(x))]) if len(x) < ML else [1]*ML for x in X])\n",
        "    return tf.convert_to_tensor(out, dtype=tf.int32)\n",
        "\n",
        "class data_generator:\n",
        "    def __init__(self, data, batch_size=BATCH_SIZE, branch='train'):\n",
        "        self.data = data\n",
        "        self.batch_size = batch_size\n",
        "        self.branch = branch\n",
        "        # self.q_a = q_a\n",
        "        self.steps = len(self.data) // self.batch_size\n",
        "        if len(self.data) % self.batch_size != 0:\n",
        "            self.steps += 1\n",
        "\n",
        "    def __len__(self):\n",
        "        return self.steps\n",
        "\n",
        "    def __iter__(self):\n",
        "        while True:\n",
        "            if self.branch == 'train':\n",
        "                np.random.shuffle(self.data)\n",
        "            for i in range(self.steps):\n",
        "                d = self.data[i * self.batch_size: (i + 1) * self.batch_size]\n",
        "                X1 = seq_padding([x[0] for x in d])\n",
        "                X2 = get_masks([x[0] for x in d])    \n",
        "                X3 = seq_padding([x[1] for x in d])\n",
        "                # X3 = np.zeros_like(X1)\n",
        "\n",
        "                aux = tf.convert_to_tensor([x[2] for x in d], dtype=tf.float32)\n",
        "                if self.branch == 'test':\n",
        "                    # aux = np.array([x[3] for x in d])\n",
        "                    yield [X1, X2, X3]\n",
        "                    # yield [X1, X2, X3, X4, X5, X6]\n",
        "                else:\n",
        "                    Y = tf.convert_to_tensor([x[2] for x in d], dtype=tf.float32)\n",
        "                    # aux = np.array([x[4] for x in d])\n",
        "                    yield [X1, X2, X3], Y\n",
        "                    # yield [X1, X2, X3, X4, X5, X6], Y\n"
      ],
      "execution_count": 0,
      "outputs": []
    },
    {
      "cell_type": "code",
      "metadata": {
        "id": "PZvVEWF62IdS",
        "colab_type": "code",
        "colab": {}
      },
      "source": [
        "def model_build(len_train):\n",
        "    global NUM_CLASSES\n",
        "    global BATCH_SIZE\n",
        "    global NUM_EPOCHS\n",
        "    global MIN_LR\n",
        "    global LR\n",
        "    global MAXLEN\n",
        "    global model_path\n",
        "    global NUM_AUX\n",
        " \n",
        "    q_in = keras.layers.Input(shape=(None,), dtype=tf.int32, name=\"q_input_word_ids\")\n",
        "    q2_in = keras.layers.Input(shape=(None,), dtype=tf.int32, name=\"q_input_masks\")\n",
        "    q3_in = keras.layers.Input(shape=(None,), dtype=tf.int32, name=\"q_segment_ids\")\n",
        "\n",
        "\n",
        "    bert_layer = hub.KerasLayer(model_path, trainable=True)\n",
        "    _, q_inputs  = bert_layer([q_in, q2_in, q3_in])\n",
        "    # q_outputs = keras.layers.Lambda(lambda x: x[:, 0])(q_inputs)\n",
        "    q_outputs = keras.layers.GlobalAveragePooling1D()(q_inputs)\n",
        "    dense = keras.layers.Dropout(0.1)(q_outputs)\n",
        "\n",
        "    # dense = keras.layers.concatenate([dense, aux_in])\n",
        "    outputs = keras.layers.Dense(NUM_CLASSES, activation='sigmoid')(dense)\n",
        "    # aux_out = keras.layers.Dense(NUM_AUX)(dense)\n",
        "    model = keras.Model([q_in, q2_in, q3_in], [outputs])\n",
        "\n",
        "    decay_steps, warmup_steps = calc_train_steps(\n",
        "        len_train,\n",
        "        batch_size=BATCH_SIZE,\n",
        "        epochs=NUM_EPOCHS,\n",
        "    )\n",
        "\n",
        "    model.compile(\n",
        "        loss=['binary_crossentropy'],\n",
        "        # loss_weights = [10, 0.25],\n",
        "        optimizer=AdamWarmup(\n",
        "            decay_steps=decay_steps,\n",
        "            warmup_steps=warmup_steps,\n",
        "            lr=LR,\n",
        "            min_lr=MIN_LR,\n",
        "            ))\n",
        "    #      optimizer=keras.optimizers.Adam(LR),\n",
        "    # )\n",
        "\n",
        "    return model"
      ],
      "execution_count": 0,
      "outputs": []
    },
    {
      "cell_type": "markdown",
      "metadata": {
        "id": "N56RysQWJ6R1",
        "colab_type": "text"
      },
      "source": [
        "## train model"
      ]
    },
    {
      "cell_type": "code",
      "metadata": {
        "id": "1EWLYgjzR5Tk",
        "colab_type": "code",
        "colab": {}
      },
      "source": [
        "# pred = np.zeros((len(test), NUM_CLASSES))\n",
        "kf = RepeatedKFold(n_splits=10, n_repeats=1, random_state=1627)\n",
        "idx = [x for x in kf.split(train, groups=train.question_body)]\n",
        "# tr1, tr2 = train.loc[idx[0][0]], train.loc[idx[0][1]]\n",
        "# tr1 = tr1.reset_index(drop=True)\n",
        "# idx1 = [x for x in kf.split(tr1, groups=tr1.question_body)]\n",
        "\n",
        "\n",
        "def compute_spearmanr(trues, preds):\n",
        "    rhos = []\n",
        "    for col_trues, col_pred in zip(trues.T, preds.T):\n",
        "        rhos.append(spearmanr(col_trues, col_pred).correlation)\n",
        "    return np.mean(rhos)\n",
        "\n",
        "class IntervalEval(keras.callbacks.Callback):\n",
        "    def __init__(self):\n",
        "        global NUM_EPOCHS\n",
        "        global save_model\n",
        "        super(keras.callbacks.Callback, self).__init__()\n",
        "    def on_epoch_end(self, epoch, logs={}):\n",
        "        val_pred = self.model.predict_generator(valid_D.__iter__(), len(valid_D), verbose=1)\n",
        "        # pred = np.floor(val_pred[0] * 90) / 90\n",
        "        score = compute_spearmanr(val_y, val_pred)\n",
        "        print('Spearman - {:.5f}'.format(score))\n",
        "        if epoch>=NUM_EPOCHS-1:\n",
        "            print('--Save Model--')\n",
        "            self.model.save('drive/My Drive/GoogleQA/Models/{:}/{:}-{:}-{:}.h5'.format(save_path, save_model, i, epoch+1))\n"
      ],
      "execution_count": 0,
      "outputs": []
    },
    {
      "cell_type": "code",
      "metadata": {
        "id": "hH88F-DJMsTR",
        "colab_type": "code",
        "outputId": "f23feea9-a700-4b98-a67c-6dcae9b4bae6",
        "colab": {
          "base_uri": "https://localhost:8080/",
          "height": 1000
        }
      },
      "source": [
        "for i, (tr_idx, val_idx) in enumerate(idx, 1):\n",
        "    print('\\nFold - {:}\\n'.format(i))\n",
        "    tr, val = train.loc[tr_idx], train.loc[val_idx]\n",
        "    # tr_aux, val_aux = train_aux.loc[tr_idx], train_aux.loc[val_idx]\n",
        "    tr_x, tr_y = convert_data(tr)\n",
        "    val_x, val_y = convert_data(val)\n",
        "    \n",
        "    model = model_build(len(tr))\n",
        "\n",
        "    train_D = data_generator(list(zip(tr_x[0], tr_x[1], tr_y)))\n",
        "    valid_D = data_generator(list(zip(val_x[0], val_x[1], val_y)), branch='valid')\n",
        "    # test_D = data_generator(list(zip(test_x[0], test_x[1])), branch='test')\n",
        "    ieval = IntervalEval()\n",
        "    model.fit_generator(\n",
        "        train_D.__iter__(),\n",
        "        steps_per_epoch=len(train_D),\n",
        "        epochs=NUM_EPOCHS,\n",
        "        callbacks = [ieval]\n",
        "    )\n",
        "\n",
        "    gc.collect()"
      ],
      "execution_count": 14,
      "outputs": [
        {
          "output_type": "stream",
          "text": [
            "  1%|          | 28/5471 [00:00<00:22, 241.55it/s]"
          ],
          "name": "stderr"
        },
        {
          "output_type": "stream",
          "text": [
            "\n",
            "Fold - 1\n",
            "\n"
          ],
          "name": "stdout"
        },
        {
          "output_type": "stream",
          "text": [
            "100%|██████████| 5471/5471 [00:24<00:00, 227.95it/s]\n",
            "100%|██████████| 608/608 [00:01<00:00, 309.19it/s]\n"
          ],
          "name": "stderr"
        },
        {
          "output_type": "stream",
          "text": [
            "Train for 1368 steps\n",
            "Epoch 1/3\n",
            "152/152 [==============================] - 15s 99ms/step\n",
            "Spearman - 0.38144\n",
            "1368/1368 [==============================] - 461s 337ms/step - loss: 0.3986\n",
            "Epoch 2/3\n",
            "152/152 [==============================] - 14s 93ms/step\n",
            "Spearman - 0.40211\n",
            "1368/1368 [==============================] - 427s 312ms/step - loss: 0.3597\n",
            "Epoch 3/3\n",
            "152/152 [==============================] - 14s 92ms/step\n",
            "Spearman - 0.40181\n",
            "--Save Model--\n",
            "1368/1368 [==============================] - 432s 316ms/step - loss: 0.3349\n"
          ],
          "name": "stdout"
        },
        {
          "output_type": "stream",
          "text": [
            "  1%|          | 30/5471 [00:00<00:20, 266.42it/s]"
          ],
          "name": "stderr"
        },
        {
          "output_type": "stream",
          "text": [
            "\n",
            "Fold - 2\n",
            "\n"
          ],
          "name": "stdout"
        },
        {
          "output_type": "stream",
          "text": [
            "100%|██████████| 5471/5471 [00:24<00:00, 220.70it/s]\n",
            "100%|██████████| 608/608 [00:01<00:00, 308.48it/s]\n"
          ],
          "name": "stderr"
        },
        {
          "output_type": "stream",
          "text": [
            "Train for 1368 steps\n",
            "Epoch 1/3\n",
            "152/152 [==============================] - 15s 99ms/step\n",
            "Spearman - 0.36402\n",
            "1368/1368 [==============================] - 457s 334ms/step - loss: 0.3994\n",
            "Epoch 2/3\n",
            "152/152 [==============================] - 14s 93ms/step\n",
            "Spearman - 0.39102\n",
            "1368/1368 [==============================] - 428s 313ms/step - loss: 0.3599\n",
            "Epoch 3/3\n",
            "152/152 [==============================] - 14s 93ms/step\n",
            "Spearman - 0.39570\n",
            "--Save Model--\n",
            "1368/1368 [==============================] - 436s 319ms/step - loss: 0.3342\n"
          ],
          "name": "stdout"
        },
        {
          "output_type": "stream",
          "text": [
            "  1%|          | 28/5471 [00:00<00:19, 277.22it/s]"
          ],
          "name": "stderr"
        },
        {
          "output_type": "stream",
          "text": [
            "\n",
            "Fold - 3\n",
            "\n"
          ],
          "name": "stdout"
        },
        {
          "output_type": "stream",
          "text": [
            "100%|██████████| 5471/5471 [00:24<00:00, 220.99it/s]\n",
            "100%|██████████| 608/608 [00:01<00:00, 308.13it/s]\n"
          ],
          "name": "stderr"
        },
        {
          "output_type": "stream",
          "text": [
            "Train for 1368 steps\n",
            "Epoch 1/3\n",
            "152/152 [==============================] - 15s 102ms/step\n",
            "Spearman - 0.36229\n",
            "1368/1368 [==============================] - 457s 334ms/step - loss: 0.4021\n",
            "Epoch 2/3\n",
            "152/152 [==============================] - 14s 93ms/step\n",
            "Spearman - 0.39022\n",
            "1368/1368 [==============================] - 427s 312ms/step - loss: 0.3602\n",
            "Epoch 3/3\n",
            "152/152 [==============================] - 14s 95ms/step\n",
            "Spearman - 0.39117\n",
            "--Save Model--\n",
            "1368/1368 [==============================] - 433s 317ms/step - loss: 0.3349\n"
          ],
          "name": "stdout"
        },
        {
          "output_type": "stream",
          "text": [
            "  1%|          | 28/5471 [00:00<00:19, 279.90it/s]"
          ],
          "name": "stderr"
        },
        {
          "output_type": "stream",
          "text": [
            "\n",
            "Fold - 4\n",
            "\n"
          ],
          "name": "stdout"
        },
        {
          "output_type": "stream",
          "text": [
            "100%|██████████| 5471/5471 [00:24<00:00, 220.46it/s]\n",
            "100%|██████████| 608/608 [00:02<00:00, 286.00it/s]\n"
          ],
          "name": "stderr"
        },
        {
          "output_type": "stream",
          "text": [
            "Train for 1368 steps\n",
            "Epoch 1/3\n",
            "152/152 [==============================] - 15s 100ms/step\n",
            "Spearman - 0.37488\n",
            "1368/1368 [==============================] - 461s 337ms/step - loss: 0.3995\n",
            "Epoch 2/3\n",
            "152/152 [==============================] - 14s 92ms/step\n",
            "Spearman - 0.40840\n",
            "1368/1368 [==============================] - 427s 312ms/step - loss: 0.3598\n",
            "Epoch 3/3\n",
            "152/152 [==============================] - 14s 93ms/step\n",
            "Spearman - 0.41029\n",
            "--Save Model--\n",
            "1368/1368 [==============================] - 435s 318ms/step - loss: 0.3340\n"
          ],
          "name": "stdout"
        },
        {
          "output_type": "stream",
          "text": [
            "  0%|          | 24/5471 [00:00<00:22, 236.94it/s]"
          ],
          "name": "stderr"
        },
        {
          "output_type": "stream",
          "text": [
            "\n",
            "Fold - 5\n",
            "\n"
          ],
          "name": "stdout"
        },
        {
          "output_type": "stream",
          "text": [
            "100%|██████████| 5471/5471 [00:24<00:00, 219.35it/s]\n",
            "100%|██████████| 608/608 [00:02<00:00, 292.69it/s]\n"
          ],
          "name": "stderr"
        },
        {
          "output_type": "stream",
          "text": [
            "Train for 1368 steps\n",
            "Epoch 1/3\n",
            "152/152 [==============================] - 15s 98ms/step\n",
            "Spearman - 0.36570\n",
            "1368/1368 [==============================] - 459s 336ms/step - loss: 0.4013\n",
            "Epoch 2/3\n",
            "152/152 [==============================] - 14s 91ms/step\n",
            "Spearman - 0.40225\n",
            "1368/1368 [==============================] - 429s 314ms/step - loss: 0.3604\n",
            "Epoch 3/3\n",
            "152/152 [==============================] - 14s 91ms/step\n",
            "Spearman - 0.39973\n",
            "--Save Model--\n",
            "1368/1368 [==============================] - 433s 317ms/step - loss: 0.3351\n"
          ],
          "name": "stdout"
        },
        {
          "output_type": "stream",
          "text": [
            "  1%|          | 29/5471 [00:00<00:18, 288.99it/s]"
          ],
          "name": "stderr"
        },
        {
          "output_type": "stream",
          "text": [
            "\n",
            "Fold - 6\n",
            "\n"
          ],
          "name": "stdout"
        },
        {
          "output_type": "stream",
          "text": [
            "100%|██████████| 5471/5471 [00:24<00:00, 225.75it/s]\n",
            "100%|██████████| 608/608 [00:01<00:00, 307.90it/s]\n"
          ],
          "name": "stderr"
        },
        {
          "output_type": "stream",
          "text": [
            "Train for 1368 steps\n",
            "Epoch 1/3\n",
            "152/152 [==============================] - 15s 101ms/step\n",
            "Spearman - 0.38236\n",
            "1368/1368 [==============================] - 459s 335ms/step - loss: 0.4003\n",
            "Epoch 2/3\n",
            "152/152 [==============================] - 14s 94ms/step\n",
            "Spearman - 0.40493\n",
            "1368/1368 [==============================] - 430s 314ms/step - loss: 0.3593\n",
            "Epoch 3/3\n",
            "152/152 [==============================] - 14s 94ms/step\n",
            "Spearman - 0.40859\n",
            "--Save Model--\n",
            "1368/1368 [==============================] - 437s 319ms/step - loss: 0.3337\n"
          ],
          "name": "stdout"
        },
        {
          "output_type": "stream",
          "text": [
            "  1%|          | 30/5471 [00:00<00:18, 293.94it/s]"
          ],
          "name": "stderr"
        },
        {
          "output_type": "stream",
          "text": [
            "\n",
            "Fold - 7\n",
            "\n"
          ],
          "name": "stdout"
        },
        {
          "output_type": "stream",
          "text": [
            "100%|██████████| 5471/5471 [00:24<00:00, 223.00it/s]\n",
            "100%|██████████| 608/608 [00:02<00:00, 282.01it/s]\n"
          ],
          "name": "stderr"
        },
        {
          "output_type": "stream",
          "text": [
            "Train for 1368 steps\n",
            "Epoch 1/3\n",
            "152/152 [==============================] - 15s 100ms/step\n",
            "Spearman - nan\n",
            "1368/1368 [==============================] - 457s 334ms/step - loss: 0.4036\n",
            "Epoch 2/3\n"
          ],
          "name": "stdout"
        },
        {
          "output_type": "stream",
          "text": [
            "/usr/local/lib/python3.6/dist-packages/numpy/lib/function_base.py:2534: RuntimeWarning: invalid value encountered in true_divide\n",
            "  c /= stddev[:, None]\n",
            "/usr/local/lib/python3.6/dist-packages/numpy/lib/function_base.py:2535: RuntimeWarning: invalid value encountered in true_divide\n",
            "  c /= stddev[None, :]\n",
            "/usr/local/lib/python3.6/dist-packages/scipy/stats/_distn_infrastructure.py:901: RuntimeWarning: invalid value encountered in greater\n",
            "  return (a < x) & (x < b)\n",
            "/usr/local/lib/python3.6/dist-packages/scipy/stats/_distn_infrastructure.py:901: RuntimeWarning: invalid value encountered in less\n",
            "  return (a < x) & (x < b)\n",
            "/usr/local/lib/python3.6/dist-packages/scipy/stats/_distn_infrastructure.py:1892: RuntimeWarning: invalid value encountered in less_equal\n",
            "  cond2 = cond0 & (x <= _a)\n"
          ],
          "name": "stderr"
        },
        {
          "output_type": "stream",
          "text": [
            "152/152 [==============================] - 14s 93ms/step\n",
            "Spearman - nan\n",
            "1368/1368 [==============================] - 428s 313ms/step - loss: 0.3613\n",
            "Epoch 3/3\n",
            "152/152 [==============================] - 14s 93ms/step\n",
            "Spearman - nan\n",
            "--Save Model--\n",
            "1368/1368 [==============================] - 435s 318ms/step - loss: 0.3361\n"
          ],
          "name": "stdout"
        },
        {
          "output_type": "stream",
          "text": [
            "  1%|          | 30/5471 [00:00<00:18, 292.92it/s]"
          ],
          "name": "stderr"
        },
        {
          "output_type": "stream",
          "text": [
            "\n",
            "Fold - 8\n",
            "\n"
          ],
          "name": "stdout"
        },
        {
          "output_type": "stream",
          "text": [
            "100%|██████████| 5471/5471 [00:24<00:00, 222.17it/s]\n",
            "100%|██████████| 608/608 [00:02<00:00, 293.67it/s]\n"
          ],
          "name": "stderr"
        },
        {
          "output_type": "stream",
          "text": [
            "Train for 1368 steps\n",
            "Epoch 1/3\n",
            "152/152 [==============================] - 15s 99ms/step\n",
            "Spearman - 0.38009\n",
            "1368/1368 [==============================] - 458s 335ms/step - loss: 0.4015\n",
            "Epoch 2/3\n",
            "152/152 [==============================] - 14s 92ms/step\n",
            "Spearman - 0.41104\n",
            "1368/1368 [==============================] - 428s 313ms/step - loss: 0.3593\n",
            "Epoch 3/3\n",
            "152/152 [==============================] - 14s 92ms/step\n",
            "Spearman - 0.40852\n",
            "--Save Model--\n",
            "1368/1368 [==============================] - 436s 319ms/step - loss: 0.3347\n"
          ],
          "name": "stdout"
        },
        {
          "output_type": "stream",
          "text": [
            "  0%|          | 27/5471 [00:00<00:22, 245.00it/s]"
          ],
          "name": "stderr"
        },
        {
          "output_type": "stream",
          "text": [
            "\n",
            "Fold - 9\n",
            "\n"
          ],
          "name": "stdout"
        },
        {
          "output_type": "stream",
          "text": [
            "100%|██████████| 5471/5471 [00:25<00:00, 216.98it/s]\n",
            "100%|██████████| 608/608 [00:01<00:00, 311.31it/s]\n"
          ],
          "name": "stderr"
        },
        {
          "output_type": "stream",
          "text": [
            "Train for 1368 steps\n",
            "Epoch 1/3\n",
            "152/152 [==============================] - 15s 99ms/step\n",
            "Spearman - 0.36831\n",
            "1368/1368 [==============================] - 456s 333ms/step - loss: 0.4022\n",
            "Epoch 2/3\n",
            "152/152 [==============================] - 14s 92ms/step\n",
            "Spearman - 0.39010\n",
            "1368/1368 [==============================] - 426s 311ms/step - loss: 0.3605\n",
            "Epoch 3/3\n",
            "152/152 [==============================] - 14s 92ms/step\n",
            "Spearman - 0.39625\n",
            "--Save Model--\n",
            "1368/1368 [==============================] - 433s 317ms/step - loss: 0.3348\n"
          ],
          "name": "stdout"
        },
        {
          "output_type": "stream",
          "text": [
            "  1%|          | 31/5472 [00:00<00:19, 277.95it/s]"
          ],
          "name": "stderr"
        },
        {
          "output_type": "stream",
          "text": [
            "\n",
            "Fold - 10\n",
            "\n"
          ],
          "name": "stdout"
        },
        {
          "output_type": "stream",
          "text": [
            "100%|██████████| 5472/5472 [00:17<00:00, 305.87it/s]\n",
            "100%|██████████| 607/607 [00:09<00:00, 67.29it/s] \n"
          ],
          "name": "stderr"
        },
        {
          "output_type": "stream",
          "text": [
            "Train for 1368 steps\n",
            "Epoch 1/3\n",
            "152/152 [==============================] - 15s 100ms/step\n",
            "Spearman - 0.38546\n",
            "1368/1368 [==============================] - 455s 333ms/step - loss: 0.4022\n",
            "Epoch 2/3\n",
            "152/152 [==============================] - 14s 94ms/step\n",
            "Spearman - 0.41034\n",
            "1368/1368 [==============================] - 425s 311ms/step - loss: 0.3610\n",
            "Epoch 3/3\n",
            "152/152 [==============================] - 14s 94ms/step\n",
            "Spearman - 0.40808\n",
            "--Save Model--\n",
            "1368/1368 [==============================] - 434s 317ms/step - loss: 0.3357\n"
          ],
          "name": "stdout"
        }
      ]
    },
    {
      "cell_type": "markdown",
      "metadata": {
        "id": "JudYQut5qdbJ",
        "colab_type": "text"
      },
      "source": [
        "## oof-prediction"
      ]
    },
    {
      "cell_type": "code",
      "metadata": {
        "id": "rSibMadEfi_P",
        "colab_type": "code",
        "colab": {}
      },
      "source": [
        "model = model_build(len(train))\n",
        "oof_pred = train.copy()\n",
        "oof_pred[target_col] = 0"
      ],
      "execution_count": 0,
      "outputs": []
    },
    {
      "cell_type": "code",
      "metadata": {
        "id": "XWNNEfR8qnG5",
        "colab_type": "code",
        "colab": {
          "base_uri": "https://localhost:8080/",
          "height": 607
        },
        "outputId": "03de13eb-c44f-4e42-8053-a72e6b2fcf9c"
      },
      "source": [
        "for i, (tr_idx, val_idx) in enumerate(idx, 1):\n",
        "    print('\\nFold - {:}\\n'.format(i))\n",
        "    tr, val = train.loc[tr_idx], train.loc[val_idx]\n",
        "\n",
        "    val_x, val_y = convert_data(val)\n",
        "    valid_D = data_generator(list(zip(val_x[0], val_x[1], val_y)), branch='valid')\n",
        "\n",
        "    model.load_weights('drive/My Drive/GoogleQA/Models/{}/{}-{}-3.h5'.format(save_path, save_model, i))\n",
        "    val_pred = model.predict_generator(valid_D.__iter__(), len(valid_D), verbose=1)\n",
        "    oof_pred.loc[val_idx, target_col] += val_pred #/2\n",
        "\n",
        "    \n",
        "    score = compute_spearmanr(val_y, val_pred)\n",
        "    print('Spearman - {:.5f}'.format(score))\n",
        "\n",
        "    gc.collect()\n",
        "\n",
        "oof_pred.to_csv('drive/My Drive/GoogleQA/Data/train_oof_pred_bbu5.csv', index=False)"
      ],
      "execution_count": 0,
      "outputs": [
        {
          "output_type": "stream",
          "text": [
            "  5%|▍         | 29/608 [00:00<00:01, 289.63it/s]"
          ],
          "name": "stderr"
        },
        {
          "output_type": "stream",
          "text": [
            "\n",
            "Fold - 1\n",
            "\n"
          ],
          "name": "stdout"
        },
        {
          "output_type": "stream",
          "text": [
            "100%|██████████| 608/608 [00:01<00:00, 310.82it/s]\n"
          ],
          "name": "stderr"
        },
        {
          "output_type": "stream",
          "text": [
            "152/152 [==============================] - 17s 109ms/step\n",
            "Spearman - 0.40181"
          ],
          "name": "stdout"
        },
        {
          "output_type": "stream",
          "text": [
            "  6%|▌         | 37/608 [00:00<00:01, 368.22it/s]"
          ],
          "name": "stderr"
        },
        {
          "output_type": "stream",
          "text": [
            "\n",
            "\n",
            "Fold - 2\n",
            "\n"
          ],
          "name": "stdout"
        },
        {
          "output_type": "stream",
          "text": [
            "100%|██████████| 608/608 [00:01<00:00, 338.26it/s]\n"
          ],
          "name": "stderr"
        },
        {
          "output_type": "stream",
          "text": [
            "152/152 [==============================] - 14s 94ms/step\n",
            "Spearman - 0.39570\n"
          ],
          "name": "stdout"
        },
        {
          "output_type": "stream",
          "text": [
            "\r  0%|          | 0/608 [00:00<?, ?it/s]"
          ],
          "name": "stderr"
        },
        {
          "output_type": "stream",
          "text": [
            "\n",
            "Fold - 3\n",
            "\n"
          ],
          "name": "stdout"
        },
        {
          "output_type": "stream",
          "text": [
            "100%|██████████| 608/608 [00:01<00:00, 327.62it/s]\n"
          ],
          "name": "stderr"
        },
        {
          "output_type": "stream",
          "text": [
            "152/152 [==============================] - 14s 94ms/step\n",
            "Spearman - 0.39117"
          ],
          "name": "stdout"
        },
        {
          "output_type": "stream",
          "text": [
            "  5%|▍         | 29/608 [00:00<00:01, 289.75it/s]"
          ],
          "name": "stderr"
        },
        {
          "output_type": "stream",
          "text": [
            "\n",
            "\n",
            "Fold - 4\n",
            "\n"
          ],
          "name": "stdout"
        },
        {
          "output_type": "stream",
          "text": [
            "100%|██████████| 608/608 [00:01<00:00, 322.61it/s]\n"
          ],
          "name": "stderr"
        },
        {
          "output_type": "stream",
          "text": [
            "152/152 [==============================] - 14s 93ms/step\n",
            "Spearman - 0.41029\n"
          ],
          "name": "stdout"
        },
        {
          "output_type": "stream",
          "text": [
            "\r  0%|          | 0/608 [00:00<?, ?it/s]"
          ],
          "name": "stderr"
        },
        {
          "output_type": "stream",
          "text": [
            "\n",
            "Fold - 5\n",
            "\n"
          ],
          "name": "stdout"
        },
        {
          "output_type": "stream",
          "text": [
            "100%|██████████| 608/608 [00:01<00:00, 324.18it/s]\n"
          ],
          "name": "stderr"
        },
        {
          "output_type": "stream",
          "text": [
            "152/152 [==============================] - 14s 91ms/step\n",
            "Spearman - 0.39973\n"
          ],
          "name": "stdout"
        },
        {
          "output_type": "stream",
          "text": [
            "\r  0%|          | 0/608 [00:00<?, ?it/s]"
          ],
          "name": "stderr"
        },
        {
          "output_type": "stream",
          "text": [
            "\n",
            "Fold - 6\n",
            "\n"
          ],
          "name": "stdout"
        },
        {
          "output_type": "stream",
          "text": [
            "100%|██████████| 608/608 [00:01<00:00, 334.49it/s]\n"
          ],
          "name": "stderr"
        }
      ]
    },
    {
      "cell_type": "code",
      "metadata": {
        "id": "oJtt8Lkw-OOm",
        "colab_type": "code",
        "outputId": "85ede573-cc75-4ad8-e20d-c0803ff2a0fb",
        "colab": {
          "base_uri": "https://localhost:8080/",
          "height": 34
        }
      },
      "source": [
        "# bbu3: 0.42130\n",
        "# bbu5: \n",
        "compute_spearmanr(np.floor(oof_pred[target_col].values*90)/90, train[target_col].values)"
      ],
      "execution_count": 0,
      "outputs": [
        {
          "output_type": "execute_result",
          "data": {
            "text/plain": [
              "0.4213022239256377"
            ]
          },
          "metadata": {
            "tags": []
          },
          "execution_count": 27
        }
      ]
    },
    {
      "cell_type": "code",
      "metadata": {
        "id": "xuw9F53uPMoC",
        "colab_type": "code",
        "colab": {}
      },
      "source": [
        "oof_pred = pd.read_csv('drive/My Drive/GoogleQA/Data/train_oof_pred.csv')"
      ],
      "execution_count": 0,
      "outputs": []
    },
    {
      "cell_type": "code",
      "metadata": {
        "id": "fIhc1XcOQ41p",
        "colab_type": "code",
        "outputId": "c1326203-8bcc-45f5-9ebd-cd7c4935c8da",
        "colab": {
          "base_uri": "https://localhost:8080/",
          "height": 521
        }
      },
      "source": [
        "corrparams = {'p': hp.randint('p', len(oof_pred))}\n",
        "from functools import partial\n",
        "\n",
        "\n",
        "def f_min(params, col):\n",
        "    tmp = oof_pred.copy()[col].values\n",
        "    # colidx = target_col.index(col)\n",
        "    rowidx = tmp.argsort()[:params['p']]\n",
        "    tmp[rowidx] = 0\n",
        "    score = spearmanr(train[col].values, tmp).correlation\n",
        "    return {'loss': -round(score, 5), 'status': STATUS_OK}\n",
        "\n",
        "score = []\n",
        "for col in target_col:\n",
        "    f = partial(f_min, col=col)\n",
        "    trials = Trials()\n",
        "    best = fmin(f, corrparams, tpe.suggest, 100, rstate=np.random.RandomState(0), trials=trials, show_progressbar=False)\n",
        "    print('{} - {} - {:.2f}'.format(col, -trials.best_trial['result']['loss'], best['p']/len(oof_pred)))\n",
        "    score.append(-trials.best_trial['result']['loss'])\n",
        "\n"
      ],
      "execution_count": 0,
      "outputs": [
        {
          "output_type": "stream",
          "text": [
            "question_asker_intent_understanding - 0.37869 - 0.00\n",
            "question_body_critical - 0.62999 - 0.00\n",
            "question_conversational - 0.50808 - 0.91\n",
            "question_expect_short_answer - 0.30653 - 0.00\n",
            "question_fact_seeking - 0.37795 - 0.00\n",
            "question_has_commonly_accepted_answer - 0.43624 - 0.00\n",
            "question_interestingness_others - 0.34862 - 0.24\n",
            "question_interestingness_self - 0.50938 - 0.53\n",
            "question_multi_intent - 0.58301 - 0.40\n",
            "question_not_really_a_question - 0.10707 - 0.88\n",
            "question_opinion_seeking - 0.48817 - 0.04\n",
            "question_type_choice - 0.75155 - 0.48\n",
            "question_type_compare - 0.53939 - 0.95\n",
            "question_type_consequence - 0.25704 - 0.99\n",
            "question_type_definition - 0.63655 - 0.93\n",
            "question_type_entity - 0.61179 - 0.88\n",
            "question_type_instructions - 0.78876 - 0.26\n",
            "question_type_procedure - 0.35947 - 0.07\n",
            "question_type_reason_explanation - 0.67579 - 0.20\n",
            "question_type_spelling - 0.16542 - 1.00\n",
            "question_well_written - 0.52394 - 0.09\n",
            "answer_helpful - 0.23555 - 0.00\n",
            "answer_level_of_information - 0.41974 - 0.00\n",
            "answer_plausible - 0.16575 - 0.00\n",
            "answer_relevance - 0.18567 - 0.00\n",
            "answer_satisfaction - 0.33193 - 0.00\n",
            "answer_type_instructions - 0.76775 - 0.24\n",
            "answer_type_procedure - 0.28892 - 0.04\n",
            "answer_type_reason_explanation - 0.68453 - 0.08\n",
            "answer_well_written - 0.18758 - 0.17\n"
          ],
          "name": "stdout"
        }
      ]
    },
    {
      "cell_type": "code",
      "metadata": {
        "id": "WTzolfJeWgXR",
        "colab_type": "code",
        "outputId": "6071e384-9480-496f-eb58-5ae1247f0649",
        "colab": {
          "base_uri": "https://localhost:8080/",
          "height": 34
        }
      },
      "source": [
        "print(np.mean(score))"
      ],
      "execution_count": 0,
      "outputs": [
        {
          "output_type": "stream",
          "text": [
            "0.441695\n"
          ],
          "name": "stdout"
        }
      ]
    },
    {
      "cell_type": "code",
      "metadata": {
        "id": "lEipidcsPrle",
        "colab_type": "code",
        "outputId": "4fbae944-5521-4943-d223-94b28f698c9f",
        "colab": {
          "base_uri": "https://localhost:8080/",
          "height": 521
        }
      },
      "source": [
        "for col, col_trues, col_pred in zip(target_col, train[target_col].values.T, oof_pred[target_col].values.T):\n",
        "    corr = spearmanr(col_trues, col_pred).correlation\n",
        "    print('{} - {:.5f}'.format(col, corr))"
      ],
      "execution_count": 0,
      "outputs": [
        {
          "output_type": "stream",
          "text": [
            "question_asker_intent_understanding - 0.37869\n",
            "question_body_critical - 0.62999\n",
            "question_conversational - 0.41516\n",
            "question_expect_short_answer - 0.30652\n",
            "question_fact_seeking - 0.37796\n",
            "question_has_commonly_accepted_answer - 0.43624\n",
            "question_interestingness_others - 0.34694\n",
            "question_interestingness_self - 0.49711\n",
            "question_multi_intent - 0.57917\n",
            "question_not_really_a_question - 0.07784\n",
            "question_opinion_seeking - 0.48814\n",
            "question_type_choice - 0.73322\n",
            "question_type_compare - 0.36039\n",
            "question_type_consequence - 0.18191\n",
            "question_type_definition - 0.36164\n",
            "question_type_entity - 0.46276\n",
            "question_type_instructions - 0.78688\n",
            "question_type_procedure - 0.35943\n",
            "question_type_reason_explanation - 0.67554\n",
            "question_type_spelling - 0.06805\n",
            "question_well_written - 0.52352\n",
            "answer_helpful - 0.23555\n",
            "answer_level_of_information - 0.41975\n",
            "answer_plausible - 0.16574\n",
            "answer_relevance - 0.18567\n",
            "answer_satisfaction - 0.33193\n",
            "answer_type_instructions - 0.76661\n",
            "answer_type_procedure - 0.28892\n",
            "answer_type_reason_explanation - 0.68451\n",
            "answer_well_written - 0.18723\n"
          ],
          "name": "stdout"
        }
      ]
    },
    {
      "cell_type": "code",
      "metadata": {
        "id": "9cegkGSpSHCx",
        "colab_type": "code",
        "outputId": "f9057584-d708-4e4b-c506-b2f67f05d412",
        "colab": {
          "base_uri": "https://localhost:8080/",
          "height": 521
        }
      },
      "source": [
        "for col, col_trues, col_pred in zip(target_col, train[target_col].values.T, (np.floor(oof_pred[target_col].values *90)/90).T):\n",
        "    corr = spearmanr(col_trues, col_pred).correlation\n",
        "    print('{} - {:.5f}'.format(col, corr))"
      ],
      "execution_count": 0,
      "outputs": [
        {
          "output_type": "stream",
          "text": [
            "question_asker_intent_understanding - 0.37761\n",
            "question_body_critical - 0.63009\n",
            "question_conversational - 0.44532\n",
            "question_expect_short_answer - 0.30656\n",
            "question_fact_seeking - 0.37719\n",
            "question_has_commonly_accepted_answer - 0.43661\n",
            "question_interestingness_others - 0.34643\n",
            "question_interestingness_self - 0.49692\n",
            "question_multi_intent - 0.57949\n",
            "question_not_really_a_question - 0.10288\n",
            "question_opinion_seeking - 0.48791\n",
            "question_type_choice - 0.73357\n",
            "question_type_compare - 0.39868\n",
            "question_type_consequence - 0.20775\n",
            "question_type_definition - 0.47134\n",
            "question_type_entity - 0.48330\n",
            "question_type_instructions - 0.78705\n",
            "question_type_procedure - 0.35963\n",
            "question_type_reason_explanation - 0.67561\n",
            "question_type_spelling - 0.15789\n",
            "question_well_written - 0.52359\n",
            "answer_helpful - 0.23444\n",
            "answer_level_of_information - 0.41842\n",
            "answer_plausible - 0.16095\n",
            "answer_relevance - 0.18324\n",
            "answer_satisfaction - 0.32933\n",
            "answer_type_instructions - 0.76696\n",
            "answer_type_procedure - 0.28885\n",
            "answer_type_reason_explanation - 0.68454\n",
            "answer_well_written - 0.18691\n"
          ],
          "name": "stdout"
        }
      ]
    },
    {
      "cell_type": "markdown",
      "metadata": {
        "id": "H4pu4zbKpBAW",
        "colab_type": "text"
      },
      "source": [
        "## test prediction"
      ]
    },
    {
      "cell_type": "code",
      "metadata": {
        "id": "V2J1yS8HpCrx",
        "colab_type": "code",
        "outputId": "33503632-4bd6-428d-d6e5-696f1e5f55a4",
        "colab": {
          "base_uri": "https://localhost:8080/",
          "height": 662
        }
      },
      "source": [
        "test_pred = pd.read_csv('drive/My Drive/GoogleQA/Data/test_oof_pred.csv')\n",
        "hyper = pd.read_csv('drive/My Drive/GoogleQA/Data/hyper.csv')\n",
        "pred = test_pred[target_col].copy().values"
      ],
      "execution_count": 0,
      "outputs": [
        {
          "output_type": "execute_result",
          "data": {
            "text/html": [
              "<div>\n",
              "<style scoped>\n",
              "    .dataframe tbody tr th:only-of-type {\n",
              "        vertical-align: middle;\n",
              "    }\n",
              "\n",
              "    .dataframe tbody tr th {\n",
              "        vertical-align: top;\n",
              "    }\n",
              "\n",
              "    .dataframe thead th {\n",
              "        text-align: right;\n",
              "    }\n",
              "</style>\n",
              "<table border=\"1\" class=\"dataframe\">\n",
              "  <thead>\n",
              "    <tr style=\"text-align: right;\">\n",
              "      <th></th>\n",
              "      <th>col</th>\n",
              "      <th>pct</th>\n",
              "    </tr>\n",
              "  </thead>\n",
              "  <tbody>\n",
              "    <tr>\n",
              "      <th>0</th>\n",
              "      <td>question_conversational</td>\n",
              "      <td>0.91</td>\n",
              "    </tr>\n",
              "    <tr>\n",
              "      <th>1</th>\n",
              "      <td>question_interestingness_others</td>\n",
              "      <td>0.24</td>\n",
              "    </tr>\n",
              "    <tr>\n",
              "      <th>2</th>\n",
              "      <td>question_interestingness_self</td>\n",
              "      <td>0.53</td>\n",
              "    </tr>\n",
              "    <tr>\n",
              "      <th>3</th>\n",
              "      <td>question_multi_intent</td>\n",
              "      <td>0.40</td>\n",
              "    </tr>\n",
              "    <tr>\n",
              "      <th>4</th>\n",
              "      <td>question_not_really_a_question</td>\n",
              "      <td>0.88</td>\n",
              "    </tr>\n",
              "    <tr>\n",
              "      <th>5</th>\n",
              "      <td>question_opinion_seeking</td>\n",
              "      <td>0.04</td>\n",
              "    </tr>\n",
              "    <tr>\n",
              "      <th>6</th>\n",
              "      <td>question_type_choice</td>\n",
              "      <td>0.48</td>\n",
              "    </tr>\n",
              "    <tr>\n",
              "      <th>7</th>\n",
              "      <td>question_type_compare</td>\n",
              "      <td>0.95</td>\n",
              "    </tr>\n",
              "    <tr>\n",
              "      <th>8</th>\n",
              "      <td>question_type_consequence</td>\n",
              "      <td>0.99</td>\n",
              "    </tr>\n",
              "    <tr>\n",
              "      <th>9</th>\n",
              "      <td>question_type_definition</td>\n",
              "      <td>0.93</td>\n",
              "    </tr>\n",
              "    <tr>\n",
              "      <th>10</th>\n",
              "      <td>question_type_entity</td>\n",
              "      <td>0.88</td>\n",
              "    </tr>\n",
              "    <tr>\n",
              "      <th>11</th>\n",
              "      <td>question_type_instructions</td>\n",
              "      <td>0.26</td>\n",
              "    </tr>\n",
              "    <tr>\n",
              "      <th>12</th>\n",
              "      <td>question_type_procedure</td>\n",
              "      <td>0.07</td>\n",
              "    </tr>\n",
              "    <tr>\n",
              "      <th>13</th>\n",
              "      <td>question_type_reason_explanation</td>\n",
              "      <td>0.20</td>\n",
              "    </tr>\n",
              "    <tr>\n",
              "      <th>14</th>\n",
              "      <td>question_type_spelling</td>\n",
              "      <td>1.00</td>\n",
              "    </tr>\n",
              "    <tr>\n",
              "      <th>15</th>\n",
              "      <td>question_well_written</td>\n",
              "      <td>0.09</td>\n",
              "    </tr>\n",
              "    <tr>\n",
              "      <th>16</th>\n",
              "      <td>answer_type_instructions</td>\n",
              "      <td>0.24</td>\n",
              "    </tr>\n",
              "    <tr>\n",
              "      <th>17</th>\n",
              "      <td>answer_type_procedure</td>\n",
              "      <td>0.04</td>\n",
              "    </tr>\n",
              "    <tr>\n",
              "      <th>18</th>\n",
              "      <td>answer_type_reason_explanation</td>\n",
              "      <td>0.08</td>\n",
              "    </tr>\n",
              "    <tr>\n",
              "      <th>19</th>\n",
              "      <td>answer_well_written</td>\n",
              "      <td>0.17</td>\n",
              "    </tr>\n",
              "  </tbody>\n",
              "</table>\n",
              "</div>"
            ],
            "text/plain": [
              "                                 col   pct\n",
              "0            question_conversational  0.91\n",
              "1    question_interestingness_others  0.24\n",
              "2      question_interestingness_self  0.53\n",
              "3              question_multi_intent  0.40\n",
              "4     question_not_really_a_question  0.88\n",
              "5           question_opinion_seeking  0.04\n",
              "6               question_type_choice  0.48\n",
              "7              question_type_compare  0.95\n",
              "8          question_type_consequence  0.99\n",
              "9           question_type_definition  0.93\n",
              "10              question_type_entity  0.88\n",
              "11        question_type_instructions  0.26\n",
              "12           question_type_procedure  0.07\n",
              "13  question_type_reason_explanation  0.20\n",
              "14            question_type_spelling  1.00\n",
              "15             question_well_written  0.09\n",
              "16          answer_type_instructions  0.24\n",
              "17             answer_type_procedure  0.04\n",
              "18    answer_type_reason_explanation  0.08\n",
              "19               answer_well_written  0.17"
            ]
          },
          "metadata": {
            "tags": []
          },
          "execution_count": 31
        }
      ]
    },
    {
      "cell_type": "code",
      "metadata": {
        "id": "SRYN8QsepVkN",
        "colab_type": "code",
        "outputId": "235bd16c-0e19-4113-acf0-7fafa68338a7",
        "colab": {
          "base_uri": "https://localhost:8080/",
          "height": 52
        }
      },
      "source": [
        "for col in [x for x in target_col if x not in hyper.col.tolist()]:\n",
        "    pred[:, target_col.index(col)] = (pred[:, target_col.index(col)]//(1/90))/90\n",
        "for col in hyper.col.tolist():\n",
        "    if hyper.loc[hyper.col==col, 'pct'].values == 1:\n",
        "        pct = hyper.loc[hyper.col==col, 'pct'] - 0.01\n",
        "    else:\n",
        "        pct = hyper.loc[hyper.col==col, 'pct']\n",
        "    changerow = int(len(test) * pct)\n",
        "    rowidx = pred[:, target_col.index(col)].argsort()[:changerow]\n",
        "    pred[rowidx, target_col.index(col)] = 0\n",
        "\n"
      ],
      "execution_count": 0,
      "outputs": [
        {
          "output_type": "execute_result",
          "data": {
            "text/plain": [
              "19    0.17\n",
              "Name: pct, dtype: float64"
            ]
          },
          "metadata": {
            "tags": []
          },
          "execution_count": 30
        }
      ]
    },
    {
      "cell_type": "code",
      "metadata": {
        "id": "_kTeS0BQrJUL",
        "colab_type": "code",
        "outputId": "7c6c14af-90f2-4683-afc7-6652d18a4c7f",
        "colab": {
          "base_uri": "https://localhost:8080/",
          "height": 537
        }
      },
      "source": [
        "for i in range(pred.shape[1]):\n",
        "    print(i, len(np.unique(pred[:, i])))"
      ],
      "execution_count": 0,
      "outputs": [
        {
          "output_type": "stream",
          "text": [
            "0 24\n",
            "1 53\n",
            "2 44\n",
            "3 58\n",
            "4 49\n",
            "5 54\n",
            "6 363\n",
            "7 225\n",
            "8 287\n",
            "9 59\n",
            "10 458\n",
            "11 249\n",
            "12 25\n",
            "13 6\n",
            "14 35\n",
            "15 59\n",
            "16 354\n",
            "17 444\n",
            "18 382\n",
            "19 6\n",
            "20 435\n",
            "21 16\n",
            "22 25\n",
            "23 8\n",
            "24 9\n",
            "25 24\n",
            "26 363\n",
            "27 458\n",
            "28 439\n",
            "29 397\n"
          ],
          "name": "stdout"
        }
      ]
    },
    {
      "cell_type": "markdown",
      "metadata": {
        "id": "RtqtikotHjrY",
        "colab_type": "text"
      },
      "source": [
        "## Bert model stacking"
      ]
    },
    {
      "cell_type": "code",
      "metadata": {
        "id": "53aKFzZdFpiY",
        "colab_type": "code",
        "colab": {}
      },
      "source": [
        "# 0.8771 / 0.8779 / 0.8786 / 0.8774 / 0.8790\n",
        "tr2_x, tr2_y = convert_data(tr2)\n",
        "valid2_D = data_generator(list(zip(tr2_x[0], tr2_x[1], tr2_y)), branch='valid')\n",
        "model = model_build(len(train), model='bert')\n",
        "ensemble_inputs, ensemble_outputs = [], []\n",
        "# update all layers in all models to not be trainable\n",
        "for i in range(1, 11):\n",
        "    # define filename for this ensemble\n",
        "    filename = 'drive/My Drive/GoogleQA/Models/{:}/{:}-{:}-3.h5'.format(save_model, save_model, i))\n",
        "\n",
        "    # load model from file\n",
        "    model.load_weights(filename)\n",
        "    print('>loaded %s' % filename)\n",
        "\n",
        "    model_pred = model.predict_generator(valid2_D.__iter__(), len(valid2_D), verbose=1)\n",
        "    score = compute_spearmanr(tr2_y, model_pred)\n",
        "    print('Spearman - {:.5f}'.format(score))\n",
        "    for layer in model.layers:\n",
        "        # make not trainable\n",
        "        layer.trainable = False\n",
        "        # rename to avoid 'unique layer name' issue\n",
        "        layer.name = 'ensemble_' + str(i+1) + '_' + layer.name\n",
        "    # define multi-headed input\n",
        "    ensemble_inputs.append(model.input)\n",
        "    # concatenate merge output from each model\n",
        "    ensemble_outputs.append(model.output)\n",
        "    # del model\n",
        "    gc.collect()\n",
        "\n",
        "# build model\n",
        "merge = concatenate(ensemble_outputs)\n",
        "hidden = Dense(100, activation='relu')(merge)\n",
        "output = Dense(NUM_CLASSES, activation='softmax')(hidden)\n",
        "stacked_model = Model(inputs=[x for y in ensemble_inputs for x in y], outputs=output)\n",
        "# compile\n",
        "decay_steps, warmup_steps = calc_train_steps(\n",
        "    len(tr2),\n",
        "    batch_size=BATCH_SIZE,\n",
        "    epochs=NUM_EPOCHS,\n",
        ")\n",
        "\n",
        "stacked_model.compile(\n",
        "    loss='binary_crossentropy',\n",
        "    optimizer=AdamWarmup(\n",
        "        decay_steps=decay_steps,\n",
        "        warmup_steps=warmup_steps,\n",
        "        lr=LR,\n",
        "        min_lr=MIN_LR,\n",
        "        ))\n",
        "\n"
      ],
      "execution_count": 0,
      "outputs": []
    },
    {
      "cell_type": "code",
      "metadata": {
        "id": "zxpl3Dw_HmL-",
        "colab_type": "code",
        "colab": {}
      },
      "source": [
        "class data_generator_stacked:\n",
        "    def __init__(self, data, batch_size=BATCH_SIZE, branch='train'):\n",
        "        self.data = data\n",
        "        self.batch_size = batch_size\n",
        "        self.branch = branch\n",
        "        self.steps = len(self.data) // self.batch_size\n",
        "        if len(self.data) % self.batch_size != 0:\n",
        "            self.steps += 1\n",
        "\n",
        "    def __len__(self):\n",
        "        return self.steps\n",
        "\n",
        "    def __iter__(self):\n",
        "        while True:\n",
        "            if self.branch == 'train':\n",
        "                np.random.shuffle(self.data)\n",
        "            for i in range(self.steps):\n",
        "                d = self.data[i * self.batch_size: (i + 1) * self.batch_size]\n",
        "                X1 = seq_padding([x[0] for x in d])\n",
        "                X2 = get_masks([x[0] for x in d])    \n",
        "                X3 = seq_padding([x[1] for x in d])\n",
        "                # X3 = np.zeros_like(X1)\n",
        "\n",
        "                # aux = np.array([x[2] for x in d])\n",
        "                if self.branch == 'test':\n",
        "                    # aux = np.array([x[3] for x in d])\n",
        "                    yield [X1, X2, X3] * 10\n",
        "                    # yield [X1, X2, X3, X4, X5, X6]\n",
        "                else:\n",
        "                    Y = np.array([x[2] for x in d])\n",
        "                    # aux = np.array([x[4] for x in d])\n",
        "                    yield [X1, X2, X3] * 10, Y\n",
        "                    # yield [X1, X2, X3, X4, X5, X6], Y\n",
        "\n",
        "# fit model\n",
        "stack_D = data_generator_stacked(list(zip(tr2_x[0], tr2_x[1], tr2_y)))\n",
        "stacked_model.fit_generator(\n",
        "    stack_D.__iter__(),\n",
        "    steps_per_epoch=len(stack_D),\n",
        "    epochs=NUM_EPOCHS)\n",
        "\n",
        "stack_valid_D = data_generator_stacked(list(zip(tr2_x[0], tr2_x[1], tr2_y)), branch='valid')\n",
        "stacked_pred = stacked_model.predict_generator(stack_valid_D.__iter__(), len(stack_valid_D), verbose=1)\n",
        "print('Spearman - {:.5f}'.format(compute_spearmanr(tr2_y, stacked_pred)))\n",
        "\n",
        "del stacked_model\n",
        "gc.collect()"
      ],
      "execution_count": 0,
      "outputs": []
    },
    {
      "cell_type": "markdown",
      "metadata": {
        "id": "cRMV2dmrNV4x",
        "colab_type": "text"
      },
      "source": [
        "## USE Model"
      ]
    },
    {
      "cell_type": "code",
      "metadata": {
        "id": "hOvLGUbfNX9W",
        "colab_type": "code",
        "colab": {}
      },
      "source": [
        "\n",
        "# train['sentence'] = train['question'] + ' ' + train['answer']\n",
        "embed1 = hub.load(\"https://tfhub.dev/google/universal-sentence-encoder-large/5\")\n",
        "# embed2 = hub.load('https://tfhub.dev/google/nnlm-en-dim128/2')\n",
        "\n",
        "def UniversalEmbedding(x):\n",
        "    return embed1(tf.squeeze(tf.cast(x, tf.string)))\n",
        "\n",
        "# def NNLMEmbedding(x):\n",
        "#     return embed2(tf.squeeze(tf.cast(x, tf.string)))\n",
        "\n",
        "def use_model():\n",
        "    \n",
        "    q = keras.layers.Input(shape=(1,), dtype=tf.string)\n",
        "    qb = keras.layers.Input(shape=(1,), dtype=tf.string)\n",
        "    a = keras.layers.Input(shape=(1,), dtype=tf.string)\n",
        "\n",
        "    def hidden_layer(input_layer):\n",
        "        x = keras.layers.Lambda(UniversalEmbedding, output_shape=(512, ))(input_layer)\n",
        "        # embed2 = keras.layers.Lambda(NNLMEmbedding, output_shape=(128, ))(input_layer)\n",
        "        # embed = keras.layers.concatenate([embed1, embed2])\n",
        "        x = keras.layers.Dropout(0.2)(x)\n",
        "        x = keras.backend.expand_dims(x, axis=1)\n",
        "        # x = keras.layers.Bidirectional(keras.layers.CuDNNLSTM(128, return_sequences=True))(x)\n",
        "        # x = keras.layers.Bidirectional(keras.layers.CuDNNLSTM(128, return_sequences=True))(x)\n",
        "        # GP = keras.layers.GlobalMaxPooling1D()(x)\n",
        "        # GP = keras.layers.Dropout(0.2)(GP)\n",
        "        # AP = keras.layers.GlobalAveragePooling1D()(x)\n",
        "        # AP = keras.layers.Dropout(0.2)(AP)\n",
        "        # hidden = keras.layers.concatenate([GP, AP])\n",
        "        # hidden = keras.layers.add([hidden, keras.layers.Dense(512, activation='relu')(hidden)])\n",
        "        # hidden = keras.layers.add([hidden, keras.layers.Dense(512, activation='relu')(hidden)])\n",
        "\n",
        "        x1 = keras.layers.Bidirectional(keras.layers.CuDNNLSTM(256, return_sequences=True))(x)\n",
        "        x2 = keras.layers.Bidirectional(keras.layers.CuDNNGRU(128, return_sequences=True))(x1)\n",
        "        max_pool1 = keras.layers.GlobalMaxPooling1D()(x1)\n",
        "        max_pool2 = keras.layers.GlobalMaxPooling1D()(x2)\n",
        "        hidden = keras.layers.concatenate([max_pool1, max_pool2])\n",
        "        return hidden\n",
        "\n",
        "    q_embed, qb_embed, a_embed = hidden_layer(q), hidden_layer(qb), hidden_layer(a)\n",
        "    all_embed = keras.layers.concatenate([q_embed, qb_embed, a_embed])\n",
        "    dense = keras.layers.Dense(256, activation='relu')(all_embed)\n",
        "    pred = keras.layers.Dense(30, activation='sigmoid')(dense)\n",
        "    model = keras.Model(inputs=[q, qb, a], outputs=pred)\n",
        "    model.compile(loss='binary_crossentropy', optimizer=keras.optimizers.Adam(learning_rate=5e-3))\n",
        "    # del embed\n",
        "    # gc.collect()\n",
        "    return model\n"
      ],
      "execution_count": 0,
      "outputs": []
    },
    {
      "cell_type": "code",
      "metadata": {
        "id": "nTIxpMnFNhju",
        "colab_type": "code",
        "colab": {}
      },
      "source": [
        "kf = RepeatedKFold(n_splits=5, n_repeats=2, random_state=0)\n",
        "idx = [x for x in kf.split(train, groups=train.question_body)]\n",
        "def compute_spearmanr(trues, preds):\n",
        "    rhos = []\n",
        "    for col_trues, col_pred in zip(trues.T, preds.T):\n",
        "        rhos.append(spearmanr(col_trues, col_pred).correlation)\n",
        "    return np.mean(rhos)\n",
        "\n",
        "class IntervalEval(keras.callbacks.Callback):\n",
        "    def __init__(self, val_data, label):\n",
        "        super(keras.callbacks.Callback, self).__init__()\n",
        "        self.val_data = val_data\n",
        "        self.score = 0\n",
        "        self.maxscore = 0\n",
        "        self.label = label\n",
        "        self.patience = 3\n",
        "        self.count = 0\n",
        "    def on_epoch_end(self, epoch, logs={}):\n",
        "        # if epoch == 3:\n",
        "        val_pred = self.model.predict(self.val_data, batch_size=16, verbose=1)\n",
        "        score = compute_spearmanr(self.label, val_pred)\n",
        "        print('Spearman - {:.5f}'.format(score))\n",
        "        if self.maxscore>=0.3:\n",
        "            self.patience=2\n",
        "        if (score < self.score):\n",
        "            self.score = score\n",
        "            self.count+=1\n",
        "            if self.count==self.patience:\n",
        "                self.model.stop_training=True\n",
        "        elif score > self.maxscore:\n",
        "            self.score = score\n",
        "            self.maxscore = score\n",
        "            self.count = 0\n",
        "            if self.maxscore > 0.3:\n",
        "                self.model.save('drive/My Drive/GoogleQA/Models/{:}/use-model-{:}.h5'.format(save_model, i))\n",
        "        else:\n",
        "            self.score = score\n",
        "            self.count = 0\n",
        "          "
      ],
      "execution_count": 0,
      "outputs": []
    },
    {
      "cell_type": "code",
      "metadata": {
        "id": "6Bd--Dd_QUof",
        "colab_type": "code",
        "outputId": "4a135471-867b-4a2e-ba23-c5fe112ac9d7",
        "colab": {
          "base_uri": "https://localhost:8080/",
          "height": 1000
        }
      },
      "source": [
        "with tf.Session() as session:\n",
        "    keras.backend.set_session(session)\n",
        "    session.run(tf.global_variables_initializer())  \n",
        "    session.run(tf.tables_initializer())\n",
        "    for i, (tr_idx, val_idx) in enumerate(idx, 1):\n",
        "        print('\\nFold - {:}\\n'.format(i))\n",
        "        tr, val = train.loc[tr_idx], train.loc[val_idx]\n",
        "        tr_x = [tr['question_title'], tr['question_body'], tr['answer']]\n",
        "        val_x = [val['question_title'], val['question_body'], val['answer']]\n",
        "        ieval = IntervalEval(val_data=val_x, label=val[target_col].values)\n",
        "        model = use_model()\n",
        "        history = model.fit(\n",
        "            tr_x,\n",
        "            tr[target_col],\n",
        "            epochs=100, \n",
        "            batch_size=16,\n",
        "            callbacks=[ieval])\n",
        "        del model, tr, val, tr_x, val_x\n",
        "        gc.collect()\n",
        "\n",
        "# with tf.Session() as session:\n",
        "#     keras.backend.set_session(session)\n",
        "#     session.run(tf.global_variables_initializer())  \n",
        "#     session.run(tf.tables_initializer())\n",
        "#     model.load_weights('use-model-1.h5')\n",
        "#     preds = model.predict(val['sentence'], batch_size=16, verbose=1)\n",
        "#     score=compute_spearmanr(val[target_col].values, preds)\n",
        "#     print('Spearman - {:.5f}'.format(score))"
      ],
      "execution_count": 0,
      "outputs": [
        {
          "output_type": "stream",
          "text": [
            "\n",
            "Fold - 1\n",
            "\n",
            "Train on 4863 samples\n",
            "Epoch 1/100\n",
            "1216/1216 [==============================] - 33s 27ms/sample\n",
            "Spearman - 0.35849\n",
            "4863/4863 [==============================] - 170s 35ms/sample - loss: 0.3946\n",
            "Epoch 2/100\n",
            "1216/1216 [==============================] - 16s 13ms/sample\n",
            "Spearman - 0.36453\n",
            "4863/4863 [==============================] - 85s 18ms/sample - loss: 0.3720\n",
            "Epoch 3/100\n",
            "1216/1216 [==============================] - 16s 13ms/sample\n",
            "Spearman - 0.37807\n",
            "4863/4863 [==============================] - 85s 18ms/sample - loss: 0.3628\n",
            "Epoch 4/100\n",
            "1216/1216 [==============================] - 16s 13ms/sample\n",
            "Spearman - 0.37832\n",
            "4863/4863 [==============================] - 86s 18ms/sample - loss: 0.3549\n",
            "Epoch 5/100\n",
            "1216/1216 [==============================] - 16s 13ms/sample\n",
            "Spearman - 0.37996\n",
            "4863/4863 [==============================] - 86s 18ms/sample - loss: 0.3462\n",
            "Epoch 6/100\n",
            "1216/1216 [==============================] - 16s 13ms/sample\n",
            "Spearman - 0.37266\n",
            "4863/4863 [==============================] - 84s 17ms/sample - loss: 0.3358\n",
            "Epoch 7/100\n",
            "1216/1216 [==============================] - 16s 13ms/sample\n",
            "Spearman - 0.36546\n",
            "4863/4863 [==============================] - 84s 17ms/sample - loss: 0.3244\n",
            "\n",
            "Fold - 2\n",
            "\n",
            "Train on 4863 samples\n",
            "Epoch 1/100\n",
            "1216/1216 [==============================] - 34s 28ms/sample\n",
            "Spearman - 0.33703\n",
            "4863/4863 [==============================] - 156s 32ms/sample - loss: 0.3924\n",
            "Epoch 2/100\n",
            "1216/1216 [==============================] - 16s 13ms/sample\n",
            "Spearman - 0.34534\n",
            "4863/4863 [==============================] - 88s 18ms/sample - loss: 0.3710\n",
            "Epoch 3/100\n",
            "1216/1216 [==============================] - 16s 13ms/sample\n",
            "Spearman - 0.36068\n",
            "4863/4863 [==============================] - 87s 18ms/sample - loss: 0.3621\n",
            "Epoch 4/100\n",
            "1216/1216 [==============================] - 16s 13ms/sample\n",
            "Spearman - 0.36306\n",
            "4863/4863 [==============================] - 87s 18ms/sample - loss: 0.3539\n",
            "Epoch 5/100\n",
            "1216/1216 [==============================] - 16s 13ms/sample\n",
            "Spearman - 0.36120\n",
            "4863/4863 [==============================] - 87s 18ms/sample - loss: 0.3444\n",
            "Epoch 6/100\n",
            "1216/1216 [==============================] - 16s 13ms/sample\n",
            "Spearman - 0.35571\n",
            "4863/4863 [==============================] - 86s 18ms/sample - loss: 0.3338\n",
            "\n",
            "Fold - 3\n",
            "\n",
            "Train on 4863 samples\n",
            "Epoch 1/100\n",
            "1216/1216 [==============================] - 34s 28ms/sample\n",
            "Spearman - 0.34580\n",
            "4863/4863 [==============================] - 160s 33ms/sample - loss: 0.3934\n",
            "Epoch 2/100\n",
            "1216/1216 [==============================] - 16s 13ms/sample\n",
            "Spearman - 0.36574\n",
            "4863/4863 [==============================] - 87s 18ms/sample - loss: 0.3713\n",
            "Epoch 3/100\n",
            "1216/1216 [==============================] - 16s 13ms/sample\n",
            "Spearman - 0.37321\n",
            "4863/4863 [==============================] - 86s 18ms/sample - loss: 0.3624\n",
            "Epoch 4/100\n",
            "1216/1216 [==============================] - 16s 13ms/sample\n",
            "Spearman - 0.36790\n",
            "4863/4863 [==============================] - 86s 18ms/sample - loss: 0.3541\n",
            "Epoch 5/100\n",
            "1216/1216 [==============================] - 15s 13ms/sample\n",
            "Spearman - 0.37437\n",
            "4863/4863 [==============================] - 87s 18ms/sample - loss: 0.3454\n",
            "Epoch 6/100\n",
            "1216/1216 [==============================] - 16s 13ms/sample\n",
            "Spearman - 0.35966\n",
            "4863/4863 [==============================] - 85s 18ms/sample - loss: 0.3339\n",
            "Epoch 7/100\n",
            "1216/1216 [==============================] - 16s 13ms/sample\n",
            "Spearman - 0.35308\n",
            "4863/4863 [==============================] - 85s 18ms/sample - loss: 0.3227\n",
            "\n",
            "Fold - 4\n",
            "\n",
            "Train on 4863 samples\n",
            "Epoch 1/100\n",
            "1216/1216 [==============================] - 35s 29ms/sample\n",
            "Spearman - 0.34625\n",
            "4863/4863 [==============================] - 160s 33ms/sample - loss: 0.3937\n",
            "Epoch 2/100\n",
            "1216/1216 [==============================] - 17s 14ms/sample\n",
            "Spearman - 0.35942\n",
            "4863/4863 [==============================] - 85s 18ms/sample - loss: 0.3718\n",
            "Epoch 3/100\n",
            "1216/1216 [==============================] - 17s 14ms/sample\n",
            "Spearman - 0.36250\n",
            "4863/4863 [==============================] - 86s 18ms/sample - loss: 0.3624\n",
            "Epoch 4/100\n",
            "1216/1216 [==============================] - 16s 13ms/sample\n",
            "Spearman - 0.36419\n",
            "4863/4863 [==============================] - 85s 18ms/sample - loss: 0.3542\n",
            "Epoch 5/100\n",
            "1216/1216 [==============================] - 17s 14ms/sample\n",
            "Spearman - 0.36604\n",
            "4863/4863 [==============================] - 86s 18ms/sample - loss: 0.3455\n",
            "Epoch 6/100\n",
            "1216/1216 [==============================] - 16s 14ms/sample\n",
            "Spearman - 0.35845\n",
            "4863/4863 [==============================] - 84s 17ms/sample - loss: 0.3351\n",
            "Epoch 7/100\n",
            "1216/1216 [==============================] - 16s 14ms/sample\n",
            "Spearman - 0.36201\n",
            "4863/4863 [==============================] - 84s 17ms/sample - loss: 0.3232\n",
            "Epoch 8/100\n",
            "1216/1216 [==============================] - 17s 14ms/sample\n",
            "Spearman - 0.35785\n",
            "4863/4863 [==============================] - 85s 17ms/sample - loss: 0.3119\n",
            "Epoch 9/100\n",
            "1216/1216 [==============================] - 16s 13ms/sample\n",
            "Spearman - 0.35012\n",
            "4863/4863 [==============================] - 84s 17ms/sample - loss: 0.3011\n",
            "\n",
            "Fold - 5\n",
            "\n",
            "Train on 4864 samples\n",
            "Epoch 1/100\n",
            "1215/1215 [==============================] - 37s 30ms/sample\n",
            "Spearman - 0.34068\n",
            "4864/4864 [==============================] - 168s 34ms/sample - loss: 0.3943\n",
            "Epoch 2/100\n",
            "1215/1215 [==============================] - 16s 13ms/sample\n",
            "Spearman - 0.35529\n",
            "4864/4864 [==============================] - 86s 18ms/sample - loss: 0.3726\n",
            "Epoch 3/100\n",
            "1215/1215 [==============================] - 17s 14ms/sample\n",
            "Spearman - 0.35790\n",
            "4864/4864 [==============================] - 86s 18ms/sample - loss: 0.3637\n",
            "Epoch 4/100\n",
            "1215/1215 [==============================] - 17s 14ms/sample\n",
            "Spearman - 0.35886\n",
            "4864/4864 [==============================] - 86s 18ms/sample - loss: 0.3551\n",
            "Epoch 5/100\n",
            "1215/1215 [==============================] - 17s 14ms/sample\n",
            "Spearman - 0.36241\n",
            "4864/4864 [==============================] - 87s 18ms/sample - loss: 0.3468\n",
            "Epoch 6/100\n",
            "1215/1215 [==============================] - 17s 14ms/sample\n",
            "Spearman - 0.35775\n",
            "4864/4864 [==============================] - 85s 17ms/sample - loss: 0.3355\n",
            "Epoch 7/100\n",
            "1215/1215 [==============================] - 16s 14ms/sample\n",
            "Spearman - 0.34976\n",
            "4864/4864 [==============================] - 85s 17ms/sample - loss: 0.3240\n",
            "\n",
            "Fold - 6\n",
            "\n",
            "Train on 4863 samples\n",
            "Epoch 1/100\n",
            "1216/1216 [==============================] - 37s 30ms/sample\n",
            "Spearman - 0.33484\n",
            "4863/4863 [==============================] - 169s 35ms/sample - loss: 0.3942\n",
            "Epoch 2/100\n",
            "1216/1216 [==============================] - 16s 13ms/sample\n",
            "Spearman - 0.36367\n",
            "4863/4863 [==============================] - 87s 18ms/sample - loss: 0.3720\n",
            "Epoch 3/100\n",
            "1216/1216 [==============================] - 17s 14ms/sample\n",
            "Spearman - 0.36417\n",
            "4863/4863 [==============================] - 87s 18ms/sample - loss: 0.3626\n",
            "Epoch 4/100\n",
            "1216/1216 [==============================] - 17s 14ms/sample\n",
            "Spearman - 0.36823\n",
            "4863/4863 [==============================] - 86s 18ms/sample - loss: 0.3540\n",
            "Epoch 5/100\n",
            "1216/1216 [==============================] - 16s 13ms/sample\n",
            "Spearman - 0.36329\n",
            "4863/4863 [==============================] - 85s 17ms/sample - loss: 0.3453\n",
            "Epoch 6/100\n",
            "1216/1216 [==============================] - 16s 13ms/sample\n",
            "Spearman - 0.35710\n",
            "4863/4863 [==============================] - 82s 17ms/sample - loss: 0.3342\n",
            "\n",
            "Fold - 7\n",
            "\n",
            "Train on 4863 samples\n",
            "Epoch 1/100\n",
            "1216/1216 [==============================] - 36s 30ms/sample\n",
            "Spearman - 0.34222\n",
            "4863/4863 [==============================] - 168s 35ms/sample - loss: 0.3936\n",
            "Epoch 2/100\n",
            "1216/1216 [==============================] - 16s 13ms/sample\n",
            "Spearman - 0.35259\n",
            "4863/4863 [==============================] - 84s 17ms/sample - loss: 0.3722\n",
            "Epoch 3/100\n",
            "1216/1216 [==============================] - 16s 13ms/sample\n",
            "Spearman - 0.34803\n",
            "4863/4863 [==============================] - 84s 17ms/sample - loss: 0.3635\n",
            "Epoch 4/100\n",
            "1216/1216 [==============================] - 16s 13ms/sample\n",
            "Spearman - 0.35987\n",
            "4863/4863 [==============================] - 84s 17ms/sample - loss: 0.3550\n",
            "Epoch 5/100\n",
            "1216/1216 [==============================] - 15s 13ms/sample\n",
            "Spearman - 0.36029\n",
            "4863/4863 [==============================] - 84s 17ms/sample - loss: 0.3457\n",
            "Epoch 6/100\n",
            "1216/1216 [==============================] - 16s 13ms/sample\n",
            "Spearman - 0.35276\n",
            "4863/4863 [==============================] - 83s 17ms/sample - loss: 0.3352\n",
            "Epoch 7/100\n",
            "1216/1216 [==============================] - 16s 13ms/sample\n",
            "Spearman - 0.34791\n",
            "4863/4863 [==============================] - 83s 17ms/sample - loss: 0.3231\n",
            "\n",
            "Fold - 8\n",
            "\n",
            "Train on 4863 samples\n",
            "Epoch 1/100\n",
            "1216/1216 [==============================] - 37s 30ms/sample\n",
            "Spearman - 0.33639\n",
            "4863/4863 [==============================] - 172s 35ms/sample - loss: 0.3933\n",
            "Epoch 2/100\n",
            "1216/1216 [==============================] - 15s 13ms/sample\n",
            "Spearman - 0.36531\n",
            "4863/4863 [==============================] - 85s 18ms/sample - loss: 0.3722\n",
            "Epoch 3/100\n",
            "1216/1216 [==============================] - 15s 13ms/sample\n",
            "Spearman - 0.36391\n",
            "4863/4863 [==============================] - 83s 17ms/sample - loss: 0.3632\n",
            "Epoch 4/100\n",
            "1216/1216 [==============================] - 16s 13ms/sample\n",
            "Spearman - 0.37153\n",
            "4863/4863 [==============================] - 84s 17ms/sample - loss: 0.3548\n",
            "Epoch 5/100\n",
            "1216/1216 [==============================] - 16s 13ms/sample\n",
            "Spearman - 0.36293\n",
            "4863/4863 [==============================] - 84s 17ms/sample - loss: 0.3456\n",
            "Epoch 6/100\n",
            "1216/1216 [==============================] - 16s 13ms/sample\n",
            "Spearman - 0.35556\n",
            "4863/4863 [==============================] - 84s 17ms/sample - loss: 0.3350\n",
            "\n",
            "Fold - 9\n",
            "\n",
            "Train on 4863 samples\n",
            "Epoch 1/100\n",
            "1216/1216 [==============================] - 38s 31ms/sample\n",
            "Spearman - 0.33901\n",
            "4863/4863 [==============================] - 179s 37ms/sample - loss: 0.3935\n",
            "Epoch 2/100\n",
            "1216/1216 [==============================] - 16s 13ms/sample\n",
            "Spearman - 0.35072\n",
            "4863/4863 [==============================] - 86s 18ms/sample - loss: 0.3710\n",
            "Epoch 3/100\n",
            "1216/1216 [==============================] - 16s 13ms/sample\n",
            "Spearman - 0.36947\n",
            "4863/4863 [==============================] - 86s 18ms/sample - loss: 0.3626\n",
            "Epoch 4/100\n",
            "1216/1216 [==============================] - 16s 14ms/sample\n",
            "Spearman - 0.36432\n",
            "4863/4863 [==============================] - 85s 18ms/sample - loss: 0.3540\n",
            "Epoch 5/100\n",
            "1216/1216 [==============================] - 16s 13ms/sample\n",
            "Spearman - 0.36742\n",
            "4863/4863 [==============================] - 85s 17ms/sample - loss: 0.3452\n",
            "Epoch 6/100\n",
            "1216/1216 [==============================] - 17s 14ms/sample\n",
            "Spearman - 0.35627\n",
            "4863/4863 [==============================] - 85s 18ms/sample - loss: 0.3352\n",
            "Epoch 7/100\n",
            "1216/1216 [==============================] - 16s 13ms/sample\n",
            "Spearman - 0.35086\n",
            "4863/4863 [==============================] - 84s 17ms/sample - loss: 0.3234\n",
            "\n",
            "Fold - 10\n",
            "\n",
            "Train on 4864 samples\n",
            "Epoch 1/100\n",
            "1215/1215 [==============================] - 39s 32ms/sample\n",
            "Spearman - 0.35438\n",
            "4864/4864 [==============================] - 184s 38ms/sample - loss: 0.3930\n",
            "Epoch 2/100\n",
            "1215/1215 [==============================] - 16s 14ms/sample\n",
            "Spearman - 0.37118\n",
            "4864/4864 [==============================] - 87s 18ms/sample - loss: 0.3713\n",
            "Epoch 3/100\n",
            "1215/1215 [==============================] - 17s 14ms/sample\n",
            "Spearman - 0.36850\n",
            "4864/4864 [==============================] - 86s 18ms/sample - loss: 0.3621\n",
            "Epoch 4/100\n",
            "1215/1215 [==============================] - 16s 13ms/sample\n",
            "Spearman - 0.37393\n",
            "4864/4864 [==============================] - 91s 19ms/sample - loss: 0.3541\n",
            "Epoch 5/100\n",
            "1215/1215 [==============================] - 17s 14ms/sample\n",
            "Spearman - 0.37396\n",
            "4864/4864 [==============================] - 89s 18ms/sample - loss: 0.3447\n",
            "Epoch 6/100\n",
            "1215/1215 [==============================] - 17s 14ms/sample\n",
            "Spearman - 0.36964\n",
            "4864/4864 [==============================] - 87s 18ms/sample - loss: 0.3342\n",
            "Epoch 7/100\n",
            "1215/1215 [==============================] - 17s 14ms/sample\n",
            "Spearman - 0.35713\n",
            "4864/4864 [==============================] - 87s 18ms/sample - loss: 0.3228\n"
          ],
          "name": "stdout"
        }
      ]
    }
  ]
}