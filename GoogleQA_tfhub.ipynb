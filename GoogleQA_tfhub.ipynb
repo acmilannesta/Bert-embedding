{
  "nbformat": 4,
  "nbformat_minor": 0,
  "metadata": {
    "colab": {
      "name": "GoogleQA.ipynb",
      "provenance": [],
      "toc_visible": true,
      "include_colab_link": true
    },
    "kernelspec": {
      "name": "python3",
      "display_name": "Python 3"
    },
    "accelerator": "GPU"
  },
  "cells": [
    {
      "cell_type": "markdown",
      "metadata": {
        "id": "view-in-github",
        "colab_type": "text"
      },
      "source": [
        "<a href=\"https://colab.research.google.com/github/acmilannesta/Bert-embedding/blob/master/GoogleQA_tfhub.ipynb\" target=\"_parent\"><img src=\"https://colab.research.google.com/assets/colab-badge.svg\" alt=\"Open In Colab\"/></a>"
      ]
    },
    {
      "cell_type": "code",
      "metadata": {
        "id": "D82bieSpLcuc",
        "colab_type": "code",
        "outputId": "b6415700-1bc2-4d2e-a4f1-1bcf6db02102",
        "colab": {
          "base_uri": "https://localhost:8080/",
          "height": 312
        }
      },
      "source": [
        "!nvidia-smi"
      ],
      "execution_count": 1,
      "outputs": [
        {
          "output_type": "stream",
          "text": [
            "Sun Dec 29 20:02:55 2019       \n",
            "+-----------------------------------------------------------------------------+\n",
            "| NVIDIA-SMI 440.44       Driver Version: 418.67       CUDA Version: 10.1     |\n",
            "|-------------------------------+----------------------+----------------------+\n",
            "| GPU  Name        Persistence-M| Bus-Id        Disp.A | Volatile Uncorr. ECC |\n",
            "| Fan  Temp  Perf  Pwr:Usage/Cap|         Memory-Usage | GPU-Util  Compute M. |\n",
            "|===============================+======================+======================|\n",
            "|   0  Tesla P100-PCIE...  Off  | 00000000:00:04.0 Off |                    0 |\n",
            "| N/A   38C    P0    27W / 250W |      0MiB / 16280MiB |      0%      Default |\n",
            "+-------------------------------+----------------------+----------------------+\n",
            "                                                                               \n",
            "+-----------------------------------------------------------------------------+\n",
            "| Processes:                                                       GPU Memory |\n",
            "|  GPU       PID   Type   Process name                             Usage      |\n",
            "|=============================================================================|\n",
            "|  No running processes found                                                 |\n",
            "+-----------------------------------------------------------------------------+\n"
          ],
          "name": "stdout"
        }
      ]
    },
    {
      "cell_type": "code",
      "metadata": {
        "id": "JErzYVOxLtWo",
        "colab_type": "code",
        "colab": {}
      },
      "source": [
        "# nlp aug\n",
        "!pip install transformers nlpaug\n",
        "\n",
        "# bert uncased base\n",
        "!wget https://tfhub.dev/tensorflow/bert_en_uncased_L-12_H-768_A-12/1?tf-hub-format=compressed -O bbu\n",
        "!mkdir bert_base_uncased\n",
        "!tar -xzf bbu -C bert_base_uncased\n",
        "\n",
        "# bert cased base\n",
        "!wget https://tfhub.dev/tensorflow/bert_en_cased_L-12_H-768_A-12/1?tf-hub-format=compressed -O bbc\n",
        "!mkdir bert_base_cased\n",
        "!tar -xzf bbc -C bert_base_cased\n",
        "\n",
        "# albert base\n",
        "!wget https://tfhub.dev/google/albert_base/1?tf-hub-format=compressed -O ab\n",
        "!mkdir albert_base\n",
        "!tar -xzf ab -C albert_base\n",
        "\n",
        "# bert uncased large\n",
        "!wget https://tfhub.dev/tensorflow/bert_en_uncased_L-24_H-1024_A-16/1?tf-hub-format=compressed -O blu\n",
        "!mkdir bert_large_uncased\n",
        "!tar -xzf blu -C bert_large_uncased\n",
        "\n"
      ],
      "execution_count": 0,
      "outputs": []
    },
    {
      "cell_type": "code",
      "metadata": {
        "id": "TBrwK8dwLyw8",
        "colab_type": "code",
        "outputId": "053b6676-40d4-4161-e270-37512eeeed03",
        "colab": {
          "base_uri": "https://localhost:8080/",
          "height": 35
        }
      },
      "source": [
        "from google.colab import drive\n",
        "drive.mount('/content/drive', force_remount=True)"
      ],
      "execution_count": 8,
      "outputs": [
        {
          "output_type": "stream",
          "text": [
            "Mounted at /content/drive\n"
          ],
          "name": "stdout"
        }
      ]
    },
    {
      "cell_type": "code",
      "metadata": {
        "id": "KaDm4NWvLp_J",
        "colab_type": "code",
        "outputId": "ecea8007-3167-489c-d044-784b7977b8d2",
        "colab": {
          "base_uri": "https://localhost:8080/",
          "height": 52
        }
      },
      "source": [
        "%tensorflow_version 2.x\n",
        "import sys\n",
        "sys.path.insert(1, '/content/drive/My Drive/GoogleQA')\n",
        "import numpy as np\n",
        "import pandas as pd\n",
        "import os, gc\n",
        "import codecs\n",
        "import tensorflow as tf\n",
        "from tensorflow import keras\n",
        "from sklearn.preprocessing import LabelEncoder\n",
        "from sklearn.model_selection import StratifiedKFold, RepeatedStratifiedKFold, GroupKFold, KFold, RepeatedKFold\n",
        "from scipy.stats import spearmanr\n",
        "from tqdm import tqdm\n",
        "import tensorflow_hub as hub\n",
        "# from albert_tokenization import FullTokenizer\n",
        "import bert_tokenizer\n",
        "from warmup_v2 import AdamWarmup, calc_train_steps\n",
        "tf.get_logger().setLevel('ERROR') \n",
        "# from keras_bert import load_trained_model_from_checkpoint, Tokenizer, AdamWarmup, calc_train_steps, get_custom_objects\n",
        "from hyperopt import fmin, hp, tpe, STATUS_OK, Trials\n",
        "from functools import partial\n",
        "import nlpaug.augmenter.char as nac\n",
        "import nlpaug.augmenter.word as naw\n",
        "import nlpaug.augmenter.sentence as nas\n",
        "import nlpaug.flow as nafc\n",
        "import transformers\n",
        "from nlpaug.util import Action\n",
        "print(tf.__version__)"
      ],
      "execution_count": 1,
      "outputs": [
        {
          "output_type": "stream",
          "text": [
            "TensorFlow 2.x selected.\n",
            "2.1.0-rc1\n"
          ],
          "name": "stdout"
        }
      ]
    },
    {
      "cell_type": "markdown",
      "metadata": {
        "id": "C4yFl6cbgX6I",
        "colab_type": "text"
      },
      "source": [
        "##Load dataset, data augmentation"
      ]
    },
    {
      "cell_type": "code",
      "metadata": {
        "id": "1xGojs4dL6S4",
        "colab_type": "code",
        "colab": {}
      },
      "source": [
        "data_path = 'drive/My Drive/GoogleQA/Data/'\n",
        "aux_path = 'drive/My Drive/GoogleQA/Web Scrap/'\n",
        "train = pd.read_csv(data_path+'train.csv')\n",
        "test = pd.read_csv(data_path+'test.csv')\n",
        "target_col = train.columns.tolist()[11:42]\n",
        "# qa_aux = pd.read_csv(aux_path+'df_qa_extracted.csv')[['qa_id', 'question_viewed_times', 'question_votes', 'answer_counts', 'answer_votes']]\n",
        "# quser_aux = pd.read_csv(aux_path+'df_question_user_extracted.csv')\n",
        "# auser_aux = pd.read_csv(aux_path+'df_answer_user_extracted.csv')\n",
        "\n",
        "# class MyLabelEncoder(object):\n",
        "#     \"\"\"safely handle unknown label\"\"\"\n",
        "#     def __init__(self):\n",
        "#         self.mapper = {}\n",
        "#     def fit(self, X):\n",
        "#         uniq_X = np.unique(X)\n",
        "#         # reserve 0 for unknown\n",
        "#         self.mapper = dict(zip(uniq_X, range(1, len(uniq_X) + 1)))\n",
        "#         return self\n",
        "#     def fit_transform(self, X):\n",
        "#         self.fit(X)\n",
        "#         return self.transform(X)\n",
        "#     def _map(self, x):\n",
        "#         return self.mapper.get(x, 0)\n",
        "#     def transform(self, X):\n",
        "#         return list(map(self._map, X))\n",
        "\n",
        "# category_encoder = MyLabelEncoder().fit(train['category'])\n",
        "# train['category'] = category_encoder.transform(train['category'])\n",
        "# test['category'] = category_encoder.transform(test['category'])\n",
        "# host_encoder = MyLabelEncoder().fit(train['host'])\n",
        "# train['host'] = category_encoder.transform(train['host'])\n",
        "# test['host'] = category_encoder.transform(test['host'])\n",
        "\n",
        "aug = naw.ContextualWordEmbsAug(model_path='bert-base-uncased', action=\"substitute\", top_k=20, aug_p=0.2)\n",
        "def row_aug(data_df):\n",
        "    q_id, a_id = [], []\n",
        "    for col in target_col:\n",
        "        a = data_df[col].value_counts(normalize=True)\n",
        "        b = a[a<0.01].index.tolist()\n",
        "        c = data_df.loc[data_df[col].isin(b), 'qa_id'].tolist()\n",
        "        if 'question' in col:\n",
        "            q_id.extend(c)\n",
        "        else:\n",
        "            a_id.extend(c)\n",
        "    return list(set(q_id)), list(set(a_id))\n",
        "\n",
        "def data_aug(data_df):\n",
        "    q_id, a_id = row_aug(data_df) \n",
        "    for row in tqdm(q_id):    \n",
        "        qt = data_df.loc[data_df.qa_id==row, 'question_title'].to_string(index=False)\n",
        "        qb = data_df.loc[data_df.qa_id==row, 'question_body'].to_string(index=False)\n",
        "        # for _ in range(1):\n",
        "        tmp = data_df[data_df.qa_id==row].copy()\n",
        "        tmp['question_title'] = aug.augment(qt)\n",
        "        tmp['question_body'] = aug.augment(qb)\n",
        "        data_df = pd.concat([data_df, tmp], ignore_index=True)\n",
        "\n",
        "    for row in tqdm(a_id):    \n",
        "        an = data_df.loc[data_df.qa_id==row, 'answer'].to_string(index=False)\n",
        "        # for _ in range(1):\n",
        "        tmp = data_df[data_df.qa_id==row].copy()\n",
        "        tmp['answer'] = aug.augment(an)\n",
        "        data_df = pd.concat([data_df, tmp], ignore_index=True)\n",
        "    return data_df\n",
        "\n",
        "def add_host_category(data_df):\n",
        "    data_df['host'] = data_df.host.apply(lambda x: x.split('.')[0])\n",
        "    data_df['question_title'] = data_df['category']+' '+data_df['host']+' '+data_df['question_title']\n",
        "    return data_df"
      ],
      "execution_count": 0,
      "outputs": []
    },
    {
      "cell_type": "code",
      "metadata": {
        "id": "iPkHK5JvMJpY",
        "colab_type": "code",
        "colab": {}
      },
      "source": [
        "MAXLEN = 512 #@param {type:\"slider\", min:128, max:512, step:32}\n",
        "BATCH_SIZE = 4 #@param {type:'slider', min:1, max:32, step:1}\n",
        "NUM_EPOCHS = 3\n",
        "NUM_CLASSES = 30\n",
        "NUM_AUX = 6\n",
        "LR = 5e-5\n",
        "MIN_LR = 0\n",
        "model_path = 'bert_base_uncased' #@param ['bert_base_uncased', 'bert_base_cased', 'bert_large_uncased', 'albert_base']\n",
        "save_path = 'bbu6'\n",
        "save_model = 'bbu6' \n",
        "CASED = False #@param ['True', 'False'] {type:\"raw\"}\n"
      ],
      "execution_count": 0,
      "outputs": []
    },
    {
      "cell_type": "markdown",
      "metadata": {
        "id": "MknUuh8pFpq0",
        "colab_type": "text"
      },
      "source": [
        "## Bert tokenizer"
      ]
    },
    {
      "cell_type": "code",
      "metadata": {
        "id": "oWJBpOFN7FCT",
        "colab_type": "code",
        "colab": {}
      },
      "source": [
        "def _trim_input(title, question, answer, max_sequence_length=MAXLEN,\n",
        "                t_max_len=18, q_max_len=245, a_max_len=246):\n",
        "    # t = tokenizer.tokenize(title)\n",
        "    # q = tokenizer.tokenize(question)\n",
        "    # a = tokenizer.tokenize(answer)\n",
        "    t_len = len(title)\n",
        "    q_len = len(question)\n",
        "    a_len = len(answer)\n",
        "    if (t_len + q_len + a_len +3) > max_sequence_length:\n",
        "        if t_max_len > t_len:\n",
        "            t_new_len = t_len\n",
        "            a_max_len = a_max_len + np.floor((t_max_len - t_len) / 2)\n",
        "            q_max_len = q_max_len + np.ceil((t_max_len - t_len) / 2)\n",
        "        else:\n",
        "            t_new_len = t_max_len\n",
        "        if a_max_len > a_len:\n",
        "            a_new_len = a_len\n",
        "            q_new_len = q_max_len + (a_max_len - a_len)\n",
        "        elif q_max_len > q_len:\n",
        "            a_new_len = a_max_len + (q_max_len - q_len)\n",
        "            q_new_len = q_len\n",
        "        else:\n",
        "            a_new_len = a_max_len\n",
        "            q_new_len = q_max_len\n",
        "        if t_new_len + a_new_len + q_new_len +3 != max_sequence_length:\n",
        "            raise ValueError(\"New sequence length should be %d, but is %d\"\n",
        "                    % (max_sequence_length, (t_new_len + a_new_len + q_new_len +3)))\n",
        "        head_t_new_len = int(0.3 * t_new_len)\n",
        "        tail_t_new_len = int(t_new_len - head_t_new_len)\n",
        "\n",
        "        head_q_new_len = int(0.3 * q_new_len)\n",
        "        tail_q_new_len = int(q_new_len - head_q_new_len)\n",
        "\n",
        "        head_a_new_len = int(0.3 * a_new_len)\n",
        "        tail_a_new_len = int(a_new_len - head_a_new_len)\n",
        "\n",
        "        title = title[:head_t_new_len] + title[-tail_t_new_len:]\n",
        "        question = question[:head_q_new_len] + question[-tail_q_new_len:]\n",
        "        answer = answer[:head_a_new_len] + answer[-tail_a_new_len:]\n",
        "\n",
        "    return title, question, answer\n",
        "\n",
        "# token_dict = {}\n",
        "# with codecs.open(os.path.join(model_path, 'assets/vocab.txt'), 'r', 'utf8') as reader:\n",
        "#     for line in reader:\n",
        "#         token = line.strip()\n",
        "#         token_dict[token] = len(token_dict)\n",
        "# tokenizer = Tokenizer(token_dict, cased=CASED)\n",
        "tokenizer = bert_tokenizer.FullTokenizer(os.path.join(model_path, 'assets/vocab.txt'))\n"
      ],
      "execution_count": 0,
      "outputs": []
    },
    {
      "cell_type": "markdown",
      "metadata": {
        "id": "DdbE1aufyFmS",
        "colab_type": "text"
      },
      "source": [
        "## Experimental engineered features"
      ]
    },
    {
      "cell_type": "code",
      "metadata": {
        "id": "0A8YF2gNyEL1",
        "colab_type": "code",
        "colab": {}
      },
      "source": [
        "def aux_features(data_df):\n",
        "    data_df[\"n_question_body\"] = data_df[\"question_body\"].apply(lambda x: len(x.strip())) / 10000\n",
        "    data_df[\"n_question_title\"] = data_df[\"question_title\"].apply(lambda x: len(x.strip())) / 100\n",
        "    data_df[\"n_answer\"] = data_df[\"answer\"].apply(lambda x: len(x.strip())) / 10000\n",
        "    data_df[\"n_word_question_body\"] = data_df[\"question_body\"].apply(lambda x: len(x.split())) / 100\n",
        "    data_df[\"n_word_question_title\"] = data_df[\"question_title\"].apply(lambda x: len(x.split())) / 100\n",
        "    data_df[\"n_word_answer\"] = data_df[\"answer\"].apply(lambda x: len(x.split())) / 100\n",
        "    data_df[\"is_question_text_in_title\"] = data_df[\"question_title\"].apply(lambda x: float(\n",
        "        x.split()[0] in [\"Do\", \"Can\", \"What\", \"How\", \"Is\", \"Which\", \"When\", \"Where\", \"can\", \"what\", \"how\", \"is\",\n",
        "                            \"which\", \"What's\", \"does\", \"Does\", \"Are\", \"are\", \"Should\", \"Will\"] or x[-1] in [\"?\"]))\n",
        "    data_df[\"same_auther\"] = (data_df[\"question_user_name\"] == data_df[\"answer_user_name\"]).astype(float)\n",
        "    data_df[\"question_title_selection\"] = (data_df[\"question_title\"].apply(lambda x: \"or\" in x)).astype(float)\n",
        "\n",
        "    for i in tqdm(range(len(data_df))):\n",
        "        indirect = 0\n",
        "        question_count = 0\n",
        "        reason_explanation_words = 0\n",
        "        choice_words = 0\n",
        "        doc = nlp(data_df.loc[i, 'question_body'])\n",
        "        for sent in doc.sents:\n",
        "            if '?' in sent.text and '?' == sent.text[-1]:\n",
        "                question_count += 1  # -> question_multi_intent\n",
        "            for token in sent:\n",
        "                if token.text.lower() == 'why':  # question_type_reason_explanation e.g index->102\n",
        "                    reason_explanation_words += 1\n",
        "                elif token.text.lower() == 'or':\n",
        "                    choice_words += 1  # question_type_choice\n",
        "        if question_count == 0:\n",
        "            indirect = 1\n",
        "        data_df.loc[i, 'indirect'] = indirect\n",
        "        data_df.loc[i, 'question_count'] = question_count\n",
        "        data_df.loc[i, 'reason_explanation_words'] = reason_explanation_words\n",
        "        data_df.loc[i, 'choice_words'] = choice_words\n",
        "  \n",
        "    data_df['host'] = data_df.host.apply(lambda x: x.split('.')[0])\n",
        "    data_df['question_title'] = data_df['category']+' '+data_df['host']+' '+data_df['question_title']\n",
        "\n",
        "    return data_df\n",
        "\n",
        "train, test = aux_features(train), aux_features(test)\n"
      ],
      "execution_count": 0,
      "outputs": []
    },
    {
      "cell_type": "markdown",
      "metadata": {
        "id": "xpHGdTW66nTQ",
        "colab_type": "text"
      },
      "source": [
        "## Convert data to inputs"
      ]
    },
    {
      "cell_type": "code",
      "metadata": {
        "id": "hb2llbNDMhVm",
        "colab_type": "code",
        "colab": {}
      },
      "source": [
        "def convert_data(data_df, branch='training'):\n",
        "    data_df = data_df.reset_index(drop=True)\n",
        "    global tokenizer\n",
        "    global MAXLEN\n",
        "    global target_col\n",
        "    ids, segments = [], []\n",
        "    # q_title, q_body, answer = [], [], []\n",
        "    for i in tqdm(range(len(data_df))):\n",
        "        a = tokenizer.tokenize(data_df.loc[i, 'question_title'])\n",
        "        b = tokenizer.tokenize(data_df.loc[i, 'question_body'])\n",
        "        c = tokenizer.tokenize(data_df.loc[i, 'answer'])\n",
        "        a, b, c = _trim_input(a, b, c)\n",
        "        question = tokenizer.convert_tokens_to_ids(['[CLS]']+a+b+['[SEP]'])\n",
        "        answer = tokenizer.convert_tokens_to_ids(c+['[SEP]'])\n",
        "        ids.append(question + answer)\n",
        "        segments.append([0] * len(question) + [1] * len(answer))\n",
        "    # aux = data_df[['question_viewed_times', 'question_votes', 'answer_counts', 'answer_votes', 'answer_user_reputation', 'question_user_reputation']]\n",
        "    # aux = aux.apply(lambda x: (x - x.mean()) / x.std())    \n",
        "    # aux = data_df[['category', 'host']]    \n",
        "    if branch == 'training':\n",
        "        targets = data_df[target_col]\n",
        "        # return [ids, segments], np.array(aux, dtype='int32'), np.array(targets)\n",
        "        return [ids, segments], np.array(targets)\n",
        "    else:\n",
        "        # return [ids, segments], np.array(aux, dtype='int32')\n",
        "        return [ids, segments]"
      ],
      "execution_count": 0,
      "outputs": []
    },
    {
      "cell_type": "markdown",
      "metadata": {
        "id": "I7CUvw-fx08h",
        "colab_type": "text"
      },
      "source": [
        "## Data Generator"
      ]
    },
    {
      "cell_type": "code",
      "metadata": {
        "id": "jh7qwb8ZMlbK",
        "colab_type": "code",
        "colab": {}
      },
      "source": [
        "\"\"\"## Data Generator\"\"\"\n",
        "def seq_padding(X, padding=0):\n",
        "    L = [len(x) for x in X]\n",
        "    ML = min(max(L), MAXLEN)\n",
        "    # ML = MAXLEN\n",
        "    out = np.array([np.concatenate([x, [padding] * (ML - len(x))]) if len(x) < ML else x[:ML] for x in X])\n",
        "    return tf.convert_to_tensor(out, dtype=tf.int32)\n",
        "    \n",
        "def get_masks(X, padding=0):\n",
        "    L = [len(x) for x in X]\n",
        "    ML = min(max(L), MAXLEN)\n",
        "    # ML = MAXLEN\n",
        "    out = np.array([np.concatenate([[1]*len(x), [padding] * (ML - len(x))]) if len(x) < ML else [1]*ML for x in X])\n",
        "    return tf.convert_to_tensor(out, dtype=tf.int32)\n",
        "\n",
        "class data_generator:\n",
        "    def __init__(self, data, batch_size=BATCH_SIZE, branch='train'):\n",
        "        self.data = data\n",
        "        self.batch_size = batch_size\n",
        "        self.branch = branch\n",
        "        self.steps = len(self.data) // self.batch_size\n",
        "        if len(self.data) % self.batch_size != 0:\n",
        "            self.steps += 1\n",
        "\n",
        "    def __len__(self):\n",
        "        return self.steps\n",
        "\n",
        "    def __iter__(self):\n",
        "        while True:\n",
        "            if self.branch == 'train':\n",
        "                np.random.shuffle(self.data)\n",
        "            for i in range(self.steps):\n",
        "                d = self.data[i * self.batch_size: (i + 1) * self.batch_size]\n",
        "                X1 = seq_padding([x[0] for x in d])\n",
        "                X2 = get_masks([x[0] for x in d])    \n",
        "                X3 = seq_padding([x[1] for x in d])\n",
        "                # X3 = np.zeros_like(X1)\n",
        "\n",
        "                # aux = np.array([x[2][0] for x in d]).reshape(-1, 1)\n",
        "                # aux = tf.convert_to_tensor(aux, dtype=tf.int32)\n",
        "                # aux2 = np.array([x[2][1] for x in d]).reshape(-1, 1)\n",
        "                # aux2 = tf.convert_to_tensor(aux2, dtype=tf.int32)\n",
        "                if self.branch == 'test':\n",
        "                    yield [X1, X2, X3]\n",
        "                    # yield [X1, X2, X3, aux, aux2]\n",
        "                else:\n",
        "                    Y = tf.convert_to_tensor([x[2] for x in d], dtype=tf.float32)\n",
        "                    # Y2 = tf.convert_to_tensor([x[3] for x in d], dtype=tf.float32)\n",
        "                    yield [X1, X2, X3], Y\n",
        "                    # yield [X1, X2, X3, aux, aux2], Y\n"
      ],
      "execution_count": 0,
      "outputs": []
    },
    {
      "cell_type": "markdown",
      "metadata": {
        "id": "3YwdZXD38axV",
        "colab_type": "text"
      },
      "source": [
        "## Build model structure"
      ]
    },
    {
      "cell_type": "code",
      "metadata": {
        "id": "PZvVEWF62IdS",
        "colab_type": "code",
        "colab": {}
      },
      "source": [
        "def model_build(len_train, lr=LR, epochs=NUM_EPOCHS, bert_trainable=True):\n",
        "    global NUM_CLASSES\n",
        "    global BATCH_SIZE\n",
        "    global NUM_EPOCHS\n",
        "    global MIN_LR\n",
        "    # global LR\n",
        "    global MAXLEN\n",
        "    global model_path\n",
        "    global NUM_AUX\n",
        " \n",
        "    q_in = keras.layers.Input(shape=(None,), dtype=tf.int32, name=\"q_input_word_ids\")\n",
        "    q2_in = keras.layers.Input(shape=(None,), dtype=tf.int32, name=\"q_input_masks\")\n",
        "    q3_in = keras.layers.Input(shape=(None,), dtype=tf.int32, name=\"q_segment_ids\")\n",
        "    # input_category = keras.layers.Input((1,), dtype=tf.int32, name='input_category')\n",
        "    # input_host = tf.keras.layers.Input((1,), dtype=tf.int32, name='input_host')\n",
        "\n",
        "    bert_layer = hub.KerasLayer(model_path, trainable=bert_trainable)\n",
        "    _, q_inputs  = bert_layer([q_in, q2_in, q3_in])\n",
        "    q_outputs1 = keras.layers.GlobalAveragePooling1D()(q_inputs)\n",
        "    q_outputs1 = keras.layers.Dropout(0.1)(q_outputs1)\n",
        "    # q_outputs2 = keras.layers.GlobalMaxPooling1D()(q_inputs)\n",
        "    # q_outputs2 = keras.layers.Dropout(0.1)(q_outputs2)\n",
        "\n",
        "    # category_emb = keras.layers.Embedding(input_dim=len(category_encoder.mapper)+1, output_dim=32)(input_category)\n",
        "    # category_emb = keras.layers.SpatialDropout1D(0.1)(category_emb)\n",
        "\n",
        "    # host_emb = keras.layers.Embedding(input_dim=len(host_encoder.mapper)+1, output_dim=32)(input_host)\n",
        "    # host_emb = keras.layers.SpatialDropout1D(0.1)(host_emb)\n",
        "\n",
        "    # features_dense = keras.layers.concatenate([category_emb, host_emb], axis=1)\n",
        "    # features_dense = keras.layers.Flatten()(features_dense)\n",
        "\n",
        "    # dense = keras.layers.concatenate([q_outputs1, q_outputs2])\n",
        "    outputs = keras.layers.Dense(NUM_CLASSES, activation='sigmoid')(q_outputs1)\n",
        "    # aoutputs = keras.layers.Dense(9, activation='sigmoid')(dense)\n",
        "\n",
        "    # aux_out = keras.layers.Dense(NUM_AUX)(dense)\n",
        "    model = keras.Model([q_in, q2_in, q3_in], outputs)\n",
        "\n",
        "    decay_steps, warmup_steps = calc_train_steps(\n",
        "        len_train,\n",
        "        batch_size=BATCH_SIZE,\n",
        "        epochs=epochs,\n",
        "    )\n",
        "\n",
        "    model.compile(\n",
        "        loss=['binary_crossentropy'],\n",
        "        # loss_weights = [2/3, 1/3],\n",
        "        optimizer=AdamWarmup(\n",
        "            decay_steps=decay_steps,\n",
        "            warmup_steps=warmup_steps,\n",
        "            lr=lr,\n",
        "            min_lr=MIN_LR,\n",
        "            ))\n",
        "    #      optimizer=keras.optimizers.Adam(LR),\n",
        "    # )\n",
        "\n",
        "    return model"
      ],
      "execution_count": 0,
      "outputs": []
    },
    {
      "cell_type": "markdown",
      "metadata": {
        "id": "N56RysQWJ6R1",
        "colab_type": "text"
      },
      "source": [
        "## train model"
      ]
    },
    {
      "cell_type": "code",
      "metadata": {
        "id": "1EWLYgjzR5Tk",
        "colab_type": "code",
        "colab": {}
      },
      "source": [
        "# pred = np.zeros((len(test), NUM_CLASSES))\n",
        "# kf = RepeatedKFold(n_splits=10, n_repeats=1, random_state=1627)\n",
        "kf = RepeatedKFold(n_splits=5, n_repeats=2, random_state=0)\n",
        "idx = [x for x in kf.split(train, groups=train.question_body)]\n",
        "\n",
        "def compute_spearmanr(trues, preds):\n",
        "    rhos = []\n",
        "    for col_trues, col_pred in zip(trues.T, preds.T):\n",
        "        rhos.append(spearmanr(col_trues, col_pred).correlation)\n",
        "    return np.mean(rhos)\n",
        "\n",
        "class IntervalEval(keras.callbacks.Callback):\n",
        "    def __init__(self, stage=1, rho=-1):\n",
        "        global NUM_EPOCHS\n",
        "        global save_model\n",
        "        super(keras.callbacks.Callback, self).__init__()\n",
        "        self.stage = stage\n",
        "        self.rho = rho\n",
        "    def on_epoch_end(self, epoch, logs={}):\n",
        "        val_pred = self.model.predict_generator(valid_D.__iter__(), len(valid_D), verbose=1)\n",
        "        score = compute_spearmanr(val_pred, val_y)\n",
        "        print('Spearman - {:.5f}'.format(score))\n",
        "        # if self.stage==1:\n",
        "        if score > self.rho:\n",
        "            self.rho = score\n",
        "            print('--Save Model--')\n",
        "            self.model.save('drive/My Drive/GoogleQA/Models/{:}/{:}-{:}-{:}.h5'.format(save_path, save_model, i, self.stage))\n"
      ],
      "execution_count": 0,
      "outputs": []
    },
    {
      "cell_type": "code",
      "metadata": {
        "id": "hH88F-DJMsTR",
        "colab_type": "code",
        "outputId": "46b91dc5-3653-434d-d50b-090c5b9168b7",
        "colab": {
          "base_uri": "https://localhost:8080/",
          "height": 191
        }
      },
      "source": [
        "for i, (tr_idx, val_idx) in enumerate(idx[1:], 2):\n",
        "    keras.backend.clear_session()\n",
        "    gc.collect()\n",
        "\n",
        "    print('\\nFold - {:}\\n'.format(i))\n",
        "    tr, val = train.loc[tr_idx], train.loc[val_idx]\n",
        "    tr = data_aug(tr)\n",
        "    tr, val = add_host_category(tr), add_host_category(val)\n",
        "    tr_x, tr_y = convert_data(tr)\n",
        "    val_x, val_y = convert_data(val)\n",
        "\n",
        "    train_D = data_generator(list(zip(tr_x[0], tr_x[1], tr_y)))\n",
        "    valid_D = data_generator(list(zip(val_x[0], val_x[1], val_y)), branch='valid')\n",
        "    \n",
        "    # stage 1 fine tunning\n",
        "    ieval = IntervalEval()\n",
        "    model = model_build(len(tr))\n",
        "    model.fit_generator(\n",
        "        train_D.__iter__(),\n",
        "        steps_per_epoch=len(train_D),\n",
        "        epochs=NUM_EPOCHS,\n",
        "        callbacks = [ieval]\n",
        "    )   \n",
        "\n",
        "    # stage 2 fine tunning\n",
        "    ieval = IntervalEval(stage=2)\n",
        "    model = model_build(len(tr), lr=1e-4, epochs=4, bert_trainable=False)\n",
        "    model.load_weights('drive/My Drive/GoogleQA/Models/{:}/{:}-{:}-1.h5'.format(save_path, save_model, i))\n",
        "  \n",
        "    model.fit_generator(\n",
        "        train_D.__iter__(),\n",
        "        steps_per_epoch=len(train_D),\n",
        "        epochs=4,\n",
        "        callbacks = [ieval]\n",
        "    )\n",
        "\n",
        "    gc.collect()"
      ],
      "execution_count": 0,
      "outputs": [
        {
          "output_type": "stream",
          "text": [
            "  0%|          | 1/345 [00:00<00:34,  9.95it/s]"
          ],
          "name": "stderr"
        },
        {
          "output_type": "stream",
          "text": [
            "\n",
            "Fold - 2\n",
            "\n"
          ],
          "name": "stdout"
        },
        {
          "output_type": "stream",
          "text": [
            "100%|██████████| 345/345 [00:30<00:00, 11.43it/s]\n",
            "100%|██████████| 163/163 [00:09<00:00, 16.45it/s]\n",
            "100%|██████████| 5392/5392 [00:26<00:00, 205.23it/s]\n",
            "100%|██████████| 1216/1216 [00:06<00:00, 188.17it/s]\n"
          ],
          "name": "stderr"
        },
        {
          "output_type": "stream",
          "text": [
            "Train for 1348 steps\n",
            "Epoch 1/3\n",
            "  98/1348 [=>............................] - ETA: 14:38 - loss: 0.5445"
          ],
          "name": "stdout"
        }
      ]
    },
    {
      "cell_type": "code",
      "metadata": {
        "id": "XWNNEfR8qnG5",
        "colab_type": "code",
        "colab": {}
      },
      "source": [
        "# oof-prediction\n",
        "model = model_build(len(tr), bert_trainable=False)\n",
        "oof_pred = train[['qa_id']+target_col].copy()\n",
        "oof_pred[target_col] = 0\n",
        "\n",
        "for i, (tr_idx, val_idx) in enumerate(idx, 1):\n",
        "    print('\\nFold - {:}\\n'.format(i))\n",
        "    tr, val = train.loc[tr_idx], train.loc[val_idx]\n",
        "\n",
        "    val_x, val_aux, val_y = convert_data(val)\n",
        "    valid_D = data_generator(list(zip(val_x[0], val_x[1], val_aux, val_y)), branch='valid')\n",
        "\n",
        "    model.load_weights('drive/My Drive/GoogleQA/Models/{}/{}-{}-2.h5'.format(save_path, save_model, i))\n",
        "    val_pred = model.predict_generator(valid_D.__iter__(), len(valid_D), verbose=1)\n",
        "    oof_pred.loc[val_idx, target_col] += val_pred /2\n",
        "\n",
        "    \n",
        "    score = compute_spearmanr(val_y, val_pred)\n",
        "    print('Spearman - {:.5f}'.format(score))\n",
        "\n",
        "    gc.collect()\n",
        "\n",
        "oof_pred.to_csv('drive/My Drive/GoogleQA/Data/train_oof_pred_bbu4.csv', index=False)"
      ],
      "execution_count": 0,
      "outputs": []
    },
    {
      "cell_type": "markdown",
      "metadata": {
        "id": "JudYQut5qdbJ",
        "colab_type": "text"
      },
      "source": [
        "## oof-prediction hyperparameterize\n",
        "1. Number of bins\n",
        "2. Cutoffs"
      ]
    },
    {
      "cell_type": "markdown",
      "metadata": {
        "id": "OFnmddugkiwX",
        "colab_type": "text"
      },
      "source": [
        "### Just use \"90\" transform"
      ]
    },
    {
      "cell_type": "code",
      "metadata": {
        "id": "9cegkGSpSHCx",
        "colab_type": "code",
        "outputId": "fbef2544-218b-479b-c371-619587a0de9b",
        "colab": {
          "base_uri": "https://localhost:8080/",
          "height": 555
        }
      },
      "source": [
        "# bbu3: 0.42130\n",
        "# bbu4: 0.43406\n",
        "# bbu5: 0.42747\n",
        "# lindada: 0.61590\n",
        "oof_pred = pd.read_csv('drive/My Drive/GoogleQA/Data/train_oof_pred_bbu5.csv')\n",
        "score = compute_spearmanr(np.floor(oof_pred[target_col].values*90)/90, train[target_col].values)\n",
        "print('Total Score: {:.5f}'.format(score))\n",
        "\n",
        "# just using \"90\" transformation\n",
        "scores = []\n",
        "for col, col_trues, col_pred in zip(target_col, train[target_col].values.T, (np.floor(oof_pred[target_col].values *90)/90).T):\n",
        "    corr = spearmanr(col_trues, col_pred).correlation\n",
        "    print('{} - {:.5f}'.format(col, corr))\n",
        "    scores.append(corr)\n",
        "\n",
        "hyper1 = pd.DataFrame(dict(col=target_col, score1=scores))"
      ],
      "execution_count": 0,
      "outputs": [
        {
          "output_type": "stream",
          "text": [
            "Total Score: 0.43406\n",
            "question_asker_intent_understanding - 0.37733\n",
            "question_body_critical - 0.63442\n",
            "question_conversational - 0.45926\n",
            "question_expect_short_answer - 0.30630\n",
            "question_fact_seeking - 0.37559\n",
            "question_has_commonly_accepted_answer - 0.43029\n",
            "question_interestingness_others - 0.35603\n",
            "question_interestingness_self - 0.50361\n",
            "question_multi_intent - 0.59592\n",
            "question_not_really_a_question - 0.13007\n",
            "question_opinion_seeking - 0.48642\n",
            "question_type_choice - 0.75009\n",
            "question_type_compare - 0.43326\n",
            "question_type_consequence - 0.25752\n",
            "question_type_definition - 0.53540\n",
            "question_type_entity - 0.51243\n",
            "question_type_instructions - 0.78506\n",
            "question_type_procedure - 0.35115\n",
            "question_type_reason_explanation - 0.67556\n",
            "question_type_spelling - 0.26873\n",
            "question_well_written - 0.52203\n",
            "answer_helpful - 0.23490\n",
            "answer_level_of_information - 0.43260\n",
            "answer_plausible - 0.15822\n",
            "answer_relevance - 0.19437\n",
            "answer_satisfaction - 0.33899\n",
            "answer_type_instructions - 0.76599\n",
            "answer_type_procedure - 0.27665\n",
            "answer_type_reason_explanation - 0.68821\n",
            "answer_well_written - 0.18540\n"
          ],
          "name": "stdout"
        }
      ]
    },
    {
      "cell_type": "markdown",
      "metadata": {
        "id": "8w3-YFHgklQL",
        "colab_type": "text"
      },
      "source": [
        "### Use lower (to 0) or upper (to 1) resetting"
      ]
    },
    {
      "cell_type": "code",
      "metadata": {
        "id": "WJXnyWxJgag6",
        "colab_type": "code",
        "outputId": "2491778c-d493-4075-8f79-4b678aafaf3b",
        "colab": {
          "base_uri": "https://localhost:8080/",
          "height": 555
        }
      },
      "source": [
        "# bbu3: 0.44169\n",
        "# bbu4: 0.45424\n",
        "# bbu5: 0.44798 \n",
        "# Lindada: 0.66098\n",
        "corrparams = {\n",
        "    'pct': hp.randint('pct', len(oof_pred)),\n",
        "    'choice': hp.choice('choice', ['low', 'up'])\n",
        "    }\n",
        "def f_min(params, col):\n",
        "    tmp = oof_pred.copy()[col].values\n",
        "    if params['choice'] == 'low':\n",
        "        loweridx = tmp.argsort()[:params['pct']]\n",
        "        tmp[loweridx] = 0\n",
        "    else:\n",
        "        upperidx = tmp.argsort()[-params['pct']:]\n",
        "        tmp[upperidx] = 1\n",
        "    score = spearmanr(train[col].values, tmp).correlation\n",
        "    return {'loss': -round(score, 5), 'status': STATUS_OK}\n",
        "\n",
        "score, choice, pct = [], [], []\n",
        "for col in target_col:\n",
        "    f = partial(f_min, col=col)\n",
        "    trials = Trials()\n",
        "    best = fmin(f, corrparams, tpe.suggest, 100, rstate=np.random.RandomState(0), trials=trials, show_progressbar=False)\n",
        "    print('{} - {} - {} - pct: {:.3f}'.format(\n",
        "        col, \n",
        "        -trials.best_trial['result']['loss'],\n",
        "        ['low', 'up'][best['choice']],\n",
        "        best['pct']/len(oof_pred),\n",
        "        # best['upper']/len(oof_pred)\n",
        "        ))\n",
        "    score.append(-trials.best_trial['result']['loss'])\n",
        "    pct.append(round(best['pct']/len(oof_pred), 2))\n",
        "    choice.append(['low', 'up'][best['choice']])\n",
        "\n",
        "print(np.mean(score))\n",
        "\n",
        "hyper2 = pd.DataFrame(dict(col = target_col, pct = pct, choice=choice, score2 = score))"
      ],
      "execution_count": 0,
      "outputs": [
        {
          "output_type": "stream",
          "text": [
            "question_asker_intent_understanding - 0.37807 - low - pct: 0.086\n",
            "question_body_critical - 0.63432 - low - pct: 0.005\n",
            "question_conversational - 0.52396 - low - pct: 0.881\n",
            "question_expect_short_answer - 0.30577 - low - pct: 0.005\n",
            "question_fact_seeking - 0.37506 - low - pct: 0.005\n",
            "question_has_commonly_accepted_answer - 0.4881 - up - pct: 0.762\n",
            "question_interestingness_others - 0.35939 - low - pct: 0.459\n",
            "question_interestingness_self - 0.52263 - low - pct: 0.620\n",
            "question_multi_intent - 0.61034 - low - pct: 0.536\n",
            "question_not_really_a_question - 0.13796 - low - pct: 0.928\n",
            "question_opinion_seeking - 0.48662 - low - pct: 0.005\n",
            "question_type_choice - 0.76763 - low - pct: 0.459\n",
            "question_type_compare - 0.54274 - low - pct: 0.953\n",
            "question_type_consequence - 0.29275 - low - pct: 0.991\n",
            "question_type_definition - 0.63611 - low - pct: 0.928\n",
            "question_type_entity - 0.60212 - low - pct: 0.904\n",
            "question_type_instructions - 0.79341 - up - pct: 0.393\n",
            "question_type_procedure - 0.35181 - low - pct: 0.078\n",
            "question_type_reason_explanation - 0.67592 - low - pct: 0.319\n",
            "question_type_spelling - 0.33313 - low - pct: 0.998\n",
            "question_well_written - 0.52269 - low - pct: 0.123\n",
            "answer_helpful - 0.23759 - low - pct: 0.005\n",
            "answer_level_of_information - 0.43197 - low - pct: 0.005\n",
            "answer_plausible - 0.16228 - up - pct: 0.153\n",
            "answer_relevance - 0.19754 - up - pct: 0.262\n",
            "answer_satisfaction - 0.3392 - up - pct: 0.005\n",
            "answer_type_instructions - 0.76713 - low - pct: 0.199\n",
            "answer_type_procedure - 0.27725 - low - pct: 0.005\n",
            "answer_type_reason_explanation - 0.68823 - up - pct: 0.005\n",
            "answer_well_written - 0.18539 - low - pct: 0.036\n",
            "0.454237\n"
          ],
          "name": "stdout"
        }
      ]
    },
    {
      "cell_type": "code",
      "metadata": {
        "id": "5NStA_1iDWx5",
        "colab_type": "code",
        "outputId": "1afa8e81-1629-4ab6-da08-6a5d53b0037f",
        "colab": {
          "base_uri": "https://localhost:8080/",
          "height": 121
        }
      },
      "source": [
        "train['answer_type_procedure'].value_counts(normalize=True)"
      ],
      "execution_count": 0,
      "outputs": [
        {
          "output_type": "execute_result",
          "data": {
            "text/plain": [
              "0.000000    0.704228\n",
              "0.333333    0.205955\n",
              "0.666667    0.053134\n",
              "0.500000    0.020234\n",
              "1.000000    0.016450\n",
              "Name: answer_type_procedure, dtype: float64"
            ]
          },
          "metadata": {
            "tags": []
          },
          "execution_count": 38
        }
      ]
    },
    {
      "cell_type": "markdown",
      "metadata": {
        "id": "czO2o18alP1a",
        "colab_type": "text"
      },
      "source": [
        "### Use n-binning"
      ]
    },
    {
      "cell_type": "code",
      "metadata": {
        "id": "WTzolfJeWgXR",
        "colab_type": "code",
        "outputId": "67fa0dd0-f8df-4ec5-b638-d4985d26173e",
        "colab": {
          "base_uri": "https://localhost:8080/",
          "height": 555
        }
      },
      "source": [
        "# bbu3: 0.43042\n",
        "# bbu4: 0.44542\n",
        "\n",
        "def f1_min(params, col):\n",
        "    tmp = oof_pred.copy()[col].values\n",
        "    paramlist = [params['p'+str(i)] for i in range(len(params))]\n",
        "    bins = np.percentile(tmp, paramlist)\n",
        "    tmp = np.digitize(tmp, np.sort(bins)) / len(bins)\n",
        "    score = spearmanr(train[col].values, tmp).correlation\n",
        "    return {'loss': -round(score, 5), 'status': STATUS_OK}\n",
        "\n",
        "def f2_min(params, col):\n",
        "    cutoff = {'p'+str(i): hp.randint('p'+str(i), 101) for i in range(params['num_bin'])}\n",
        "    f = partial(f1_min, col=col)\n",
        "    trials = Trials()\n",
        "    best = fmin(f, cutoff, tpe.suggest, 100, rstate=np.random.RandomState(0), trials=trials, \n",
        "                show_progressbar=False)\n",
        "    # print('{} - {}'.format(col, -trials.best_trial['result']['loss']))\n",
        "    score = -trials.best_trial['result']['loss']\n",
        "    return {'loss': -round(score, 5), 'status': STATUS_OK, 'cutoff': list(best.values())}\n",
        "\n",
        "score, cutoffs = [], []\n",
        "for col in target_col:\n",
        "    numbin = {'num_bin': hp.randint('num_bin', 19)+2}\n",
        "    f = partial(f2_min, col=col)\n",
        "    trials = Trials()\n",
        "    best = fmin(f, numbin, tpe.suggest, 10, rstate=np.random.RandomState(0), trials=trials, show_progressbar=False)\n",
        "    print('{} - {}'.format(col, -trials.best_trial['result']['loss']))\n",
        "    score.append(-trials.best_trial['result']['loss'])\n",
        "    cutoffs.append(trials.best_trial['result']['cutoff'])\n",
        "\n",
        "print(np.mean(score))\n",
        "hyper3 = pd.DataFrame(dict(col = target_col, cutoffs_pct = cutoffs, score3 = score))\n"
      ],
      "execution_count": 0,
      "outputs": [
        {
          "output_type": "stream",
          "text": [
            "question_asker_intent_understanding - 0.37851\n",
            "question_body_critical - 0.63356\n",
            "question_conversational - 0.5164\n",
            "question_expect_short_answer - 0.30806\n",
            "question_fact_seeking - 0.37662\n",
            "question_has_commonly_accepted_answer - 0.48123\n",
            "question_interestingness_others - 0.35821\n",
            "question_interestingness_self - 0.51695\n",
            "question_multi_intent - 0.60606\n",
            "question_not_really_a_question - 0.13406\n",
            "question_opinion_seeking - 0.48651\n",
            "question_type_choice - 0.76248\n",
            "question_type_compare - 0.53144\n",
            "question_type_consequence - 0.27764\n",
            "question_type_definition - 0.6253\n",
            "question_type_entity - 0.59428\n",
            "question_type_instructions - 0.79094\n",
            "question_type_procedure - 0.35602\n",
            "question_type_reason_explanation - 0.67527\n",
            "question_type_spelling - 0.12838\n",
            "question_well_written - 0.52302\n",
            "answer_helpful - 0.24005\n",
            "answer_level_of_information - 0.4319\n",
            "answer_plausible - 0.16638\n",
            "answer_relevance - 0.1986\n",
            "answer_satisfaction - 0.34072\n",
            "answer_type_instructions - 0.76742\n",
            "answer_type_procedure - 0.28015\n",
            "answer_type_reason_explanation - 0.68777\n",
            "answer_well_written - 0.18893\n",
            "0.4454286666666667\n"
          ],
          "name": "stdout"
        }
      ]
    },
    {
      "cell_type": "code",
      "metadata": {
        "id": "-09vXszbrtM8",
        "colab_type": "code",
        "outputId": "3f0d8b54-0969-4e16-c097-40229ddf7fa6",
        "colab": {
          "base_uri": "https://localhost:8080/",
          "height": 35
        }
      },
      "source": [
        "# bbu 3: 0.44462\n",
        "# bbu 4: 0.45486 (LB: 0.444)\n",
        "# bbu 5: 0.44808 (LB: 0.441)\n",
        "hyper = hyper1.merge(hyper2, on='col').merge(hyper3, on='col')\n",
        "hyper.to_csv('drive/My Drive/GoogleQA/Data/hyper.csv', index=False)\n",
        "hyper['score'] = hyper[['score1', 'score2', 'score3']].max(axis=1)\n",
        "hyper['score'].mean()"
      ],
      "execution_count": 0,
      "outputs": [
        {
          "output_type": "execute_result",
          "data": {
            "text/plain": [
              "0.45486470579748267"
            ]
          },
          "metadata": {
            "tags": []
          },
          "execution_count": 41
        }
      ]
    },
    {
      "cell_type": "markdown",
      "metadata": {
        "id": "H4pu4zbKpBAW",
        "colab_type": "text"
      },
      "source": [
        "## test prediction"
      ]
    },
    {
      "cell_type": "code",
      "metadata": {
        "id": "V2J1yS8HpCrx",
        "colab_type": "code",
        "colab": {}
      },
      "source": [
        "test_pred = pd.read_csv('drive/My Drive/GoogleQA/Data/test_oof_pred.csv')\n",
        "hyper = pd.read_csv('drive/My Drive/GoogleQA/Data/hyper.csv')\n",
        "pred = test_pred[target_col].copy().values"
      ],
      "execution_count": 0,
      "outputs": []
    },
    {
      "cell_type": "code",
      "metadata": {
        "id": "SRYN8QsepVkN",
        "colab_type": "code",
        "outputId": "513a2ec1-1c99-4725-db98-ff7f542e4fb9",
        "colab": {
          "base_uri": "https://localhost:8080/",
          "height": 35
        }
      },
      "source": [
        "col1 = hyper.loc[hyper[['score1', 'score2', 'score3']].max(axis=1) == hyper.score1, 'col'].tolist()\n",
        "col2 = hyper.loc[hyper[['score1', 'score2', 'score3']].max(axis=1) == hyper.score2, 'col'].tolist()\n",
        "col3 = hyper.loc[hyper[['score1', 'score2', 'score3']].max(axis=1) == hyper.score3, 'col'].tolist()\n",
        "\n",
        "\n",
        "for col in col1:\n",
        "    colidx = target_col.index(col)\n",
        "    pred[:, colidx] = (pred[:, colidx]//(1/90))/90\n",
        "\n",
        "for col in col2:\n",
        "    if hyper.loc[hyper.col==col, 'lower'].values == 1:\n",
        "        pct = hyper.loc[hyper.col==col, 'lower'] - 0.01\n",
        "    else:\n",
        "        pct = hyper.loc[hyper.col==col, 'lower']\n",
        "    changerow = int(len(test) * pct)\n",
        "    colidx = target_col.index(col)\n",
        "    rowidx = pred[:, colidx].argsort()[:changerow]\n",
        "    pred[rowidx, colidx] = 0\n",
        "    \n",
        "for col in col3:\n",
        "    cutoffs_pct = [int(x) for x in hyper.loc[hyper.col==col, 'cutoffs_pct'].strip('[]').split(',')]\n",
        "    colidx = target_col.index(col)\n",
        "    bins = np.percentile(pred[:, colidx], list(set(cutoffs_pct)))\n",
        "    pred[:, colidx] = np.digitize(pred[:, colidx], np.sort(bins)) / len(bins)\n"
      ],
      "execution_count": 0,
      "outputs": [
        {
          "output_type": "execute_result",
          "data": {
            "text/plain": [
              "['question_body_critical', 'answer_level_of_information']"
            ]
          },
          "metadata": {
            "tags": []
          },
          "execution_count": 46
        }
      ]
    },
    {
      "cell_type": "markdown",
      "metadata": {
        "id": "cRMV2dmrNV4x",
        "colab_type": "text"
      },
      "source": [
        "## USE Model"
      ]
    },
    {
      "cell_type": "code",
      "metadata": {
        "id": "hOvLGUbfNX9W",
        "colab_type": "code",
        "colab": {}
      },
      "source": [
        "\n",
        "# train['sentence'] = train['question'] + ' ' + train['answer']\n",
        "embed1 = hub.load(\"https://tfhub.dev/google/universal-sentence-encoder-large/5\")\n",
        "# embed2 = hub.load('https://tfhub.dev/google/nnlm-en-dim128/2')\n",
        "\n",
        "def UniversalEmbedding(x):\n",
        "    return embed1(tf.squeeze(tf.cast(x, tf.string)))\n",
        "\n",
        "# def NNLMEmbedding(x):\n",
        "#     return embed2(tf.squeeze(tf.cast(x, tf.string)))\n",
        "\n",
        "def use_model():\n",
        "    \n",
        "    q = keras.layers.Input(shape=(1,), dtype=tf.string)\n",
        "    qb = keras.layers.Input(shape=(1,), dtype=tf.string)\n",
        "    a = keras.layers.Input(shape=(1,), dtype=tf.string)\n",
        "\n",
        "    def hidden_layer(input_layer):\n",
        "        x = keras.layers.Lambda(UniversalEmbedding, output_shape=(512, ))(input_layer)\n",
        "        # embed2 = keras.layers.Lambda(NNLMEmbedding, output_shape=(128, ))(input_layer)\n",
        "        # embed = keras.layers.concatenate([embed1, embed2])\n",
        "        x = keras.layers.Dropout(0.2)(x)\n",
        "        x = keras.backend.expand_dims(x, axis=1)\n",
        "        # x = keras.layers.Bidirectional(keras.layers.CuDNNLSTM(128, return_sequences=True))(x)\n",
        "        # x = keras.layers.Bidirectional(keras.layers.CuDNNLSTM(128, return_sequences=True))(x)\n",
        "        # GP = keras.layers.GlobalMaxPooling1D()(x)\n",
        "        # GP = keras.layers.Dropout(0.2)(GP)\n",
        "        # AP = keras.layers.GlobalAveragePooling1D()(x)\n",
        "        # AP = keras.layers.Dropout(0.2)(AP)\n",
        "        # hidden = keras.layers.concatenate([GP, AP])\n",
        "        # hidden = keras.layers.add([hidden, keras.layers.Dense(512, activation='relu')(hidden)])\n",
        "        # hidden = keras.layers.add([hidden, keras.layers.Dense(512, activation='relu')(hidden)])\n",
        "\n",
        "        x1 = keras.layers.Bidirectional(keras.layers.CuDNNLSTM(256, return_sequences=True))(x)\n",
        "        x2 = keras.layers.Bidirectional(keras.layers.CuDNNGRU(128, return_sequences=True))(x1)\n",
        "        max_pool1 = keras.layers.GlobalMaxPooling1D()(x1)\n",
        "        max_pool2 = keras.layers.GlobalMaxPooling1D()(x2)\n",
        "        hidden = keras.layers.concatenate([max_pool1, max_pool2])\n",
        "        return hidden\n",
        "\n",
        "    q_embed, qb_embed, a_embed = hidden_layer(q), hidden_layer(qb), hidden_layer(a)\n",
        "    all_embed = keras.layers.concatenate([q_embed, qb_embed, a_embed])\n",
        "    dense = keras.layers.Dense(256, activation='relu')(all_embed)\n",
        "    pred = keras.layers.Dense(30, activation='sigmoid')(dense)\n",
        "    model = keras.Model(inputs=[q, qb, a], outputs=pred)\n",
        "    model.compile(loss='binary_crossentropy', optimizer=keras.optimizers.Adam(learning_rate=5e-3))\n",
        "    # del embed\n",
        "    # gc.collect()\n",
        "    return model\n"
      ],
      "execution_count": 0,
      "outputs": []
    },
    {
      "cell_type": "code",
      "metadata": {
        "id": "nTIxpMnFNhju",
        "colab_type": "code",
        "colab": {}
      },
      "source": [
        "kf = RepeatedKFold(n_splits=5, n_repeats=2, random_state=0)\n",
        "idx = [x for x in kf.split(train, groups=train.question_body)]\n",
        "def compute_spearmanr(trues, preds):\n",
        "    rhos = []\n",
        "    for col_trues, col_pred in zip(trues.T, preds.T):\n",
        "        rhos.append(spearmanr(col_trues, col_pred).correlation)\n",
        "    return np.mean(rhos)\n",
        "\n",
        "class IntervalEval(keras.callbacks.Callback):\n",
        "    def __init__(self, val_data, label):\n",
        "        super(keras.callbacks.Callback, self).__init__()\n",
        "        self.val_data = val_data\n",
        "        self.score = 0\n",
        "        self.maxscore = 0\n",
        "        self.label = label\n",
        "        self.patience = 3\n",
        "        self.count = 0\n",
        "    def on_epoch_end(self, epoch, logs={}):\n",
        "        # if epoch == 3:\n",
        "        val_pred = self.model.predict(self.val_data, batch_size=16, verbose=1)\n",
        "        score = compute_spearmanr(self.label, val_pred)\n",
        "        print('Spearman - {:.5f}'.format(score))\n",
        "        if self.maxscore>=0.3:\n",
        "            self.patience=2\n",
        "        if (score < self.score):\n",
        "            self.score = score\n",
        "            self.count+=1\n",
        "            if self.count==self.patience:\n",
        "                self.model.stop_training=True\n",
        "        elif score > self.maxscore:\n",
        "            self.score = score\n",
        "            self.maxscore = score\n",
        "            self.count = 0\n",
        "            if self.maxscore > 0.3:\n",
        "                self.model.save('drive/My Drive/GoogleQA/Models/{:}/use-model-{:}.h5'.format(save_model, i))\n",
        "        else:\n",
        "            self.score = score\n",
        "            self.count = 0\n",
        "          "
      ],
      "execution_count": 0,
      "outputs": []
    },
    {
      "cell_type": "code",
      "metadata": {
        "id": "6Bd--Dd_QUof",
        "colab_type": "code",
        "outputId": "4a135471-867b-4a2e-ba23-c5fe112ac9d7",
        "colab": {
          "base_uri": "https://localhost:8080/",
          "height": 1000
        }
      },
      "source": [
        "with tf.Session() as session:\n",
        "    keras.backend.set_session(session)\n",
        "    session.run(tf.global_variables_initializer())  \n",
        "    session.run(tf.tables_initializer())\n",
        "    for i, (tr_idx, val_idx) in enumerate(idx, 1):\n",
        "        print('\\nFold - {:}\\n'.format(i))\n",
        "        tr, val = train.loc[tr_idx], train.loc[val_idx]\n",
        "        tr_x = [tr['question_title'], tr['question_body'], tr['answer']]\n",
        "        val_x = [val['question_title'], val['question_body'], val['answer']]\n",
        "        ieval = IntervalEval(val_data=val_x, label=val[target_col].values)\n",
        "        model = use_model()\n",
        "        history = model.fit(\n",
        "            tr_x,\n",
        "            tr[target_col],\n",
        "            epochs=100, \n",
        "            batch_size=16,\n",
        "            callbacks=[ieval])\n",
        "        del model, tr, val, tr_x, val_x\n",
        "        gc.collect()\n",
        "\n",
        "# with tf.Session() as session:\n",
        "#     keras.backend.set_session(session)\n",
        "#     session.run(tf.global_variables_initializer())  \n",
        "#     session.run(tf.tables_initializer())\n",
        "#     model.load_weights('use-model-1.h5')\n",
        "#     preds = model.predict(val['sentence'], batch_size=16, verbose=1)\n",
        "#     score=compute_spearmanr(val[target_col].values, preds)\n",
        "#     print('Spearman - {:.5f}'.format(score))"
      ],
      "execution_count": 0,
      "outputs": [
        {
          "output_type": "stream",
          "text": [
            "\n",
            "Fold - 1\n",
            "\n",
            "Train on 4863 samples\n",
            "Epoch 1/100\n",
            "1216/1216 [==============================] - 33s 27ms/sample\n",
            "Spearman - 0.35849\n",
            "4863/4863 [==============================] - 170s 35ms/sample - loss: 0.3946\n",
            "Epoch 2/100\n",
            "1216/1216 [==============================] - 16s 13ms/sample\n",
            "Spearman - 0.36453\n",
            "4863/4863 [==============================] - 85s 18ms/sample - loss: 0.3720\n",
            "Epoch 3/100\n",
            "1216/1216 [==============================] - 16s 13ms/sample\n",
            "Spearman - 0.37807\n",
            "4863/4863 [==============================] - 85s 18ms/sample - loss: 0.3628\n",
            "Epoch 4/100\n",
            "1216/1216 [==============================] - 16s 13ms/sample\n",
            "Spearman - 0.37832\n",
            "4863/4863 [==============================] - 86s 18ms/sample - loss: 0.3549\n",
            "Epoch 5/100\n",
            "1216/1216 [==============================] - 16s 13ms/sample\n",
            "Spearman - 0.37996\n",
            "4863/4863 [==============================] - 86s 18ms/sample - loss: 0.3462\n",
            "Epoch 6/100\n",
            "1216/1216 [==============================] - 16s 13ms/sample\n",
            "Spearman - 0.37266\n",
            "4863/4863 [==============================] - 84s 17ms/sample - loss: 0.3358\n",
            "Epoch 7/100\n",
            "1216/1216 [==============================] - 16s 13ms/sample\n",
            "Spearman - 0.36546\n",
            "4863/4863 [==============================] - 84s 17ms/sample - loss: 0.3244\n",
            "\n",
            "Fold - 2\n",
            "\n",
            "Train on 4863 samples\n",
            "Epoch 1/100\n",
            "1216/1216 [==============================] - 34s 28ms/sample\n",
            "Spearman - 0.33703\n",
            "4863/4863 [==============================] - 156s 32ms/sample - loss: 0.3924\n",
            "Epoch 2/100\n",
            "1216/1216 [==============================] - 16s 13ms/sample\n",
            "Spearman - 0.34534\n",
            "4863/4863 [==============================] - 88s 18ms/sample - loss: 0.3710\n",
            "Epoch 3/100\n",
            "1216/1216 [==============================] - 16s 13ms/sample\n",
            "Spearman - 0.36068\n",
            "4863/4863 [==============================] - 87s 18ms/sample - loss: 0.3621\n",
            "Epoch 4/100\n",
            "1216/1216 [==============================] - 16s 13ms/sample\n",
            "Spearman - 0.36306\n",
            "4863/4863 [==============================] - 87s 18ms/sample - loss: 0.3539\n",
            "Epoch 5/100\n",
            "1216/1216 [==============================] - 16s 13ms/sample\n",
            "Spearman - 0.36120\n",
            "4863/4863 [==============================] - 87s 18ms/sample - loss: 0.3444\n",
            "Epoch 6/100\n",
            "1216/1216 [==============================] - 16s 13ms/sample\n",
            "Spearman - 0.35571\n",
            "4863/4863 [==============================] - 86s 18ms/sample - loss: 0.3338\n",
            "\n",
            "Fold - 3\n",
            "\n",
            "Train on 4863 samples\n",
            "Epoch 1/100\n",
            "1216/1216 [==============================] - 34s 28ms/sample\n",
            "Spearman - 0.34580\n",
            "4863/4863 [==============================] - 160s 33ms/sample - loss: 0.3934\n",
            "Epoch 2/100\n",
            "1216/1216 [==============================] - 16s 13ms/sample\n",
            "Spearman - 0.36574\n",
            "4863/4863 [==============================] - 87s 18ms/sample - loss: 0.3713\n",
            "Epoch 3/100\n",
            "1216/1216 [==============================] - 16s 13ms/sample\n",
            "Spearman - 0.37321\n",
            "4863/4863 [==============================] - 86s 18ms/sample - loss: 0.3624\n",
            "Epoch 4/100\n",
            "1216/1216 [==============================] - 16s 13ms/sample\n",
            "Spearman - 0.36790\n",
            "4863/4863 [==============================] - 86s 18ms/sample - loss: 0.3541\n",
            "Epoch 5/100\n",
            "1216/1216 [==============================] - 15s 13ms/sample\n",
            "Spearman - 0.37437\n",
            "4863/4863 [==============================] - 87s 18ms/sample - loss: 0.3454\n",
            "Epoch 6/100\n",
            "1216/1216 [==============================] - 16s 13ms/sample\n",
            "Spearman - 0.35966\n",
            "4863/4863 [==============================] - 85s 18ms/sample - loss: 0.3339\n",
            "Epoch 7/100\n",
            "1216/1216 [==============================] - 16s 13ms/sample\n",
            "Spearman - 0.35308\n",
            "4863/4863 [==============================] - 85s 18ms/sample - loss: 0.3227\n",
            "\n",
            "Fold - 4\n",
            "\n",
            "Train on 4863 samples\n",
            "Epoch 1/100\n",
            "1216/1216 [==============================] - 35s 29ms/sample\n",
            "Spearman - 0.34625\n",
            "4863/4863 [==============================] - 160s 33ms/sample - loss: 0.3937\n",
            "Epoch 2/100\n",
            "1216/1216 [==============================] - 17s 14ms/sample\n",
            "Spearman - 0.35942\n",
            "4863/4863 [==============================] - 85s 18ms/sample - loss: 0.3718\n",
            "Epoch 3/100\n",
            "1216/1216 [==============================] - 17s 14ms/sample\n",
            "Spearman - 0.36250\n",
            "4863/4863 [==============================] - 86s 18ms/sample - loss: 0.3624\n",
            "Epoch 4/100\n",
            "1216/1216 [==============================] - 16s 13ms/sample\n",
            "Spearman - 0.36419\n",
            "4863/4863 [==============================] - 85s 18ms/sample - loss: 0.3542\n",
            "Epoch 5/100\n",
            "1216/1216 [==============================] - 17s 14ms/sample\n",
            "Spearman - 0.36604\n",
            "4863/4863 [==============================] - 86s 18ms/sample - loss: 0.3455\n",
            "Epoch 6/100\n",
            "1216/1216 [==============================] - 16s 14ms/sample\n",
            "Spearman - 0.35845\n",
            "4863/4863 [==============================] - 84s 17ms/sample - loss: 0.3351\n",
            "Epoch 7/100\n",
            "1216/1216 [==============================] - 16s 14ms/sample\n",
            "Spearman - 0.36201\n",
            "4863/4863 [==============================] - 84s 17ms/sample - loss: 0.3232\n",
            "Epoch 8/100\n",
            "1216/1216 [==============================] - 17s 14ms/sample\n",
            "Spearman - 0.35785\n",
            "4863/4863 [==============================] - 85s 17ms/sample - loss: 0.3119\n",
            "Epoch 9/100\n",
            "1216/1216 [==============================] - 16s 13ms/sample\n",
            "Spearman - 0.35012\n",
            "4863/4863 [==============================] - 84s 17ms/sample - loss: 0.3011\n",
            "\n",
            "Fold - 5\n",
            "\n",
            "Train on 4864 samples\n",
            "Epoch 1/100\n",
            "1215/1215 [==============================] - 37s 30ms/sample\n",
            "Spearman - 0.34068\n",
            "4864/4864 [==============================] - 168s 34ms/sample - loss: 0.3943\n",
            "Epoch 2/100\n",
            "1215/1215 [==============================] - 16s 13ms/sample\n",
            "Spearman - 0.35529\n",
            "4864/4864 [==============================] - 86s 18ms/sample - loss: 0.3726\n",
            "Epoch 3/100\n",
            "1215/1215 [==============================] - 17s 14ms/sample\n",
            "Spearman - 0.35790\n",
            "4864/4864 [==============================] - 86s 18ms/sample - loss: 0.3637\n",
            "Epoch 4/100\n",
            "1215/1215 [==============================] - 17s 14ms/sample\n",
            "Spearman - 0.35886\n",
            "4864/4864 [==============================] - 86s 18ms/sample - loss: 0.3551\n",
            "Epoch 5/100\n",
            "1215/1215 [==============================] - 17s 14ms/sample\n",
            "Spearman - 0.36241\n",
            "4864/4864 [==============================] - 87s 18ms/sample - loss: 0.3468\n",
            "Epoch 6/100\n",
            "1215/1215 [==============================] - 17s 14ms/sample\n",
            "Spearman - 0.35775\n",
            "4864/4864 [==============================] - 85s 17ms/sample - loss: 0.3355\n",
            "Epoch 7/100\n",
            "1215/1215 [==============================] - 16s 14ms/sample\n",
            "Spearman - 0.34976\n",
            "4864/4864 [==============================] - 85s 17ms/sample - loss: 0.3240\n",
            "\n",
            "Fold - 6\n",
            "\n",
            "Train on 4863 samples\n",
            "Epoch 1/100\n",
            "1216/1216 [==============================] - 37s 30ms/sample\n",
            "Spearman - 0.33484\n",
            "4863/4863 [==============================] - 169s 35ms/sample - loss: 0.3942\n",
            "Epoch 2/100\n",
            "1216/1216 [==============================] - 16s 13ms/sample\n",
            "Spearman - 0.36367\n",
            "4863/4863 [==============================] - 87s 18ms/sample - loss: 0.3720\n",
            "Epoch 3/100\n",
            "1216/1216 [==============================] - 17s 14ms/sample\n",
            "Spearman - 0.36417\n",
            "4863/4863 [==============================] - 87s 18ms/sample - loss: 0.3626\n",
            "Epoch 4/100\n",
            "1216/1216 [==============================] - 17s 14ms/sample\n",
            "Spearman - 0.36823\n",
            "4863/4863 [==============================] - 86s 18ms/sample - loss: 0.3540\n",
            "Epoch 5/100\n",
            "1216/1216 [==============================] - 16s 13ms/sample\n",
            "Spearman - 0.36329\n",
            "4863/4863 [==============================] - 85s 17ms/sample - loss: 0.3453\n",
            "Epoch 6/100\n",
            "1216/1216 [==============================] - 16s 13ms/sample\n",
            "Spearman - 0.35710\n",
            "4863/4863 [==============================] - 82s 17ms/sample - loss: 0.3342\n",
            "\n",
            "Fold - 7\n",
            "\n",
            "Train on 4863 samples\n",
            "Epoch 1/100\n",
            "1216/1216 [==============================] - 36s 30ms/sample\n",
            "Spearman - 0.34222\n",
            "4863/4863 [==============================] - 168s 35ms/sample - loss: 0.3936\n",
            "Epoch 2/100\n",
            "1216/1216 [==============================] - 16s 13ms/sample\n",
            "Spearman - 0.35259\n",
            "4863/4863 [==============================] - 84s 17ms/sample - loss: 0.3722\n",
            "Epoch 3/100\n",
            "1216/1216 [==============================] - 16s 13ms/sample\n",
            "Spearman - 0.34803\n",
            "4863/4863 [==============================] - 84s 17ms/sample - loss: 0.3635\n",
            "Epoch 4/100\n",
            "1216/1216 [==============================] - 16s 13ms/sample\n",
            "Spearman - 0.35987\n",
            "4863/4863 [==============================] - 84s 17ms/sample - loss: 0.3550\n",
            "Epoch 5/100\n",
            "1216/1216 [==============================] - 15s 13ms/sample\n",
            "Spearman - 0.36029\n",
            "4863/4863 [==============================] - 84s 17ms/sample - loss: 0.3457\n",
            "Epoch 6/100\n",
            "1216/1216 [==============================] - 16s 13ms/sample\n",
            "Spearman - 0.35276\n",
            "4863/4863 [==============================] - 83s 17ms/sample - loss: 0.3352\n",
            "Epoch 7/100\n",
            "1216/1216 [==============================] - 16s 13ms/sample\n",
            "Spearman - 0.34791\n",
            "4863/4863 [==============================] - 83s 17ms/sample - loss: 0.3231\n",
            "\n",
            "Fold - 8\n",
            "\n",
            "Train on 4863 samples\n",
            "Epoch 1/100\n",
            "1216/1216 [==============================] - 37s 30ms/sample\n",
            "Spearman - 0.33639\n",
            "4863/4863 [==============================] - 172s 35ms/sample - loss: 0.3933\n",
            "Epoch 2/100\n",
            "1216/1216 [==============================] - 15s 13ms/sample\n",
            "Spearman - 0.36531\n",
            "4863/4863 [==============================] - 85s 18ms/sample - loss: 0.3722\n",
            "Epoch 3/100\n",
            "1216/1216 [==============================] - 15s 13ms/sample\n",
            "Spearman - 0.36391\n",
            "4863/4863 [==============================] - 83s 17ms/sample - loss: 0.3632\n",
            "Epoch 4/100\n",
            "1216/1216 [==============================] - 16s 13ms/sample\n",
            "Spearman - 0.37153\n",
            "4863/4863 [==============================] - 84s 17ms/sample - loss: 0.3548\n",
            "Epoch 5/100\n",
            "1216/1216 [==============================] - 16s 13ms/sample\n",
            "Spearman - 0.36293\n",
            "4863/4863 [==============================] - 84s 17ms/sample - loss: 0.3456\n",
            "Epoch 6/100\n",
            "1216/1216 [==============================] - 16s 13ms/sample\n",
            "Spearman - 0.35556\n",
            "4863/4863 [==============================] - 84s 17ms/sample - loss: 0.3350\n",
            "\n",
            "Fold - 9\n",
            "\n",
            "Train on 4863 samples\n",
            "Epoch 1/100\n",
            "1216/1216 [==============================] - 38s 31ms/sample\n",
            "Spearman - 0.33901\n",
            "4863/4863 [==============================] - 179s 37ms/sample - loss: 0.3935\n",
            "Epoch 2/100\n",
            "1216/1216 [==============================] - 16s 13ms/sample\n",
            "Spearman - 0.35072\n",
            "4863/4863 [==============================] - 86s 18ms/sample - loss: 0.3710\n",
            "Epoch 3/100\n",
            "1216/1216 [==============================] - 16s 13ms/sample\n",
            "Spearman - 0.36947\n",
            "4863/4863 [==============================] - 86s 18ms/sample - loss: 0.3626\n",
            "Epoch 4/100\n",
            "1216/1216 [==============================] - 16s 14ms/sample\n",
            "Spearman - 0.36432\n",
            "4863/4863 [==============================] - 85s 18ms/sample - loss: 0.3540\n",
            "Epoch 5/100\n",
            "1216/1216 [==============================] - 16s 13ms/sample\n",
            "Spearman - 0.36742\n",
            "4863/4863 [==============================] - 85s 17ms/sample - loss: 0.3452\n",
            "Epoch 6/100\n",
            "1216/1216 [==============================] - 17s 14ms/sample\n",
            "Spearman - 0.35627\n",
            "4863/4863 [==============================] - 85s 18ms/sample - loss: 0.3352\n",
            "Epoch 7/100\n",
            "1216/1216 [==============================] - 16s 13ms/sample\n",
            "Spearman - 0.35086\n",
            "4863/4863 [==============================] - 84s 17ms/sample - loss: 0.3234\n",
            "\n",
            "Fold - 10\n",
            "\n",
            "Train on 4864 samples\n",
            "Epoch 1/100\n",
            "1215/1215 [==============================] - 39s 32ms/sample\n",
            "Spearman - 0.35438\n",
            "4864/4864 [==============================] - 184s 38ms/sample - loss: 0.3930\n",
            "Epoch 2/100\n",
            "1215/1215 [==============================] - 16s 14ms/sample\n",
            "Spearman - 0.37118\n",
            "4864/4864 [==============================] - 87s 18ms/sample - loss: 0.3713\n",
            "Epoch 3/100\n",
            "1215/1215 [==============================] - 17s 14ms/sample\n",
            "Spearman - 0.36850\n",
            "4864/4864 [==============================] - 86s 18ms/sample - loss: 0.3621\n",
            "Epoch 4/100\n",
            "1215/1215 [==============================] - 16s 13ms/sample\n",
            "Spearman - 0.37393\n",
            "4864/4864 [==============================] - 91s 19ms/sample - loss: 0.3541\n",
            "Epoch 5/100\n",
            "1215/1215 [==============================] - 17s 14ms/sample\n",
            "Spearman - 0.37396\n",
            "4864/4864 [==============================] - 89s 18ms/sample - loss: 0.3447\n",
            "Epoch 6/100\n",
            "1215/1215 [==============================] - 17s 14ms/sample\n",
            "Spearman - 0.36964\n",
            "4864/4864 [==============================] - 87s 18ms/sample - loss: 0.3342\n",
            "Epoch 7/100\n",
            "1215/1215 [==============================] - 17s 14ms/sample\n",
            "Spearman - 0.35713\n",
            "4864/4864 [==============================] - 87s 18ms/sample - loss: 0.3228\n"
          ],
          "name": "stdout"
        }
      ]
    }
  ]
}