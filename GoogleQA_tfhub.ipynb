{
  "nbformat": 4,
  "nbformat_minor": 0,
  "metadata": {
    "colab": {
      "name": "GoogleQA.ipynb",
      "provenance": [],
      "toc_visible": true,
      "include_colab_link": true
    },
    "kernelspec": {
      "name": "python3",
      "display_name": "Python 3"
    },
    "accelerator": "GPU"
  },
  "cells": [
    {
      "cell_type": "markdown",
      "metadata": {
        "id": "view-in-github",
        "colab_type": "text"
      },
      "source": [
        "<a href=\"https://colab.research.google.com/github/acmilannesta/Bert-embedding/blob/master/GoogleQA_tfhub.ipynb\" target=\"_parent\"><img src=\"https://colab.research.google.com/assets/colab-badge.svg\" alt=\"Open In Colab\"/></a>"
      ]
    },
    {
      "cell_type": "code",
      "metadata": {
        "id": "D82bieSpLcuc",
        "colab_type": "code",
        "outputId": "cee17b04-96bd-40b4-a480-cf2843f9ebf4",
        "colab": {
          "base_uri": "https://localhost:8080/",
          "height": 316
        }
      },
      "source": [
        "!nvidia-smi"
      ],
      "execution_count": 2,
      "outputs": [
        {
          "output_type": "stream",
          "text": [
            "Wed Dec 11 15:00:02 2019       \n",
            "+-----------------------------------------------------------------------------+\n",
            "| NVIDIA-SMI 440.36       Driver Version: 418.67       CUDA Version: 10.1     |\n",
            "|-------------------------------+----------------------+----------------------+\n",
            "| GPU  Name        Persistence-M| Bus-Id        Disp.A | Volatile Uncorr. ECC |\n",
            "| Fan  Temp  Perf  Pwr:Usage/Cap|         Memory-Usage | GPU-Util  Compute M. |\n",
            "|===============================+======================+======================|\n",
            "|   0  Tesla T4            Off  | 00000000:00:04.0 Off |                    0 |\n",
            "| N/A   52C    P8    10W /  70W |      0MiB / 15079MiB |      0%      Default |\n",
            "+-------------------------------+----------------------+----------------------+\n",
            "                                                                               \n",
            "+-----------------------------------------------------------------------------+\n",
            "| Processes:                                                       GPU Memory |\n",
            "|  GPU       PID   Type   Process name                             Usage      |\n",
            "|=============================================================================|\n",
            "|  No running processes found                                                 |\n",
            "+-----------------------------------------------------------------------------+\n"
          ],
          "name": "stdout"
        }
      ]
    },
    {
      "cell_type": "code",
      "metadata": {
        "id": "JErzYVOxLtWo",
        "colab_type": "code",
        "colab": {}
      },
      "source": [
        "# bert uncased base\n",
        "!wget https://tfhub.dev/tensorflow/bert_en_uncased_L-12_H-768_A-12/1?tf-hub-format=compressed -O bbu\n",
        "!mkdir bert_base_uncased\n",
        "!tar -xzf bbu -C bert_base_uncased\n",
        "\n",
        "\n",
        "# bert cased base\n",
        "!wget https://tfhub.dev/tensorflow/bert_en_cased_L-12_H-768_A-12/1?tf-hub-format=compressed -O bbc\n",
        "!mkdir bert_base_cased\n",
        "!tar -xzf bbc -C bert_base_cased\n",
        "\n",
        "\n",
        "!wget https://tfhub.dev/google/albert_base/2?tf-hub-format=compressed\n",
        "!mkdir albert_base\n",
        "!tar -xzf 2?tf-hub-format=compressed -C albert_base\n",
        "\n"
      ],
      "execution_count": 0,
      "outputs": []
    },
    {
      "cell_type": "code",
      "metadata": {
        "id": "TBrwK8dwLyw8",
        "colab_type": "code",
        "outputId": "c41e0e50-75a4-4411-b9ea-cf4a005d2e11",
        "colab": {
          "base_uri": "https://localhost:8080/",
          "height": 34
        }
      },
      "source": [
        "from google.colab import drive\n",
        "drive.mount('/content/drive')"
      ],
      "execution_count": 9,
      "outputs": [
        {
          "output_type": "stream",
          "text": [
            "Drive already mounted at /content/drive; to attempt to forcibly remount, call drive.mount(\"/content/drive\", force_remount=True).\n"
          ],
          "name": "stdout"
        }
      ]
    },
    {
      "cell_type": "code",
      "metadata": {
        "id": "KaDm4NWvLp_J",
        "colab_type": "code",
        "colab": {
          "base_uri": "https://localhost:8080/",
          "height": 63
        },
        "outputId": "b2afff11-995c-4da1-8c9d-e75f1b664cdd"
      },
      "source": [
        "import sys\n",
        "sys.path.insert(1, '/content/drive/My Drive/GoogleQA')\n",
        "import numpy as np\n",
        "import pandas as pd\n",
        "import os, gc\n",
        "import codecs\n",
        "import tensorflow as tf\n",
        "from tensorflow import keras\n",
        "# from keras.callbacks import Callback\n",
        "# from keras.models import Model, load_model\n",
        "from sklearn.preprocessing import OneHotEncoder\n",
        "from sklearn.model_selection import StratifiedKFold, RepeatedStratifiedKFold, GroupKFold, KFold\n",
        "from scipy.stats import spearmanr\n",
        "from tqdm import tqdm\n",
        "import tensorflow_hub as hub\n",
        "from tokenizer import Tokenizer\n",
        "from warmup_v2 import AdamWarmup, calc_train_steps \n",
        "# from keras_bert import load_trained_model_from_checkpoint, Tokenizer, AdamWarmup, calc_train_steps, get_custom_objects\n",
        "# from hyperopt import fmin, hp, tpe, STATUS_OK, Trials\n"
      ],
      "execution_count": 10,
      "outputs": [
        {
          "output_type": "display_data",
          "data": {
            "text/html": [
              "<p style=\"color: red;\">\n",
              "The default version of TensorFlow in Colab will soon switch to TensorFlow 2.x.<br>\n",
              "We recommend you <a href=\"https://www.tensorflow.org/guide/migrate\" target=\"_blank\">upgrade</a> now \n",
              "or ensure your notebook will continue to use TensorFlow 1.x via the <code>%tensorflow_version 1.x</code> magic:\n",
              "<a href=\"https://colab.research.google.com/notebooks/tensorflow_version.ipynb\" target=\"_blank\">more info</a>.</p>\n"
            ],
            "text/plain": [
              "<IPython.core.display.HTML object>"
            ]
          },
          "metadata": {
            "tags": []
          }
        }
      ]
    },
    {
      "cell_type": "code",
      "metadata": {
        "id": "1xGojs4dL6S4",
        "colab_type": "code",
        "colab": {}
      },
      "source": [
        "data_path = 'drive/My Drive/GoogleQA/Data/'\n",
        "train = pd.read_csv(data_path+'train.csv')\n",
        "test = pd.read_csv(data_path+'test.csv')\n",
        "sub = pd.read_csv(data_path+'sample_submission.csv')\n",
        "\n",
        "target_col = train.columns.tolist()[11:42]\n",
        "train['question'] = train['question_title'] + ' ' + train['question_body']\n",
        "test['question'] = test['question_title'] + ' ' + test['question_body']\n",
        "# df_aux = pd.concat([train[['host', 'category']], test[['host', 'category']]], 0)\n",
        "# aux1 = pd.get_dummies(df_aux['category'], drop_first=True)\n",
        "# aux2 = pd.get_dummies(df_aux['host'].apply(lambda x: x.split('.')[0]), drop_first=True)\n",
        "# aux = pd.concat([aux1, aux2], 1)\n",
        "# train_aux = pd.concat([train, aux.iloc[:len(train), ]], 1)\n",
        "# test_aux =  pd.concat([test, aux.iloc[len(train):, ]], 1)"
      ],
      "execution_count": 0,
      "outputs": []
    },
    {
      "cell_type": "code",
      "metadata": {
        "id": "iPkHK5JvMJpY",
        "colab_type": "code",
        "colab": {}
      },
      "source": [
        "MAXLEN = 512 #@param {type:\"slider\", min:128, max:512, step:32}\n",
        "BATCH_SIZE = 4 #@param {type:'slider', min:1, max:32, step:1}\n",
        "NUM_EPOCHS = 3\n",
        "NUM_CLASSES = 30\n",
        "LR = 5e-5\n",
        "MIN_LR = 0\n",
        "model_path = 'bert_base_cased' #@param ['bert_base_uncased', 'albert_base', 'bert_base_cased']\n",
        "\n",
        "# OUTPUT_TRAIN = 'train_bert_ipredcv1415_oof.csv'\n",
        "# OUTPUT_TEST = 'test_bert_large.npy'\n",
        "# model_path = 'uncased_L-12_H-768_A-12' #@param ['uncased_L-12_H-768_A-12', 'wwm_uncased_L-24_H-1024_A-16', 'uncased_L-24_H-1024_A-16']\n",
        "# target_q_col = train.columns.tolist()[11:32]\n",
        "# target_a_col = train.columns.tolist()[32:42]\n"
      ],
      "execution_count": 0,
      "outputs": []
    },
    {
      "cell_type": "code",
      "metadata": {
        "id": "hb2llbNDMhVm",
        "colab_type": "code",
        "colab": {}
      },
      "source": [
        "token_dict = {}\n",
        "with codecs.open(os.path.join(model_path, 'assets/vocab.txt'), 'r', 'utf8') as reader:\n",
        "    for line in reader:\n",
        "        token = line.strip()\n",
        "        token_dict[token] = len(token_dict)\n",
        "tokenizer = Tokenizer(token_dict)"
      ],
      "execution_count": 0,
      "outputs": []
    },
    {
      "cell_type": "code",
      "metadata": {
        "id": "I4zB4cIjMjFo",
        "colab_type": "code",
        "colab": {}
      },
      "source": [
        "def convert_data(data_df, branch='training'):\n",
        "    data_df = data_df.reset_index(drop=True)\n",
        "    global tokenizer\n",
        "    global MAXLEN\n",
        "    global target_col\n",
        "    # global target_a_col\n",
        "    # global target_q_col\n",
        "    # q_title, q_body, answer = [], [], []\n",
        "    ids, segments = [], []\n",
        "    for i in tqdm(range(len(data_df))):\n",
        "        a, b = tokenizer.encode(data_df.loc[i, 'question'], data_df.loc[i, 'answer'])\n",
        "        ids.append(a)\n",
        "        segments.append(b)                 \n",
        "        # q_title_ids, _ = tokenizer.encode(data_df.loc[i, 'question'])\n",
        "        # q_title.append(q_title_ids)\n",
        "        # q_body_ids, _ = tokenizer.encode(data_df.loc[i, 'answer'])\n",
        "        # q_body.append(q_body_ids)\n",
        "    if branch == 'training':\n",
        "        targets = data_df[target_col]\n",
        "        # return [q_title, q_body], np.array(targets)\n",
        "        return [ids, segments], np.array(targets)\n",
        "    else:\n",
        "        return [ids, segments]\n",
        "        # return [q_title, q_body]\n",
        "\n"
      ],
      "execution_count": 0,
      "outputs": []
    },
    {
      "cell_type": "code",
      "metadata": {
        "id": "jh7qwb8ZMlbK",
        "colab_type": "code",
        "colab": {}
      },
      "source": [
        "\"\"\"## Data Generator\"\"\"\n",
        "def seq_padding(X, padding=0):\n",
        "    L = [len(x) for x in X]\n",
        "    ML = min(max(L), MAXLEN)\n",
        "    return np.array([np.concatenate([x, [padding] * (ML - len(x))]) if len(x) < ML else x[:ML] for x in X])\n",
        "\n",
        "def get_masks(X, padding=0):\n",
        "    L = [len(x) for x in X]\n",
        "    ML = min(max(L), MAXLEN)\n",
        "    return np.array([np.concatenate([[1]*len(x), [padding] * (ML - len(x))]) if len(x) < ML else [1]*ML for x in X])\n",
        "\n",
        "\n",
        "class data_generator:\n",
        "    def __init__(self, data, batch_size=BATCH_SIZE, branch='train'):\n",
        "        self.data = data\n",
        "        self.batch_size = batch_size\n",
        "        self.branch = branch\n",
        "        # self.q_a = q_a\n",
        "        self.steps = len(self.data) // self.batch_size\n",
        "        if len(self.data) % self.batch_size != 0:\n",
        "            self.steps += 1\n",
        "\n",
        "    def __len__(self):\n",
        "        return self.steps\n",
        "\n",
        "    def __iter__(self):\n",
        "        while True:\n",
        "            if self.branch == 'train':\n",
        "                np.random.shuffle(self.data)\n",
        "            for i in range(self.steps):\n",
        "                d = self.data[i * self.batch_size: (i + 1) * self.batch_size]\n",
        "                X1 = seq_padding([x[0] for x in d])\n",
        "                X2 = get_masks([x[0] for x in d])    \n",
        "                X3 = seq_padding([x[1] for x in d])\n",
        "                # X3 = np.zeros_like(X1)\n",
        "\n",
        "                # X4 = seq_padding([x[1] for x in d])\n",
        "                # X5 = get_masks([x[1] for x in d])    \n",
        "                # X6 = np.zeros_like(X4)\n",
        "\n",
        "                # X7 = seq_padding([x[2] for x in d])\n",
        "                # X8 = get_masks([x[2] for x in d])    \n",
        "                # X9 = np.zeros_like(X7)\n",
        "\n",
        "                if self.branch == 'test':\n",
        "                    # aux = np.array([x[3] for x in d])\n",
        "                    yield [X1, X2, X3]\n",
        "                    # yield [X1, X2, X3, X4, X5, X6]\n",
        "                else:\n",
        "                    Y = np.array([x[2] for x in d])\n",
        "                    # aux = np.array([x[4] for x in d])\n",
        "                    yield [X1, X2, X3], Y\n",
        "                    # yield [X1, X2, X3, X4, X5, X6], Y\n"
      ],
      "execution_count": 0,
      "outputs": []
    },
    {
      "cell_type": "code",
      "metadata": {
        "id": "PZvVEWF62IdS",
        "colab_type": "code",
        "colab": {
          "base_uri": "https://localhost:8080/",
          "height": 34
        },
        "outputId": "78ad41ef-a1c8-4e80-c2d5-12920c8494b7"
      },
      "source": [
        "def model_build(len_train):\n",
        "    global NUM_CLASSES\n",
        "    global BATCH_SIZE\n",
        "    global NUM_EPOCHS\n",
        "    global MIN_LR\n",
        "    global LR\n",
        "    global MAXLEN\n",
        "    global model_path\n",
        "\n",
        "    # bert_model = load_trained_model_from_checkpoint(\n",
        "    #     os.path.join(model_path, 'bert_config.json'),\n",
        "    #     os.path.join(model_path, 'bert_model.ckpt'),\n",
        "    #     seq_len = MAXLEN,\n",
        "    #     trainable=True,\n",
        "    # )\n",
        "    bert_layer = hub.KerasLayer(model_path, trainable=True)\n",
        "\n",
        "    q_in = keras.layers.Input(shape=(None,), dtype=tf.int32, name=\"q_input_word_ids\")\n",
        "    q2_in = keras.layers.Input(shape=(None,), dtype=tf.int32, name=\"q_input_masks\")\n",
        "    q3_in = keras.layers.Input(shape=(None,), dtype=tf.int32, name=\"q_segment_ids\")\n",
        "\n",
        "    # qb_in = keras.layers.Input(shape=(None,), dtype=tf.int32, name=\"qb_input_word_ids\")\n",
        "    # qb2_in = keras.layers.Input(shape=(None,), dtype=tf.int32, name=\"qb_input_masks\")\n",
        "    # qb3_in = keras.layers.Input(shape=(None,), dtype=tf.int32, name=\"qb_segment_ids\")\n",
        "\n",
        "    # a_in = keras.layers.Input(shape=(None,), dtype=tf.int32, name=\"a_input_word_ids\")\n",
        "    # a2_in = keras.layers.Input(shape=(None,), dtype=tf.int32, name=\"a_input_masks\")\n",
        "    # a3_in = keras.layers.Input(shape=(None,), dtype=tf.int32, name=\"a_segment_ids\")\n",
        "\n",
        "    _, q_inputs  = bert_layer([q_in, q2_in, q3_in])\n",
        "    q_outputs = keras.layers.Lambda(lambda x: x[:, 0])(q_inputs)\n",
        "\n",
        "    # _, qb_inputs  = bert_layer([qb_in, qb2_in, qb3_in])\n",
        "    # qb_outputs = keras.layers.Lambda(lambda x: x[:, 0])(qb_inputs)\n",
        "\n",
        "    # _, a_inputs  = bert_layer([a_in, a2_in, a3_in])\n",
        "    # a_outputs = keras.layers.Lambda(lambda x: x[:, 0])(a_inputs)\n",
        "\n",
        "    dense = q_outputs #keras.layers.concatenate([q_outputs, a_outputs])\n",
        "    outputs = keras.layers.Dense(NUM_CLASSES, activation='sigmoid')(dense)\n",
        "    model = keras.Model([q_in, q2_in, q3_in,], outputs)\n",
        "\n",
        "    decay_steps, warmup_steps = calc_train_steps(\n",
        "        len_train,\n",
        "        batch_size=BATCH_SIZE,\n",
        "        epochs=NUM_EPOCHS,\n",
        "    )\n",
        "\n",
        "    model.compile(\n",
        "        loss='binary_crossentropy',\n",
        "    #     optimizer=keras.optimizers.Adam(LR),\n",
        "        optimizer=AdamWarmup(\n",
        "            decay_steps=decay_steps,\n",
        "            warmup_steps=warmup_steps,\n",
        "            lr=LR,\n",
        "            min_lr=MIN_LR,\n",
        "            ))\n",
        "    # )\n",
        "    del bert_layer\n",
        "    gc.collect()\n",
        "    return model\n"
      ],
      "execution_count": 28,
      "outputs": [
        {
          "output_type": "execute_result",
          "data": {
            "text/plain": [
              "'bert_base_cased'"
            ]
          },
          "metadata": {
            "tags": []
          },
          "execution_count": 28
        }
      ]
    },
    {
      "cell_type": "markdown",
      "metadata": {
        "id": "N56RysQWJ6R1",
        "colab_type": "text"
      },
      "source": [
        "## train model"
      ]
    },
    {
      "cell_type": "code",
      "metadata": {
        "id": "1EWLYgjzR5Tk",
        "colab_type": "code",
        "outputId": "f3c40312-da4a-4c02-9c76-a89830f89dd6",
        "colab": {
          "base_uri": "https://localhost:8080/",
          "height": 34
        }
      },
      "source": [
        "test_x = convert_data(test, branch='testing')\n",
        "pred = np.zeros((len(test), NUM_CLASSES))\n",
        "kf = KFold(n_splits=5, shuffle=True, random_state=0)\n",
        "idx = [x for x in kf.split(train)]\n",
        "\n",
        "def compute_spearmanr(trues, preds):\n",
        "    rhos = []\n",
        "    for col_trues, col_pred in zip(trues.T, preds.T):\n",
        "        rhos.append(spearmanr(col_trues, col_pred + np.random.normal(0, 1e-7, col_pred.shape[0])).correlation)\n",
        "    return np.nanmean(rhos)\n",
        "\n",
        "class IntervalEval(keras.callbacks.Callback):\n",
        "    def __init__(self, val_data, test_data, label):\n",
        "        global NUM_EPOCHS\n",
        "        super(keras.callbacks.Callback, self).__init__()\n",
        "        self.val_data = val_data\n",
        "        self.test_data = test_data\n",
        "        self.label = label\n",
        "        self.total_epochs = NUM_EPOCHS\n",
        "        self.test_pred = []\n",
        "        self.score = []\n",
        "    def on_epoch_end(self, epoch, logs={}):\n",
        "        # if epoch == 3:\n",
        "        val_pred = self.model.predict_generator(self.val_data.__iter__(), len(self.val_data), verbose=1)\n",
        "        score = compute_spearmanr(self.label, val_pred)\n",
        "        self.score.append(score)\n",
        "        print('Spearman - {:.5f}'.format(score))\n",
        "        # if epoch>=self.total_epochs-2:\n",
        "        #     self.model.save('drive/My Drive/GoogleQA/Models/bertbase-{:}-{:}.h5'.format(i, epoch+1))\n",
        "        #     print(\"Testing Pred\")\n",
        "        #     test_pred = self.model.predict_generator(self.test_data.__iter__(), len(self.test_data), verbose=1)\n",
        "        #     self.test_pred.append(test_pred)\n",
        "        # if epoch==self.total_epochs-1:\n",
        "        #     if self.score[-2]<=self.score[-1]:\n",
        "        #         self.test_pred = self.test_pred[0] * 0.3 + self.test_pred[1] * 0.7\n",
        "        #     else:\n",
        "        #         self.test_pred = self.test_pred[0] * 0.7 + self.test_pred[1] * 0.3"
      ],
      "execution_count": 25,
      "outputs": [
        {
          "output_type": "stream",
          "text": [
            "100%|██████████| 476/476 [00:01<00:00, 325.59it/s]\n"
          ],
          "name": "stderr"
        }
      ]
    },
    {
      "cell_type": "code",
      "metadata": {
        "id": "hH88F-DJMsTR",
        "colab_type": "code",
        "outputId": "2ed39b0a-64b7-4031-8486-0e8652bf0d1e",
        "colab": {
          "base_uri": "https://localhost:8080/",
          "height": 246
        }
      },
      "source": [
        "for i, (tr_idx, val_idx) in enumerate(idx[0:1], 1):\n",
        "    print('\\nFold - {:}\\n'.format(i))\n",
        "    tr, val = train.loc[tr_idx], train.loc[val_idx]\n",
        "    tr_x, tr_y = convert_data(tr)\n",
        "    val_x, val_y = convert_data(val)\n",
        "    \n",
        "    model = model_build(len(tr))\n",
        "\n",
        "    train_D = data_generator(list(zip(tr_x[0], tr_x[1], tr_y)))\n",
        "    valid_D = data_generator(list(zip(val_x[0], val_x[1], val_y)), branch='valid')\n",
        "    test_D = data_generator(list(zip(test_x[0], test_x[1])), branch='test')\n",
        "    ieval = IntervalEval(val_data=valid_D, label=val_y, test_data=test_D)\n",
        "    model.fit_generator(\n",
        "        train_D.__iter__(),\n",
        "        steps_per_epoch=len(train_D),\n",
        "        epochs=NUM_EPOCHS,\n",
        "        callbacks = [ieval]\n",
        "    )\n",
        "    pred+ = model.predict_generator(test_D.__iter__(), len(test_D), verbose=1) / kf.get_n_splits()\n",
        "    # train_aug.loc[val_idx, 'oof_pred'] = np.argmax(oof_pred, 1)\n",
        "    # print('oof - {:} f1_score - {:.4f}'.format(i, spearmanr(val_y, np.argmax(oof_pred, 1), average='weighted')))\n",
        "\n",
        "    # pred+= ieval.test_pred / kf.get_n_splits()\n",
        "    # np.save(OUTPUT_TEST, pred)\n",
        "    # s3.upload_file(Filename=OUTPUT_TEST, Bucket='acmilannesta', Key='large/'+OUTPUT_TEST)\n",
        "\n",
        "    np.save('drive/My Drive/GoogleQA/pred', pred)\n",
        "    model.save('drive/My Drive/GoogleQA/Models/bertbase-{:}.h5'.format(i))\n",
        "\n",
        "    del model\n",
        "    gc.collect()"
      ],
      "execution_count": 30,
      "outputs": [
        {
          "output_type": "stream",
          "text": [
            "Epoch 1/3\n",
            "304/304 [==============================] - 64s 211ms/step\n",
            "Spearman - 0.37698\n",
            "1216/1216 [==============================] - 809s 665ms/step - loss: 0.4028\n",
            "Epoch 2/3\n",
            "304/304 [==============================] - 53s 175ms/step\n",
            "Spearman - 0.39575\n",
            "1216/1216 [==============================] - 734s 604ms/step - loss: 0.3563\n",
            "Epoch 3/3\n",
            "304/304 [==============================] - 53s 174ms/step\n",
            "Spearman - 0.38944\n",
            "1216/1216 [==============================] - 734s 604ms/step - loss: 0.3214\n"
          ],
          "name": "stdout"
        },
        {
          "output_type": "execute_result",
          "data": {
            "text/plain": [
              "<tensorflow.python.keras.callbacks.History at 0x7fd8307535c0>"
            ]
          },
          "metadata": {
            "tags": []
          },
          "execution_count": 30
        }
      ]
    },
    {
      "cell_type": "code",
      "metadata": {
        "id": "xL0ON33qlBBV",
        "colab_type": "code",
        "colab": {}
      },
      "source": [
        "sub[target_col] = pred\n",
        "sub.to_csv('drive/My Drive/GoogleQA/Submissions/sub_1.csv', index=False)"
      ],
      "execution_count": 0,
      "outputs": []
    },
    {
      "cell_type": "code",
      "metadata": {
        "id": "xRsXRyUhPYMB",
        "colab_type": "code",
        "colab": {}
      },
      "source": [
        "# bert_base_uncased Together (MAXLEN=512, batch_size=4): 0.37282/0.39793/0.39179\n",
        "# bert_base_cased  Together (MAXLEN=512, batch_size=4): 0.37698/0.39575/0.38944\n"
      ],
      "execution_count": 0,
      "outputs": []
    }
  ]
}