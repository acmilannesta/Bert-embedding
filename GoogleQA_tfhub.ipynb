{
  "nbformat": 4,
  "nbformat_minor": 0,
  "metadata": {
    "colab": {
      "name": "GoogleQA.ipynb",
      "provenance": [],
      "toc_visible": true,
      "include_colab_link": true
    },
    "kernelspec": {
      "name": "python3",
      "display_name": "Python 3"
    },
    "accelerator": "GPU"
  },
  "cells": [
    {
      "cell_type": "markdown",
      "metadata": {
        "id": "view-in-github",
        "colab_type": "text"
      },
      "source": [
        "<a href=\"https://colab.research.google.com/github/acmilannesta/Bert-embedding/blob/master/GoogleQA_tfhub.ipynb\" target=\"_parent\"><img src=\"https://colab.research.google.com/assets/colab-badge.svg\" alt=\"Open In Colab\"/></a>"
      ]
    },
    {
      "cell_type": "code",
      "metadata": {
        "id": "D82bieSpLcuc",
        "colab_type": "code",
        "outputId": "786c8308-de37-4760-eff2-58bf73bf8c30",
        "colab": {
          "base_uri": "https://localhost:8080/",
          "height": 316
        }
      },
      "source": [
        "!nvidia-smi"
      ],
      "execution_count": 1,
      "outputs": [
        {
          "output_type": "stream",
          "text": [
            "Fri Dec 13 17:48:40 2019       \n",
            "+-----------------------------------------------------------------------------+\n",
            "| NVIDIA-SMI 440.44       Driver Version: 418.67       CUDA Version: 10.1     |\n",
            "|-------------------------------+----------------------+----------------------+\n",
            "| GPU  Name        Persistence-M| Bus-Id        Disp.A | Volatile Uncorr. ECC |\n",
            "| Fan  Temp  Perf  Pwr:Usage/Cap|         Memory-Usage | GPU-Util  Compute M. |\n",
            "|===============================+======================+======================|\n",
            "|   0  Tesla K80           Off  | 00000000:00:04.0 Off |                    0 |\n",
            "| N/A   48C    P8    32W / 149W |      0MiB / 11441MiB |      0%      Default |\n",
            "+-------------------------------+----------------------+----------------------+\n",
            "                                                                               \n",
            "+-----------------------------------------------------------------------------+\n",
            "| Processes:                                                       GPU Memory |\n",
            "|  GPU       PID   Type   Process name                             Usage      |\n",
            "|=============================================================================|\n",
            "|  No running processes found                                                 |\n",
            "+-----------------------------------------------------------------------------+\n"
          ],
          "name": "stdout"
        }
      ]
    },
    {
      "cell_type": "code",
      "metadata": {
        "id": "JErzYVOxLtWo",
        "colab_type": "code",
        "colab": {}
      },
      "source": [
        "# bert uncased base\n",
        "!wget https://tfhub.dev/tensorflow/bert_en_uncased_L-12_H-768_A-12/1?tf-hub-format=compressed -O bbu\n",
        "!mkdir bert_base_uncased\n",
        "!tar -xzf bbu -C bert_base_uncased\n",
        "\n",
        "# bert cased base\n",
        "!wget https://tfhub.dev/tensorflow/bert_en_cased_L-12_H-768_A-12/1?tf-hub-format=compressed -O bbc\n",
        "!mkdir bert_base_cased\n",
        "!tar -xzf bbc -C bert_base_cased\n",
        "\n",
        "# albert base\n",
        "!wget https://tfhub.dev/google/albert_base/1?tf-hub-format=compressed -O ab\n",
        "!mkdir albert_base\n",
        "!tar -xzf ab -C albert_base\n",
        "\n",
        "# bert uncased large\n",
        "!wget https://tfhub.dev/tensorflow/bert_en_uncased_L-24_H-1024_A-16/1?tf-hub-format=compressed -O blu\n",
        "!mkdir bert_large_uncased\n",
        "!tar -xzf blu -C bert_large_uncased"
      ],
      "execution_count": 0,
      "outputs": []
    },
    {
      "cell_type": "code",
      "metadata": {
        "id": "TBrwK8dwLyw8",
        "colab_type": "code",
        "outputId": "18d80e7e-b932-4e72-8a78-19607d7be527",
        "colab": {
          "base_uri": "https://localhost:8080/",
          "height": 125
        }
      },
      "source": [
        "from google.colab import drive\n",
        "drive.mount('/content/drive')"
      ],
      "execution_count": 2,
      "outputs": [
        {
          "output_type": "stream",
          "text": [
            "Go to this URL in a browser: https://accounts.google.com/o/oauth2/auth?client_id=947318989803-6bn6qk8qdgf4n4g3pfee6491hc0brc4i.apps.googleusercontent.com&redirect_uri=urn%3aietf%3awg%3aoauth%3a2.0%3aoob&response_type=code&scope=email%20https%3a%2f%2fwww.googleapis.com%2fauth%2fdocs.test%20https%3a%2f%2fwww.googleapis.com%2fauth%2fdrive%20https%3a%2f%2fwww.googleapis.com%2fauth%2fdrive.photos.readonly%20https%3a%2f%2fwww.googleapis.com%2fauth%2fpeopleapi.readonly\n",
            "\n",
            "Enter your authorization code:\n",
            "··········\n",
            "Mounted at /content/drive\n"
          ],
          "name": "stdout"
        }
      ]
    },
    {
      "cell_type": "code",
      "metadata": {
        "id": "KaDm4NWvLp_J",
        "colab_type": "code",
        "outputId": "2fbb9b83-7eb1-4541-a7af-5d0dc8e36de2",
        "colab": {
          "base_uri": "https://localhost:8080/",
          "height": 63
        }
      },
      "source": [
        "import sys\n",
        "sys.path.insert(1, '/content/drive/My Drive/GoogleQA')\n",
        "import numpy as np\n",
        "import pandas as pd\n",
        "import os, gc\n",
        "import codecs\n",
        "import tensorflow as tf\n",
        "from tensorflow import keras\n",
        "from tensorflow.python.keras.backend import set_session\n",
        "# from keras.callbacks import Callback\n",
        "# from keras.models import Model, load_model\n",
        "from sklearn.preprocessing import OneHotEncoder\n",
        "from sklearn.model_selection import StratifiedKFold, RepeatedStratifiedKFold, GroupKFold, KFold, RepeatedKFold\n",
        "from scipy.stats import spearmanr\n",
        "from tqdm import tqdm\n",
        "import tensorflow_hub as hub\n",
        "# from albert_tokenization import FullTokenizer\n",
        "from tokenizer import Tokenizer\n",
        "from warmup_v2 import AdamWarmup, calc_train_steps\n",
        "tf.get_logger().setLevel('WARNING') \n",
        "# from keras_bert import load_trained_model_from_checkpoint, Tokenizer, AdamWarmup, calc_train_steps, get_custom_objects\n",
        "# from hyperopt import fmin, hp, tpe, STATUS_OK, Trials\n"
      ],
      "execution_count": 3,
      "outputs": [
        {
          "output_type": "display_data",
          "data": {
            "text/html": [
              "<p style=\"color: red;\">\n",
              "The default version of TensorFlow in Colab will soon switch to TensorFlow 2.x.<br>\n",
              "We recommend you <a href=\"https://www.tensorflow.org/guide/migrate\" target=\"_blank\">upgrade</a> now \n",
              "or ensure your notebook will continue to use TensorFlow 1.x via the <code>%tensorflow_version 1.x</code> magic:\n",
              "<a href=\"https://colab.research.google.com/notebooks/tensorflow_version.ipynb\" target=\"_blank\">more info</a>.</p>\n"
            ],
            "text/plain": [
              "<IPython.core.display.HTML object>"
            ]
          },
          "metadata": {
            "tags": []
          }
        }
      ]
    },
    {
      "cell_type": "code",
      "metadata": {
        "id": "1xGojs4dL6S4",
        "colab_type": "code",
        "colab": {}
      },
      "source": [
        "data_path = 'drive/My Drive/GoogleQA/Data/'\n",
        "train = pd.read_csv(data_path+'train.csv')\n",
        "test = pd.read_csv(data_path+'test.csv')\n",
        "sub = pd.read_csv(data_path+'sample_submission.csv')\n",
        "\n",
        "target_col = train.columns.tolist()[11:42]\n",
        "train['question'] = train['question_title'] + ' ' + train['question_body']\n",
        "test['question'] = test['question_title'] + ' ' + test['question_body']\n",
        "\n",
        "# def aux_build(df):\n",
        "#     aux = pd.get_dummies(df['category'], drop_first=True)\n",
        "#     aux['stackexchange'] = df.host.str.contains('stackexchange').astype('int32')\n",
        "#     aux['stackoverflow'] = df.host.str.contains('stackoverflow').astype('int32')\n",
        "#     return aux\n",
        "# train_aux, test_aux = aux_build(train), aux_build(test)\n"
      ],
      "execution_count": 0,
      "outputs": []
    },
    {
      "cell_type": "code",
      "metadata": {
        "id": "iPkHK5JvMJpY",
        "colab_type": "code",
        "colab": {}
      },
      "source": [
        "MAXLEN = 256 #@param {type:\"slider\", min:128, max:512, step:32}\n",
        "BATCH_SIZE = 1 #@param {type:'slider', min:1, max:32, step:1}\n",
        "NUM_EPOCHS = 3\n",
        "NUM_CLASSES = 30\n",
        "LR = 5e-5\n",
        "MIN_LR = 0\n",
        "model_path = 'bert_large_uncased' #@param ['bert_base_uncased', 'bert_base_cased', 'bert_large_uncased', 'albert_base']\n",
        "save_model = 'blu' #@param ['bbu', 'bbc', 'blu', 'ab']\n",
        "# OUTPUT_TRAIN = 'train_bert_ipredcv1415_oof.csv'\n",
        "# OUTPUT_TEST = 'test_bert_large.npy'\n",
        "# model_path = 'uncased_L-12_H-768_A-12' #@param ['uncased_L-12_H-768_A-12', 'wwm_uncased_L-24_H-1024_A-16', 'uncased_L-24_H-1024_A-16']\n",
        "# target_q_col = train.columns.tolist()[11:32]\n",
        "# target_a_col = train.columns.tolist()[32:42]\n"
      ],
      "execution_count": 0,
      "outputs": []
    },
    {
      "cell_type": "markdown",
      "metadata": {
        "id": "MknUuh8pFpq0",
        "colab_type": "text"
      },
      "source": [
        "## Bert tokenizer"
      ]
    },
    {
      "cell_type": "code",
      "metadata": {
        "id": "hb2llbNDMhVm",
        "colab_type": "code",
        "colab": {}
      },
      "source": [
        "token_dict = {}\n",
        "with codecs.open(os.path.join(model_path, 'assets/vocab.txt'), 'r', 'utf8') as reader:\n",
        "    for line in reader:\n",
        "        token = line.strip()\n",
        "        token_dict[token] = len(token_dict)\n",
        "tokenizer = Tokenizer(token_dict)\n",
        "\n",
        "def convert_data(data_df, branch='training'):\n",
        "    data_df = data_df.reset_index(drop=True)\n",
        "    global tokenizer\n",
        "    global MAXLEN\n",
        "    global target_col\n",
        "    ids, segments = [], []\n",
        "    # q_title, q_body, answer = [], [], []\n",
        "    for i in tqdm(range(len(data_df))):\n",
        "        a, b = tokenizer.encode(data_df.loc[i, 'question'], data_df.loc[i, 'answer'])\n",
        "        ids.append(a)\n",
        "        segments.append(b)                 \n",
        "        # q_title_ids, _ = tokenizer.encode(data_df.loc[i, 'question'])\n",
        "        # q_title.append(q_title_ids)\n",
        "        # q_body_ids, _ = tokenizer.encode(data_df.loc[i, 'answer'])\n",
        "        # q_body.append(q_body_ids)\n",
        "    if branch == 'training':\n",
        "        targets = data_df[target_col]\n",
        "        # return [q_title, q_body], np.array(targets)\n",
        "        return [ids, segments], np.array(targets)\n",
        "    else:\n",
        "        return [ids, segments]\n",
        "        # return [q_title, q_body]"
      ],
      "execution_count": 0,
      "outputs": []
    },
    {
      "cell_type": "markdown",
      "metadata": {
        "id": "ZJ6elLMNFvAc",
        "colab_type": "text"
      },
      "source": [
        "## Albert tokenizer"
      ]
    },
    {
      "cell_type": "code",
      "metadata": {
        "id": "I4zB4cIjMjFo",
        "colab_type": "code",
        "colab": {}
      },
      "source": [
        "tokenizer = FullTokenizer(\n",
        "    vocab_file=model_path+'/assets/30k-clean.vocab', \n",
        "    do_lower_case=True, \n",
        "    spm_model_file=model_path + '/assets/30k-clean.model')\n",
        "\n",
        "def convert_data(data_df, branch='training'):\n",
        "    data_df = data_df.reset_index(drop=True)\n",
        "    global tokenizer\n",
        "    global MAXLEN\n",
        "\n",
        "    ids, segments = [], []\n",
        "    for i in tqdm(range(len(data_df))):\n",
        "        id = tokenizer.tokenize(data_df.loc[i, 'question']) + tokenizer.tokenize(data_df.loc[i, 'answer'])\n",
        "        id = tokenizer.convert_tokens_to_ids(id)\n",
        "        segment = [0] * len(data_df.loc[i, 'question']) + [1] * len(data_df.loc[i, 'answer'])\n",
        "        ids.append(id)\n",
        "        segments.append(segment)\n",
        "    if branch == 'training':\n",
        "        targets = data_df[target_col]\n",
        "        # return [q_title, q_body], np.array(targets)\n",
        "        return [ids, segments], np.array(targets)\n",
        "    else:\n",
        "        return [ids, segments]\n",
        "        # return [q_title, q_body]"
      ],
      "execution_count": 0,
      "outputs": []
    },
    {
      "cell_type": "code",
      "metadata": {
        "id": "jh7qwb8ZMlbK",
        "colab_type": "code",
        "colab": {}
      },
      "source": [
        "\"\"\"## Data Generator\"\"\"\n",
        "def seq_padding(X, padding=0):\n",
        "    L = [len(x) for x in X]\n",
        "    ML = min(max(L), MAXLEN)\n",
        "    return np.array([np.concatenate([x, [padding] * (ML - len(x))]) if len(x) < ML else x[:ML] for x in X])\n",
        "\n",
        "def get_masks(X, padding=0):\n",
        "    L = [len(x) for x in X]\n",
        "    ML = min(max(L), MAXLEN)\n",
        "    return np.array([np.concatenate([[1]*len(x), [padding] * (ML - len(x))]) if len(x) < ML else [1]*ML for x in X])\n",
        "\n",
        "\n",
        "class data_generator:\n",
        "    def __init__(self, data, batch_size=BATCH_SIZE, branch='train'):\n",
        "        self.data = data\n",
        "        self.batch_size = batch_size\n",
        "        self.branch = branch\n",
        "        # self.q_a = q_a\n",
        "        self.steps = len(self.data) // self.batch_size\n",
        "        if len(self.data) % self.batch_size != 0:\n",
        "            self.steps += 1\n",
        "\n",
        "    def __len__(self):\n",
        "        return self.steps\n",
        "\n",
        "    def __iter__(self):\n",
        "        while True:\n",
        "            if self.branch == 'train':\n",
        "                np.random.shuffle(self.data)\n",
        "            for i in range(self.steps):\n",
        "                d = self.data[i * self.batch_size: (i + 1) * self.batch_size]\n",
        "                X1 = seq_padding([x[0] for x in d])\n",
        "                X2 = get_masks([x[0] for x in d])    \n",
        "                X3 = seq_padding([x[1] for x in d])\n",
        "                # X3 = np.zeros_like(X1)\n",
        "\n",
        "                # X4 = seq_padding([x[1] for x in d])\n",
        "                # X5 = get_masks([x[1] for x in d])    \n",
        "                # X6 = np.zeros_like(X4)\n",
        "\n",
        "                # X7 = seq_padding([x[2] for x in d])\n",
        "                # X8 = get_masks([x[2] for x in d])    \n",
        "                # X9 = np.zeros_like(X7)\n",
        "                # aux = np.array([x[2] for x in d])\n",
        "                if self.branch == 'test':\n",
        "                    # aux = np.array([x[3] for x in d])\n",
        "                    yield [X1, X2, X3]\n",
        "                    # yield [X1, X2, X3, X4, X5, X6]\n",
        "                else:\n",
        "                    Y = np.array([x[2] for x in d])\n",
        "                    # aux = np.array([x[4] for x in d])\n",
        "                    yield [X1, X2, X3], Y\n",
        "                    # yield [X1, X2, X3, X4, X5, X6], Y\n"
      ],
      "execution_count": 0,
      "outputs": []
    },
    {
      "cell_type": "code",
      "metadata": {
        "id": "PZvVEWF62IdS",
        "colab_type": "code",
        "colab": {}
      },
      "source": [
        "def model_build(len_train, model='albert'):\n",
        "    global NUM_CLASSES\n",
        "    global BATCH_SIZE\n",
        "    global NUM_EPOCHS\n",
        "    global MIN_LR\n",
        "    global LR\n",
        "    global MAXLEN\n",
        "    global model_path\n",
        "    global train_aux\n",
        "    # bert_model = load_trained_model_from_checkpoint(\n",
        "    #     os.path.join(model_path, 'bert_config.json'),\n",
        "    #     os.path.join(model_path, 'bert_model.ckpt'),\n",
        "    #     seq_len = MAXLEN,\n",
        "    #     trainable=True,\n",
        "    # )\n",
        "    \n",
        "\n",
        "    q_in = keras.layers.Input(shape=(None,), dtype=tf.int32, name=\"q_input_word_ids\")\n",
        "    q2_in = keras.layers.Input(shape=(None,), dtype=tf.int32, name=\"q_input_masks\")\n",
        "    q3_in = keras.layers.Input(shape=(None,), dtype=tf.int32, name=\"q_segment_ids\")\n",
        "    # aux_in = keras.layers.Input(shape=(train_aux.shape[1],), name=\"aux\")\n",
        "    # qb_in = keras.layers.Input(shape=(None,), dtype=tf.int32, name=\"qb_input_word_ids\")\n",
        "    # qb2_in = keras.layers.Input(shape=(None,), dtype=tf.int32, name=\"qb_input_masks\")\n",
        "    # qb3_in = keras.layers.Input(shape=(None,), dtype=tf.int32, name=\"qb_segment_ids\")\n",
        "\n",
        "    # a_in = keras.layers.Input(shape=(None,), dtype=tf.int32, name=\"a_input_word_ids\")\n",
        "    # a2_in = keras.layers.Input(shape=(None,), dtype=tf.int32, name=\"a_input_masks\")\n",
        "    # a3_in = keras.layers.Input(shape=(None,), dtype=tf.int32, name=\"a_segment_ids\")\n",
        "\n",
        "    # _, qb_inputs  = bert_layer([qb_in, qb2_in, qb3_in])\n",
        "    # qb_outputs = keras.layers.Lambda(lambda x: x[:, 0])(qb_inputs)\n",
        "\n",
        "    # _, a_inputs  = bert_layer([a_in, a2_in, a3_in])\n",
        "    # a_outputs = keras.layers.Lambda(lambda x: x[:, 0])(a_inputs)\n",
        "    if model=='bert':\n",
        "        bert_layer = hub.KerasLayer(model_path, trainable=True)\n",
        "        _, q_inputs  = bert_layer([q_in, q2_in, q3_in])\n",
        "        # q_outputs = keras.layers.Lambda(lambda x: x[:, 0])(q_inputs)\n",
        "        q_outputs = keras.layers.GlobalAveragePooling1D()(q_inputs)\n",
        "        dense = keras.layers.Dropout(0.2)(q_outputs)\n",
        "        del bert_layer, q_inputs, q_outputs\n",
        "        gc.collect()\n",
        "\n",
        "    if model=='albert':\n",
        "        albert_module = hub.Module(model_path, trainable=True)\n",
        "        albert_inputs = dict(input_ids=q_in, input_mask=q2_in, segment_ids=q3_in)\n",
        "        albert_outputs = albert_module(albert_inputs, signature=\"tokens\", as_dict=True)[\"sequence_output\"]\n",
        "        session = keras.backend.get_session()\n",
        "        with tf.Session() as sess:\n",
        "            sess.run(tf.global_variables_initializer())\n",
        "            dense = keras.layers.Lambda(lambda x: x[:, 0])(albert_outputs)\n",
        "        del albert_module, albert_inputs, albert_outputs\n",
        "        gc.collect()\n",
        "    \n",
        "    # dense = keras.layers.concatenate([dense, aux_in])\n",
        "    outputs = keras.layers.Dense(NUM_CLASSES, activation='sigmoid')(dense)\n",
        "    model = keras.Model([q_in, q2_in, q3_in], outputs)\n",
        "\n",
        "    decay_steps, warmup_steps = calc_train_steps(\n",
        "        len_train,\n",
        "        batch_size=BATCH_SIZE,\n",
        "        epochs=NUM_EPOCHS,\n",
        "    )\n",
        "\n",
        "    model.compile(\n",
        "        loss='binary_crossentropy',\n",
        "    #     optimizer=keras.optimizers.Adam(LR),\n",
        "        optimizer=AdamWarmup(\n",
        "            decay_steps=decay_steps,\n",
        "            warmup_steps=warmup_steps,\n",
        "            lr=LR,\n",
        "            min_lr=MIN_LR,\n",
        "            ))\n",
        "    # )\n",
        "\n",
        "    return model\n",
        "    del dense, outputs\n",
        "    gc.collect()"
      ],
      "execution_count": 0,
      "outputs": []
    },
    {
      "cell_type": "markdown",
      "metadata": {
        "id": "N56RysQWJ6R1",
        "colab_type": "text"
      },
      "source": [
        "## train model"
      ]
    },
    {
      "cell_type": "code",
      "metadata": {
        "id": "1EWLYgjzR5Tk",
        "colab_type": "code",
        "outputId": "7275d9e8-b649-42d0-92e1-2dda34042d5d",
        "colab": {
          "base_uri": "https://localhost:8080/",
          "height": 34
        }
      },
      "source": [
        "test_x = convert_data(test, branch='testing')\n",
        "pred = np.zeros((len(test), NUM_CLASSES))\n",
        "kf = KFold(n_splits=5, shuffle=True, random_state=0)\n",
        "idx = [x for x in kf.split(train)]\n",
        "\n",
        "def compute_spearmanr(trues, preds):\n",
        "    rhos = []\n",
        "    for col_trues, col_pred in zip(trues.T, preds.T):\n",
        "        rhos.append(spearmanr(col_trues, col_pred + np.random.normal(0, 1e-7, col_pred.shape[0])).correlation)\n",
        "    return np.nanmean(rhos)\n",
        "\n",
        "class IntervalEval(keras.callbacks.Callback):\n",
        "    def __init__(self, val_data, test_data, label):\n",
        "        global NUM_EPOCHS\n",
        "        global save_model\n",
        "        super(keras.callbacks.Callback, self).__init__()\n",
        "        self.val_data = val_data\n",
        "        self.test_data = test_data\n",
        "        self.label = label\n",
        "        self.total_epochs = NUM_EPOCHS\n",
        "        self.test_pred = []\n",
        "        self.score = []\n",
        "        self.save_model = save_model\n",
        "    def on_epoch_end(self, epoch, logs={}):\n",
        "        # if epoch == 3:\n",
        "        val_pred = self.model.predict_generator(self.val_data.__iter__(), len(self.val_data), verbose=1)\n",
        "        score = compute_spearmanr(self.label, val_pred)\n",
        "        self.score.append(score)\n",
        "        print('Spearman - {:.5f}'.format(score))\n",
        "        if epoch>=self.total_epochs-2:\n",
        "            print('--Save Model--')\n",
        "            self.model.save('drive/My Drive/GoogleQA/Models/{:}/{:}-{:}-{:}.h5'.format(self.save_model, self.save_model, i, epoch+1))\n",
        "        #     print(\"Testing Pred\")\n",
        "        #     test_pred = self.model.predict_generator(self.test_data.__iter__(), len(self.test_data), verbose=1)\n",
        "        #     self.test_pred.append(test_pred)\n",
        "        # if epoch==self.total_epochs-1:\n",
        "        #     if self.score[-2]<=self.score[-1]:\n",
        "        #         self.test_pred = self.test_pred[0] * 0.3 + self.test_pred[1] * 0.7\n",
        "        #     else:\n",
        "        #         self.test_pred = self.test_pred[0] * 0.7 + self.test_pred[1] * 0.3"
      ],
      "execution_count": 0,
      "outputs": [
        {
          "output_type": "stream",
          "text": [
            "100%|██████████| 476/476 [00:01<00:00, 260.77it/s]\n"
          ],
          "name": "stderr"
        }
      ]
    },
    {
      "cell_type": "code",
      "metadata": {
        "id": "hH88F-DJMsTR",
        "colab_type": "code",
        "colab": {}
      },
      "source": [
        "for i, (tr_idx, val_idx) in enumerate(idx[:1], 1):\n",
        "    print('\\nFold - {:}\\n'.format(i))\n",
        "    tr, val = train.loc[tr_idx], train.loc[val_idx]\n",
        "    # tr_aux, val_aux = train_aux.loc[tr_idx], train_aux.loc[val_idx]\n",
        "    tr_x, tr_y = convert_data(tr)\n",
        "    val_x, val_y = convert_data(val)\n",
        "    \n",
        "    model = model_build(len(tr), model='bert')\n",
        "\n",
        "    train_D = data_generator(list(zip(tr_x[0], tr_x[1],  tr_y)))\n",
        "    valid_D = data_generator(list(zip(val_x[0], val_x[1],  val_y)), branch='valid')\n",
        "    test_D = data_generator(list(zip(test_x[0], test_x[1])), branch='test')\n",
        "    ieval = IntervalEval(val_data=valid_D, label=val_y, test_data=test_D)\n",
        "    model.fit_generator(\n",
        "        train_D.__iter__(),\n",
        "        steps_per_epoch=len(train_D),\n",
        "        epochs=NUM_EPOCHS,\n",
        "        callbacks = [ieval]\n",
        "    )\n",
        "    # pred+ = model.predict_generator(test_D.__iter__(), len(test_D), verbose=1) / kf.get_n_splits()\n",
        "    # train_aug.loc[val_idx, 'oof_pred'] = np.argmax(oof_pred, 1)\n",
        "    # print('oof - {:} f1_score - {:.4f}'.format(i, spearmanr(val_y, np.argmax(oof_pred, 1), average='weighted')))\n",
        "\n",
        "    # pred+= ieval.test_pred / kf.get_n_splits()\n",
        "    # np.save(OUTPUT_TEST, pred)\n",
        "    # s3.upload_file(Filename=OUTPUT_TEST, Bucket='acmilannesta', Key='large/'+OUTPUT_TEST)\n",
        "\n",
        "    # np.save('drive/My Drive/GoogleQA/pred', pred)\n",
        "    # model.save('drive/My Drive/GoogleQA/Models/bertbase-{:}.h5'.format(i))\n",
        "\n",
        "    del model, train_D, valid_D, test_D, ieval, tr, val, tr_x, tr_y, val_x, val_y\n",
        "    gc.collect()"
      ],
      "execution_count": 0,
      "outputs": []
    },
    {
      "cell_type": "markdown",
      "metadata": {
        "id": "cRMV2dmrNV4x",
        "colab_type": "text"
      },
      "source": [
        "## USE Model"
      ]
    },
    {
      "cell_type": "code",
      "metadata": {
        "id": "hOvLGUbfNX9W",
        "colab_type": "code",
        "colab": {}
      },
      "source": [
        "\n",
        "# train['sentence'] = train['question'] + ' ' + train['answer']\n",
        "\n",
        "def UniversalEmbedding(x):\n",
        "    return embed(tf.squeeze(tf.cast(x, tf.string)))\n",
        "\n",
        "def use_model():\n",
        "    embed = hub.load(\"https://tfhub.dev/google/universal-sentence-encoder-large/5\")\n",
        "    q = keras.layers.Input(shape=(1,), dtype=tf.string)\n",
        "    q_embed = keras.layers.Lambda(UniversalEmbedding, output_shape=(512, ))(q)\n",
        "\n",
        "    qb = keras.layers.Input(shape=(1,), dtype=tf.string)\n",
        "    qb_embed = keras.layers.Lambda(UniversalEmbedding, output_shape=(512, ))(qb)\n",
        "\n",
        "    a = keras.layers.Input(shape=(1,), dtype=tf.string)\n",
        "    a_embed = keras.layers.Lambda(UniversalEmbedding, output_shape=(512, ))(a)\n",
        "\n",
        "    all_embed = keras.layers.concatenate([q_embed, qb_embed, a_embed])\n",
        "    dense = keras.layers.Dense(256, activation='relu')(all_embed)\n",
        "    pred = keras.layers.Dense(30, activation='sigmoid')(dense)\n",
        "    model = keras.Model(inputs=[q, qb, a], outputs=pred)\n",
        "    model.compile(loss='binary_crossentropy', optimizer=keras.optimizers.Adam(learning_rate=5e-3))\n",
        "    del embed\n",
        "    gc.collect()\n",
        "    return model"
      ],
      "execution_count": 0,
      "outputs": []
    },
    {
      "cell_type": "code",
      "metadata": {
        "id": "nTIxpMnFNhju",
        "colab_type": "code",
        "colab": {}
      },
      "source": [
        "kf = RepeatedKFold(n_splits=5, n_repeats=2, random_state=0)\n",
        "idx = [x for x in kf.split(train, groups=train.question_body)]\n",
        "def compute_spearmanr(trues, preds):\n",
        "    rhos = []\n",
        "    for col_trues, col_pred in zip(trues.T, preds.T):\n",
        "        rhos.append(spearmanr(col_trues, col_pred).correlation)\n",
        "    return np.mean(rhos)\n",
        "\n",
        "class IntervalEval(keras.callbacks.Callback):\n",
        "    def __init__(self, val_data, label):\n",
        "        super(keras.callbacks.Callback, self).__init__()\n",
        "        self.val_data = val_data\n",
        "        self.score = 0\n",
        "        self.maxscore = 0\n",
        "        self.label = label\n",
        "        self.patience = 3\n",
        "        self.count = 0\n",
        "    def on_epoch_end(self, epoch, logs={}):\n",
        "        # if epoch == 3:\n",
        "        val_pred = self.model.predict(self.val_data, batch_size=16, verbose=1)\n",
        "        score = compute_spearmanr(self.label, val_pred)\n",
        "        print('Spearman - {:.5f}'.format(score))\n",
        "        if self.maxscore>=0.3:\n",
        "            self.patience=2\n",
        "        if (score < self.score):\n",
        "            self.score = score\n",
        "            self.count+=1\n",
        "            if self.count==self.patience:\n",
        "                self.model.stop_training=True\n",
        "        elif score > self.maxscore:\n",
        "            self.score = score\n",
        "            self.maxscore = score\n",
        "            self.count = 0\n",
        "            if self.maxscore > 0.3:\n",
        "                self.model.save('use-model-{:}.h5'.format(i))\n",
        "        else:\n",
        "            self.score = score\n",
        "            self.count = 0\n",
        "          "
      ],
      "execution_count": 0,
      "outputs": []
    },
    {
      "cell_type": "code",
      "metadata": {
        "id": "6Bd--Dd_QUof",
        "colab_type": "code",
        "colab": {
          "base_uri": "https://localhost:8080/",
          "height": 228
        },
        "outputId": "9e4f1829-ddb3-41a0-b786-63d61aac38f6"
      },
      "source": [
        "for i, (tr_idx, val_idx) in enumerate(idx[:1], 1):\n",
        "    print('\\nFold - {:}\\n'.format(i))\n",
        "    tr, val = train.loc[tr_idx], train.loc[val_idx]\n",
        "    tr_x = [tr['question_title'], tr['question_body'], tr['answer']]\n",
        "    val_x = [val['question_title'], val['question_body'], val['answer']]\n",
        "    ieval = IntervalEval(val_data=val_x, label=val[target_col].values)\n",
        "    model = use_model()\n",
        "    with tf.Session() as session:\n",
        "        keras.backend.set_session(session)\n",
        "        session.run(tf.global_variables_initializer())  \n",
        "        session.run(tf.tables_initializer())\n",
        "        history = model.fit(\n",
        "            tr_x,\n",
        "            tr[target_col],\n",
        "            epochs=100, \n",
        "            batch_size=16,\n",
        "            callbacks=[ieval])\n",
        "    del model, tr, val, tr_x, val_x\n",
        "    gc.collect()\n",
        "\n",
        "# with tf.Session() as session:\n",
        "#     keras.backend.set_session(session)\n",
        "#     session.run(tf.global_variables_initializer())  \n",
        "#     session.run(tf.tables_initializer())\n",
        "#     model.load_weights('use-model-1.h5')\n",
        "#     preds = model.predict(val['sentence'], batch_size=16, verbose=1)\n",
        "#     score=compute_spearmanr(val[target_col].values, preds)\n",
        "#     print('Spearman - {:.5f}'.format(score))"
      ],
      "execution_count": 0,
      "outputs": [
        {
          "output_type": "stream",
          "text": [
            "\n",
            "Fold - 1\n",
            "\n",
            "WARNING:tensorflow:From /usr/local/lib/python3.6/dist-packages/tensorflow_core/python/ops/nn_impl.py:183: where (from tensorflow.python.ops.array_ops) is deprecated and will be removed in a future version.\n",
            "Instructions for updating:\n",
            "Use tf.where in 2.0, which has the same broadcast rule as np.where\n"
          ],
          "name": "stdout"
        },
        {
          "output_type": "stream",
          "text": [
            "WARNING:tensorflow:From /usr/local/lib/python3.6/dist-packages/tensorflow_core/python/ops/nn_impl.py:183: where (from tensorflow.python.ops.array_ops) is deprecated and will be removed in a future version.\n",
            "Instructions for updating:\n",
            "Use tf.where in 2.0, which has the same broadcast rule as np.where\n"
          ],
          "name": "stderr"
        },
        {
          "output_type": "stream",
          "text": [
            "Train on 4863 samples\n",
            "Epoch 1/100\n",
            "3824/4863 [======================>.......] - ETA: 35s - loss: 0.3918"
          ],
          "name": "stdout"
        }
      ]
    }
  ]
}