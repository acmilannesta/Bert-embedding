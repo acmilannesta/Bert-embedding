{
  "nbformat": 4,
  "nbformat_minor": 0,
  "metadata": {
    "colab": {
      "name": "GoogleQA.ipynb",
      "provenance": [],
      "toc_visible": true,
      "include_colab_link": true
    },
    "kernelspec": {
      "name": "python3",
      "display_name": "Python 3"
    },
    "accelerator": "GPU"
  },
  "cells": [
    {
      "cell_type": "markdown",
      "metadata": {
        "id": "view-in-github",
        "colab_type": "text"
      },
      "source": [
        "<a href=\"https://colab.research.google.com/github/acmilannesta/Bert-embedding/blob/master/GoogleQA.ipynb\" target=\"_parent\"><img src=\"https://colab.research.google.com/assets/colab-badge.svg\" alt=\"Open In Colab\"/></a>"
      ]
    },
    {
      "cell_type": "code",
      "metadata": {
        "id": "D82bieSpLcuc",
        "colab_type": "code",
        "outputId": "f0e4f857-efc1-4725-9cbf-339bf7dba4be",
        "colab": {
          "base_uri": "https://localhost:8080/",
          "height": 316
        }
      },
      "source": [
        "!nvidia-smi"
      ],
      "execution_count": 1,
      "outputs": [
        {
          "output_type": "stream",
          "text": [
            "Tue Dec 10 14:44:16 2019       \n",
            "+-----------------------------------------------------------------------------+\n",
            "| NVIDIA-SMI 440.36       Driver Version: 418.67       CUDA Version: 10.1     |\n",
            "|-------------------------------+----------------------+----------------------+\n",
            "| GPU  Name        Persistence-M| Bus-Id        Disp.A | Volatile Uncorr. ECC |\n",
            "| Fan  Temp  Perf  Pwr:Usage/Cap|         Memory-Usage | GPU-Util  Compute M. |\n",
            "|===============================+======================+======================|\n",
            "|   0  Tesla P100-PCIE...  Off  | 00000000:00:04.0 Off |                    0 |\n",
            "| N/A   37C    P0    35W / 250W |      0MiB / 16280MiB |      0%      Default |\n",
            "+-------------------------------+----------------------+----------------------+\n",
            "                                                                               \n",
            "+-----------------------------------------------------------------------------+\n",
            "| Processes:                                                       GPU Memory |\n",
            "|  GPU       PID   Type   Process name                             Usage      |\n",
            "|=============================================================================|\n",
            "|  No running processes found                                                 |\n",
            "+-----------------------------------------------------------------------------+\n"
          ],
          "name": "stdout"
        }
      ]
    },
    {
      "cell_type": "code",
      "metadata": {
        "id": "JErzYVOxLtWo",
        "colab_type": "code",
        "colab": {}
      },
      "source": [
        "!pip install keras-bert\n",
        "!wget https://storage.googleapis.com/bert_models/2018_10_18/uncased_L-12_H-768_A-12.zip\n",
        "!unzip uncased_L-12_H-768_A-12.zip"
      ],
      "execution_count": 0,
      "outputs": []
    },
    {
      "cell_type": "code",
      "metadata": {
        "id": "TBrwK8dwLyw8",
        "colab_type": "code",
        "outputId": "0afa8e40-0065-4e07-f25a-f179504f1b6c",
        "colab": {
          "base_uri": "https://localhost:8080/",
          "height": 125
        }
      },
      "source": [
        "from google.colab import drive\n",
        "drive.mount('/content/drive')"
      ],
      "execution_count": 3,
      "outputs": [
        {
          "output_type": "stream",
          "text": [
            "Go to this URL in a browser: https://accounts.google.com/o/oauth2/auth?client_id=947318989803-6bn6qk8qdgf4n4g3pfee6491hc0brc4i.apps.googleusercontent.com&redirect_uri=urn%3aietf%3awg%3aoauth%3a2.0%3aoob&response_type=code&scope=email%20https%3a%2f%2fwww.googleapis.com%2fauth%2fdocs.test%20https%3a%2f%2fwww.googleapis.com%2fauth%2fdrive%20https%3a%2f%2fwww.googleapis.com%2fauth%2fdrive.photos.readonly%20https%3a%2f%2fwww.googleapis.com%2fauth%2fpeopleapi.readonly\n",
            "\n",
            "Enter your authorization code:\n",
            "··········\n",
            "Mounted at /content/drive\n"
          ],
          "name": "stdout"
        }
      ]
    },
    {
      "cell_type": "code",
      "metadata": {
        "id": "KaDm4NWvLp_J",
        "colab_type": "code",
        "outputId": "744c6d6c-77d8-4c14-f8f6-f070d1b1295d",
        "colab": {
          "base_uri": "https://localhost:8080/",
          "height": 81
        }
      },
      "source": [
        "import numpy as np\n",
        "import pandas as pd\n",
        "import os, gc\n",
        "import codecs\n",
        "from keras.layers import *\n",
        "from keras.callbacks import Callback\n",
        "from keras.models import Model, load_model\n",
        "from sklearn.preprocessing import OneHotEncoder\n",
        "from sklearn.model_selection import StratifiedKFold, RepeatedStratifiedKFold, GroupKFold, KFold\n",
        "from scipy.stats import spearmanr\n",
        "from tqdm import tqdm\n",
        "from keras_bert import load_trained_model_from_checkpoint, Tokenizer, AdamWarmup, calc_train_steps, get_custom_objects\n",
        "from hyperopt import fmin, hp, tpe, STATUS_OK, Trials\n"
      ],
      "execution_count": 4,
      "outputs": [
        {
          "output_type": "stream",
          "text": [
            "Using TensorFlow backend.\n"
          ],
          "name": "stderr"
        },
        {
          "output_type": "display_data",
          "data": {
            "text/html": [
              "<p style=\"color: red;\">\n",
              "The default version of TensorFlow in Colab will soon switch to TensorFlow 2.x.<br>\n",
              "We recommend you <a href=\"https://www.tensorflow.org/guide/migrate\" target=\"_blank\">upgrade</a> now \n",
              "or ensure your notebook will continue to use TensorFlow 1.x via the <code>%tensorflow_version 1.x</code> magic:\n",
              "<a href=\"https://colab.research.google.com/notebooks/tensorflow_version.ipynb\" target=\"_blank\">more info</a>.</p>\n"
            ],
            "text/plain": [
              "<IPython.core.display.HTML object>"
            ]
          },
          "metadata": {
            "tags": []
          }
        }
      ]
    },
    {
      "cell_type": "code",
      "metadata": {
        "id": "1xGojs4dL6S4",
        "colab_type": "code",
        "colab": {}
      },
      "source": [
        "data_path = 'drive/My Drive/GoogleQA/Data/'\n",
        "train = pd.read_csv(data_path+'train.csv')\n",
        "test = pd.read_csv(data_path+'test.csv')\n",
        "sub = pd.read_csv(data_path+'sample_submission.csv')\n",
        "\n",
        "train_q = pd.read_csv(data_path+'train_q.csv')\n",
        "test_q = pd.read_csv(data_path+'test_q.csv')\n",
        "train_a = pd.read_csv(data_path+'train_answer.csv')\n",
        "test_a = pd.read_csv(data_path+'test_answer.csv')\n",
        "\n",
        "# df_aux = pd.concat([train[['host', 'category']], test[['host', 'category']]], 0)\n",
        "# aux1 = pd.get_dummies(df_aux['category'], drop_first=True)\n",
        "# aux2 = pd.get_dummies(df_aux['host'].apply(lambda x: x.split('.')[0]), drop_first=True)\n",
        "# aux = pd.concat([aux1, aux2], 1)\n",
        "# train_aux = pd.concat([train, aux.iloc[:len(train), ]], 1)\n",
        "# test_aux =  pd.concat([test, aux.iloc[len(train):, ]], 1)"
      ],
      "execution_count": 0,
      "outputs": []
    },
    {
      "cell_type": "code",
      "metadata": {
        "id": "UAkcSF4CBvZN",
        "colab_type": "code",
        "outputId": "669f5031-bc45-430a-82a8-d103ad41acb0",
        "colab": {
          "base_uri": "https://localhost:8080/",
          "height": 87
        }
      },
      "source": [
        "test.columns"
      ],
      "execution_count": 0,
      "outputs": [
        {
          "output_type": "execute_result",
          "data": {
            "text/plain": [
              "Index(['qa_id', 'question_title', 'question_body', 'question_user_name',\n",
              "       'question_user_page', 'answer', 'answer_user_name', 'answer_user_page',\n",
              "       'url', 'category', 'host'],\n",
              "      dtype='object')"
            ]
          },
          "metadata": {
            "tags": []
          },
          "execution_count": 8
        }
      ]
    },
    {
      "cell_type": "markdown",
      "metadata": {
        "id": "kH_AbgWGwUIi",
        "colab_type": "text"
      },
      "source": [
        "##Chunknize answer"
      ]
    },
    {
      "cell_type": "code",
      "metadata": {
        "id": "AYMg8WaswSx0",
        "colab_type": "code",
        "outputId": "fc3e147b-1c0c-43e5-fe17-5949b440175b",
        "colab": {
          "base_uri": "https://localhost:8080/",
          "height": 34
        }
      },
      "source": [
        "# def answer_chunk(df):\n",
        "#     answer_col = ['qa_id'] + [col for col in df.columns if col.startswith('answer') and\n",
        "#                 col not in ['answer_user_name', 'answer_user_page']] \n",
        "#     answer = df[answer_col]\n",
        "\n",
        "#     answer_chunk = pd.DataFrame()\n",
        "#     for row in tqdm(range(len(answer))):\n",
        "#         if len(answer.loc[row, 'answer']) % 256 != 0:\n",
        "#             replicate_row = len(answer.loc[row, 'answer']) // 256 + 1\n",
        "#         else:\n",
        "#             replicate_row = len(answer.loc[row, 'answer']) // 256\n",
        "#         for i in range(replicate_row):\n",
        "#             tmp = answer.loc[row].copy()\n",
        "#             tmp.loc['answer_chunk'] = tmp['answer'][i*256: (i+1)*256]\n",
        "#             answer_chunk = answer_chunk.append(tmp, ignore_index=True)\n",
        "#     return answer_chunk\n",
        "\n",
        "# def question_chunk(df):\n",
        "#     q_col = ['qa_id'] + [col for col in df.columns if col.startswith('question') and\n",
        "#                 col not in ['question_user_name', 'question_user_name']] \n",
        "#     q = df[q_col]\n",
        "\n",
        "#     q_chunk = pd.DataFrame()\n",
        "#     for row in tqdm(range(len(q))):\n",
        "#         if len(q.loc[row, 'question_body']) % 256 != 0:\n",
        "#             replicate_row = len(q.loc[row, 'question_body']) // 256 + 1\n",
        "#         else:\n",
        "#             replicate_row = len(q.loc[row, 'question_body']) // 256\n",
        "#         for i in range(replicate_row):\n",
        "#             tmp = q.loc[row].copy()\n",
        "#             tmp.loc['qbody_chunk'] = tmp['question_body'][i*256: (i+1)*256]\n",
        "#             q_chunk = q_chunk.append(tmp, ignore_index=True)\n",
        "#     return q_chunk\n",
        "\n",
        "# train_q, test_q = question_chunk(train), question_chunk(test)\n",
        "# train_a, test_a = answer_chunk(train), answer_chunk(test)"
      ],
      "execution_count": 0,
      "outputs": [
        {
          "output_type": "stream",
          "text": [
            "100%|██████████| 476/476 [00:09<00:00, 52.14it/s]\n"
          ],
          "name": "stderr"
        }
      ]
    },
    {
      "cell_type": "code",
      "metadata": {
        "id": "iPkHK5JvMJpY",
        "colab_type": "code",
        "colab": {}
      },
      "source": [
        "MAXLEN = 256 #@param {type:\"slider\", min:128, max:512, step:32}\n",
        "BATCH_SIZE = 8 #@param {type:'slider', min:8, max:32, step:8}\n",
        "NUM_EPOCHS = 3\n",
        "NUM_CLASSES = 30\n",
        "LR = 5e-5\n",
        "MIN_LR = 0\n",
        "# OUTPUT_TRAIN = 'train_bert_ipredcv1415_oof.csv'\n",
        "# OUTPUT_TEST = 'test_bert_large.npy'\n",
        "model_path = 'uncased_L-12_H-768_A-12' #@param ['uncased_L-12_H-768_A-12', 'wwm_uncased_L-24_H-1024_A-16', 'uncased_L-24_H-1024_A-16']\n",
        "target_q_col = train.columns.tolist()[11:32]\n",
        "target_a_col = train.columns.tolist()[32:42]"
      ],
      "execution_count": 0,
      "outputs": []
    },
    {
      "cell_type": "code",
      "metadata": {
        "id": "hb2llbNDMhVm",
        "colab_type": "code",
        "colab": {}
      },
      "source": [
        "token_dict = {}\n",
        "with codecs.open(os.path.join(model_path, 'vocab.txt'), 'r', 'utf8') as reader:\n",
        "    for line in reader:\n",
        "        token = line.strip()\n",
        "        token_dict[token] = len(token_dict)\n",
        "tokenizer = Tokenizer(token_dict)"
      ],
      "execution_count": 0,
      "outputs": []
    },
    {
      "cell_type": "code",
      "metadata": {
        "id": "I4zB4cIjMjFo",
        "colab_type": "code",
        "colab": {}
      },
      "source": [
        "def convert_data(data_df, branch='training', type='answer'):\n",
        "    data_df = data_df.reset_index(drop=True)\n",
        "    global tokenizer\n",
        "    global MAXLEN\n",
        "    global target_a_col\n",
        "    global target_q_col\n",
        "    q_title, q_body, answer = [], [], []\n",
        "    if type=='answer':\n",
        "        for i in tqdm(range(len(data_df))):\n",
        "            answer_ids, _ = tokenizer.encode(data_df.loc[i, 'answer_chunk'][:MAXLEN])\n",
        "            answer.append(answer_ids)\n",
        "        if branch == 'training':\n",
        "            targets = data_df[target_a_col]\n",
        "            return answer, np.array(targets)\n",
        "        else:\n",
        "            return answer\n",
        "    else:     \n",
        "        for i in tqdm(range(len(data_df))):                  \n",
        "            q_title_ids, _ = tokenizer.encode(data_df.loc[i, 'question_title'][:MAXLEN])\n",
        "            q_title.append(q_title_ids)\n",
        "            q_body_ids, _ = tokenizer.encode(data_df.loc[i, 'question_body'][:MAXLEN])\n",
        "            q_body.append(q_body_ids)\n",
        "        if branch == 'training':\n",
        "            targets = data_df[target_q_col]\n",
        "            return [q_title, q_body], np.array(targets)\n",
        "        else:\n",
        "            return [q_title, q_body]\n",
        "\n"
      ],
      "execution_count": 0,
      "outputs": []
    },
    {
      "cell_type": "code",
      "metadata": {
        "id": "jh7qwb8ZMlbK",
        "colab_type": "code",
        "colab": {}
      },
      "source": [
        "\"\"\"## Data Generator\"\"\"\n",
        "def seq_padding(X, padding=0):\n",
        "    L = [len(x) for x in X]\n",
        "    ML = max(L)\n",
        "    return np.array([np.concatenate([x, [padding] * (ML - len(x))]) if len(x) < ML else x for x in X])\n",
        "\n",
        "class data_generator:\n",
        "    def __init__(self, data, batch_size=BATCH_SIZE, branch='train', q_a='a'):\n",
        "        self.data = data\n",
        "        self.batch_size = batch_size\n",
        "        self.branch = branch\n",
        "        self.q_a = q_a\n",
        "        self.steps = len(self.data) // self.batch_size\n",
        "        if len(self.data) % self.batch_size != 0:\n",
        "            self.steps += 1\n",
        "\n",
        "    def __len__(self):\n",
        "        return self.steps\n",
        "\n",
        "    def __iter__(self):\n",
        "        while True:\n",
        "            if self.branch == 'train':\n",
        "                np.random.shuffle(self.data)\n",
        "            for i in range(self.steps):\n",
        "                d = self.data[i * self.batch_size: (i + 1) * self.batch_size]\n",
        "                if self.q_a == 'q':\n",
        "                    X1 = seq_padding([x[0] for x in d])\n",
        "                    X2 = np.zeros_like(X1)\n",
        "                    X3 = seq_padding([x[1] for x in d])\n",
        "                    X4 = np.zeros_like(X3)\n",
        "                    if self.branch == 'test':\n",
        "                        # aux = np.array([x[3] for x in d])\n",
        "                        yield [X1, X2, X3, X4]\n",
        "                    else:\n",
        "                        Y = np.array([x[2] for x in d])\n",
        "                        # aux = np.array([x[4] for x in d])\n",
        "                        yield [X1, X2, X3, X4], Y\n",
        "                else:\n",
        "                    X1 = seq_padding([x[0] for x in d])\n",
        "                    X2 = np.zeros_like(X1)\n",
        "                    if self.branch == 'test':\n",
        "                        # aux = np.array([x[3] for x in d])\n",
        "                        yield [X1, X2]\n",
        "                    else:\n",
        "                        Y = np.array([x[1] for x in d])\n",
        "                        # aux = np.array([x[4] for x in d])\n",
        "                        yield [X1, X2], Y\n",
        "        \n"
      ],
      "execution_count": 0,
      "outputs": []
    },
    {
      "cell_type": "code",
      "metadata": {
        "id": "PZvVEWF62IdS",
        "colab_type": "code",
        "colab": {}
      },
      "source": [
        "def model_build(len_train, q_a='a'):\n",
        "    global NUM_CLASSES\n",
        "    global BATCH_SIZE\n",
        "    global NUM_EPOCHS\n",
        "    global MIN_LR\n",
        "    global LR\n",
        "    global MAXLEN\n",
        "\n",
        "    bert_model = load_trained_model_from_checkpoint(\n",
        "        os.path.join(model_path, 'bert_config.json'),\n",
        "        os.path.join(model_path, 'bert_model.ckpt'),\n",
        "        seq_len = MAXLEN,\n",
        "        trainable=True,\n",
        "    )\n",
        "\n",
        "    if q_a == 'q':\n",
        "        q_in = Input(shape=(None,))\n",
        "        q2_in = Input(shape=(None,))\n",
        "        qb_in = Input(shape=(None,))\n",
        "        qb2_in = Input(shape=(None,))\n",
        "\n",
        "        q_inputs = bert_model([q_in, q2_in])\n",
        "        q_outputs = Lambda(lambda x: x[:, 0])(q_inputs)\n",
        "        qb_inputs = bert_model([qb_in, qb2_in])\n",
        "        qb_outputs = Lambda(lambda x: x[:, 0])(qb_inputs)\n",
        "\n",
        "        dense = concatenate([q_outputs, qb_outputs])\n",
        "        outputs = Dense(len(target_q_col), activation='softmax')(dense)\n",
        "        model = Model([q_in, q2_in, qb_in, qb2_in], outputs)\n",
        "    else:\n",
        "        a_in = Input(shape=(None,))\n",
        "        a2_in = Input(shape=(None,))\n",
        "        # aux_in = Input(shape=(aux.shape[1], ))\n",
        "\n",
        "        a_inputs = bert_model([a_in, a2_in])\n",
        "        a_outputs = Lambda(lambda x: x[:, 0])(a_inputs)\n",
        "\n",
        "        dense = a_outputs\n",
        "        outputs = Dense(len(target_a_col), activation='softmax')(dense)\n",
        "        model = Model([a_in, a2_in], outputs)\n",
        "\n",
        "    decay_steps, warmup_steps = calc_train_steps(\n",
        "        len_train,\n",
        "        batch_size=BATCH_SIZE,\n",
        "        epochs=NUM_EPOCHS,\n",
        "    )\n",
        "\n",
        "    model.compile(\n",
        "        loss='binary_crossentropy',\n",
        "        # optimizer=Adam(1e-5),\n",
        "        optimizer=AdamWarmup(\n",
        "            decay_steps=decay_steps,\n",
        "            warmup_steps=warmup_steps,\n",
        "            lr=LR,\n",
        "            min_lr=MIN_LR,\n",
        "            ))\n",
        "    del bert_model\n",
        "    gc.collect()\n",
        "    return model\n"
      ],
      "execution_count": 0,
      "outputs": []
    },
    {
      "cell_type": "markdown",
      "metadata": {
        "id": "N56RysQWJ6R1",
        "colab_type": "text"
      },
      "source": [
        "## train on answer"
      ]
    },
    {
      "cell_type": "code",
      "metadata": {
        "id": "hH88F-DJMsTR",
        "colab_type": "code",
        "outputId": "ad062cd5-7501-4452-9545-b6b1153dfdb5",
        "colab": {
          "base_uri": "https://localhost:8080/",
          "height": 122
        }
      },
      "source": [
        "test_x = convert_data(test_a, branch='testing')\n",
        "pred = np.zeros((len(test_a), NUM_CLASSES))\n",
        "kf = KFold(n_splits=5, shuffle=True, random_state=0)\n",
        "idx = [x for x in kf.split(train_a)]\n",
        "\n",
        "def compute_spearmanr(trues, preds):\n",
        "    rhos = []\n",
        "    for col_trues, col_pred in zip(trues.T, preds.T):\n",
        "        rhos.append(spearmanr(col_trues, col_pred + np.random.normal(0, 1e-7, col_pred.shape[0])).correlation)\n",
        "    return np.nanmean(rhos)\n",
        "\n",
        "class IntervalEval(Callback):\n",
        "    def __init__(self, test_data, label):\n",
        "        super(Callback, self).__init__()\n",
        "        self.test_data = test_data\n",
        "        self.label = label\n",
        "\n",
        "    def on_epoch_end(self, epoch, logs={}):\n",
        "        # if epoch == 3:\n",
        "        preds = self.model.predict_generator(self.test_data.__iter__(), len(self.test_data), verbose=1)\n",
        "        score = compute_spearmanr(self.label, preds)\n",
        "        print('Spearman - {:.5f}'.format(score))\n",
        "\n",
        "for i, (tr_idx, val_idx) in enumerate(idx[0:1], 1):\n",
        "    print('\\nFold - {:}\\n'.format(i))\n",
        "    tr, val = train_a.loc[tr_idx], train_a.loc[val_idx]\n",
        "    tr_x, tr_y = convert_data(tr)\n",
        "    val_x, val_y = convert_data(val)\n",
        "    \n",
        "    model = model_build(len_train=len(tr))\n",
        "\n",
        "\n",
        "    train_D = data_generator(list(zip(tr_x, tr_y)))\n",
        "    valid_D = data_generator(list(zip(val_x, val_y)), branch='valid')\n",
        "    test_D = data_generator(list(zip(test_x)), branch='test')\n",
        "    ieval = IntervalEval(test_data=valid_D, label=val_y)\n",
        "    model.fit_generator(\n",
        "        train_D.__iter__(),\n",
        "        steps_per_epoch=len(train_D),\n",
        "        epochs=NUM_EPOCHS,\n",
        "        callbacks = [ieval]\n",
        "    )\n",
        "    # oof_pred = model.predict_generator(valid_D.__iter__(), len(valid_D), verbose=1)\n",
        "    # train_aug.loc[val_idx, 'oof_pred'] = np.argmax(oof_pred, 1)\n",
        "    # print('oof - {:} f1_score - {:.4f}'.format(i, spearmanr(val_y, np.argmax(oof_pred, 1), average='weighted')))\n",
        "\n",
        "    pred+= model.predict_generator(test_D.__iter__(), len(test_D), verbose=1) / kf.get_n_splits()\n",
        "    # np.save(OUTPUT_TEST, pred)\n",
        "    # s3.upload_file(Filename=OUTPUT_TEST, Bucket='acmilannesta', Key='large/'+OUTPUT_TEST)\n",
        "\n",
        "    # model_file = 'model-oof-'+str(i)+'.h5'\n",
        "    # model.save('model.h5')\n",
        "\n",
        "    del model\n",
        "    gc.collect()"
      ],
      "execution_count": 0,
      "outputs": [
        {
          "output_type": "stream",
          "text": [
            "WARNING:tensorflow:From /usr/local/lib/python3.6/dist-packages/keras/backend/tensorflow_backend.py:1033: The name tf.assign_add is deprecated. Please use tf.compat.v1.assign_add instead.\n",
            "\n",
            "WARNING:tensorflow:From /usr/local/lib/python3.6/dist-packages/keras/backend/tensorflow_backend.py:1020: The name tf.assign is deprecated. Please use tf.compat.v1.assign instead.\n",
            "\n",
            "Epoch 1/3\n",
            "  80/2291 [>.............................] - ETA: 11:31 - loss: 1.6316"
          ],
          "name": "stdout"
        }
      ]
    },
    {
      "cell_type": "code",
      "metadata": {
        "id": "az1W9iNAL3_B",
        "colab_type": "code",
        "outputId": "bd2f85d3-40d9-4863-9aa8-54f7b53ee3c0",
        "colab": {
          "base_uri": "https://localhost:8080/",
          "height": 351
        }
      },
      "source": [
        "model.summary()"
      ],
      "execution_count": 0,
      "outputs": [
        {
          "output_type": "stream",
          "text": [
            "Model: \"model_3\"\n",
            "__________________________________________________________________________________________________\n",
            "Layer (type)                    Output Shape         Param #     Connected to                     \n",
            "==================================================================================================\n",
            "input_1 (InputLayer)            (None, None)         0                                            \n",
            "__________________________________________________________________________________________________\n",
            "input_2 (InputLayer)            (None, None)         0                                            \n",
            "__________________________________________________________________________________________________\n",
            "model_2 (Model)                 multiple             108695040   input_1[0][0]                    \n",
            "                                                                 input_2[0][0]                    \n",
            "__________________________________________________________________________________________________\n",
            "lambda_1 (Lambda)               (None, 768)          0           model_2[1][0]                    \n",
            "__________________________________________________________________________________________________\n",
            "dense_1 (Dense)                 (None, 9)            6921        lambda_1[0][0]                   \n",
            "==================================================================================================\n",
            "Total params: 108,701,961\n",
            "Trainable params: 108,701,961\n",
            "Non-trainable params: 0\n",
            "__________________________________________________________________________________________________\n"
          ],
          "name": "stdout"
        }
      ]
    }
  ]
}