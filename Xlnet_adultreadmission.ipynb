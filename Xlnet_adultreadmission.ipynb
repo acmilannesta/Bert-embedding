{
  "nbformat": 4,
  "nbformat_minor": 0,
  "metadata": {
    "colab": {
      "name": "Untitled0.ipynb",
      "provenance": [],
      "include_colab_link": true
    },
    "kernelspec": {
      "name": "python3",
      "display_name": "Python 3"
    },
    "accelerator": "GPU"
  },
  "cells": [
    {
      "cell_type": "markdown",
      "metadata": {
        "id": "view-in-github",
        "colab_type": "text"
      },
      "source": [
        "<a href=\"https://colab.research.google.com/github/acmilannesta/Bert-embedding/blob/master/Xlnet_adultreadmission.ipynb\" target=\"_parent\"><img src=\"https://colab.research.google.com/assets/colab-badge.svg\" alt=\"Open In Colab\"/></a>"
      ]
    },
    {
      "cell_type": "code",
      "metadata": {
        "id": "-ItDxs5xGRfa",
        "colab_type": "code",
        "colab": {
          "base_uri": "https://localhost:8080/",
          "height": 334
        },
        "outputId": "3c65aa5f-fc09-4d96-a6f7-9062ee970252"
      },
      "source": [
        "!wget https://storage.googleapis.com/xlnet/released_models/cased_L-12_H-768_A-12.zip\n",
        "!unzip cased_L-12_H-768_A-12.zip"
      ],
      "execution_count": 4,
      "outputs": [
        {
          "output_type": "stream",
          "text": [
            "--2019-09-27 12:55:45--  https://storage.googleapis.com/xlnet/released_models/cased_L-12_H-768_A-12.zip\n",
            "Resolving storage.googleapis.com (storage.googleapis.com)... 74.125.204.128, 2404:6800:4008:c00::80\n",
            "Connecting to storage.googleapis.com (storage.googleapis.com)|74.125.204.128|:443... connected.\n",
            "HTTP request sent, awaiting response... 200 OK\n",
            "Length: 433638019 (414M) [application/zip]\n",
            "Saving to: ‘cased_L-12_H-768_A-12.zip’\n",
            "\n",
            "cased_L-12_H-768_A- 100%[===================>] 413.55M  54.6MB/s    in 7.9s    \n",
            "\n",
            "2019-09-27 12:55:53 (52.3 MB/s) - ‘cased_L-12_H-768_A-12.zip’ saved [433638019/433638019]\n",
            "\n",
            "Archive:  cased_L-12_H-768_A-12.zip\n",
            "   creating: xlnet_cased_L-12_H-768_A-12/\n",
            "  inflating: xlnet_cased_L-12_H-768_A-12/xlnet_model.ckpt.index  \n",
            "  inflating: xlnet_cased_L-12_H-768_A-12/xlnet_model.ckpt.data-00000-of-00001  \n",
            "  inflating: xlnet_cased_L-12_H-768_A-12/spiece.model  \n",
            "  inflating: xlnet_cased_L-12_H-768_A-12/xlnet_model.ckpt.meta  \n",
            "  inflating: xlnet_cased_L-12_H-768_A-12/xlnet_config.json  \n"
          ],
          "name": "stdout"
        }
      ]
    },
    {
      "cell_type": "code",
      "metadata": {
        "id": "rUGed4x9teIv",
        "colab_type": "code",
        "colab": {}
      },
      "source": [
        "!pip install keras_xlnet"
      ],
      "execution_count": 0,
      "outputs": []
    },
    {
      "cell_type": "code",
      "metadata": {
        "id": "g0TXgKiFFVyN",
        "colab_type": "code",
        "outputId": "300d2587-c405-4083-b863-4aefe6db472f",
        "colab": {
          "base_uri": "https://localhost:8080/",
          "height": 125
        }
      },
      "source": [
        "from google.colab import drive\n",
        "drive.mount('/content/drive')"
      ],
      "execution_count": 2,
      "outputs": [
        {
          "output_type": "stream",
          "text": [
            "Go to this URL in a browser: https://accounts.google.com/o/oauth2/auth?client_id=947318989803-6bn6qk8qdgf4n4g3pfee6491hc0brc4i.apps.googleusercontent.com&redirect_uri=urn%3Aietf%3Awg%3Aoauth%3A2.0%3Aoob&scope=email%20https%3A%2F%2Fwww.googleapis.com%2Fauth%2Fdocs.test%20https%3A%2F%2Fwww.googleapis.com%2Fauth%2Fdrive%20https%3A%2F%2Fwww.googleapis.com%2Fauth%2Fdrive.photos.readonly%20https%3A%2F%2Fwww.googleapis.com%2Fauth%2Fpeopleapi.readonly&response_type=code\n",
            "\n",
            "Enter your authorization code:\n",
            "··········\n",
            "Mounted at /content/drive\n"
          ],
          "name": "stdout"
        }
      ]
    },
    {
      "cell_type": "code",
      "metadata": {
        "id": "80znwlH7iwUc",
        "colab_type": "code",
        "colab": {}
      },
      "source": [
        "import os\n",
        "from keras_xlnet import Tokenizer, load_trained_model_from_checkpoint, ATTENTION_TYPE_BI\n",
        "\n",
        "checkpoint_path = 'xlnet_cased_L-12_H-768_A-12'\n",
        "MAXLEN=300\n",
        "MEMLEN=64\n",
        "BATCH_SIZE=8\n",
        "\n",
        "tokenizer = Tokenizer(os.path.join(checkpoint_path, 'spiece.model'))\n",
        "xlnet_model = load_trained_model_from_checkpoint(\n",
        "    config_path=os.path.join(checkpoint_path, 'xlnet_config.json'),\n",
        "    checkpoint_path=os.path.join(checkpoint_path, 'xlnet_model.ckpt'),\n",
        "    batch_size=BATCH_SIZE, #16\n",
        "    memory_len=MEMLEN, #512\n",
        "    target_len=MAXLEN, #128\n",
        "    in_train_phase=False,\n",
        "    attention_type=ATTENTION_TYPE_BI,\n",
        ")\n"
      ],
      "execution_count": 0,
      "outputs": []
    },
    {
      "cell_type": "code",
      "metadata": {
        "id": "gl-tLqJGHXij",
        "colab_type": "code",
        "colab": {}
      },
      "source": [
        "def seq_padding(X, padding=tokenizer.SYM_PAD):\n",
        "  L = [len(x) for x in X]\n",
        "  ML = max(L)\n",
        "  return np.array([np.concatenate([x, [padding] * (ML - len(x))]) if len(x) < ML else x for x in X])\n",
        "\n",
        "class data_generator:\n",
        "  def __init__(self, data, batch_size=BATCH_SIZE, memlen=MEMLEN, maxlen=MAXLEN):\n",
        "    self.data = data\n",
        "    self.batch_size = batch_size\n",
        "    self.memlen = memlen\n",
        "    self.maxlen = maxlen\n",
        "    self.steps = len(self.data) // self.batch_size\n",
        "    if len(self.data) % self.batch_size != 0:\n",
        "        self.steps += 1\n",
        "  def __len__(self):\n",
        "    return self.steps\n",
        "  def __iter__(self):\n",
        "    while True:\n",
        "      idxs = list(range(len(self.data)))\n",
        "      np.random.shuffle(idxs)\n",
        "      X1, X2, X3, Y = [], [], [], []\n",
        "      for i in idxs:\n",
        "        d = self.data[i]\n",
        "        text = d[0][:self.maxlen]\n",
        "        x1 = tokenizer.encode(text=text)\n",
        "        x2 = [float(tokenizer.SYM_CLS) for i in range(len(x1))]\n",
        "        x3 = [float(self.memlen) for i in range(len(x1))]\n",
        "        y = d[1]\n",
        "        X1.append(x1)\n",
        "        X2.append(x2)\n",
        "        X3.append(x3)\n",
        "        Y.append([y])\n",
        "        if len(X1) == self.batch_size or i == idxs[-1]:\n",
        "          X1 = seq_padding(X1)\n",
        "          X2 = seq_padding(X2)\n",
        "          X3 = seq_padding(X3, padding=self.memlen)\n",
        "          Y = seq_padding(Y)\n",
        "          yield [X1, X2, X3], Y\n",
        "          X1, X2, X3, Y = [], [], [], []"
      ],
      "execution_count": 0,
      "outputs": []
    },
    {
      "cell_type": "code",
      "metadata": {
        "id": "306WTFXmGPA6",
        "colab_type": "code",
        "colab": {}
      },
      "source": [
        "import json\n",
        "import numpy as np\n",
        "import pandas as pd\n",
        "from random import choice\n",
        "import re, os, gc\n",
        "import codecs\n",
        "from keras.layers import *\n",
        "from keras.models import Model\n",
        "from keras.initializers import TruncatedNormal\n",
        "import keras.backend as K\n",
        "from keras.optimizers import Adam\n",
        "import tensorflow as tf\n",
        "from sklearn.metrics import roc_auc_score, accuracy_score"
      ],
      "execution_count": 0,
      "outputs": []
    },
    {
      "cell_type": "code",
      "metadata": {
        "id": "mQK47tDfHL-U",
        "colab_type": "code",
        "colab": {}
      },
      "source": [
        "data = pd.read_csv('drive/My Drive/Adult readmission/Combined_vars_04092019_notes.csv')\n",
        "data = data[['opnote_1', 'CODE_REHOSP']].dropna()\n",
        "data.CODE_REHOSP = np.where(data.CODE_REHOSP==2, 0, 1)\n",
        "random_order = list(range(len(data)))\n",
        "np.random.seed(0)\n",
        "np.random.shuffle(random_order)\n",
        "train_data = [data.iloc[j] for i, j in enumerate(random_order) if i % 5 != 0]\n",
        "valid_data = [data.iloc[j] for i, j in enumerate(random_order) if i % 5 == 0]"
      ],
      "execution_count": 0,
      "outputs": []
    },
    {
      "cell_type": "code",
      "metadata": {
        "id": "4fnY5nGsHgHz",
        "colab_type": "code",
        "colab": {
          "base_uri": "https://localhost:8080/",
          "height": 125
        },
        "outputId": "bcf00a43-0cdc-450a-dcb2-11b0cf352785"
      },
      "source": [
        "x1_in = Input(shape=(None,))\n",
        "x2_in = Input(shape=(None,))\n",
        "x3_in = Input(shape=(None,))\n",
        "\n",
        "x = xlnet_model([x1_in, x2_in, x3_in])\n",
        "x = Lambda(lambda x: x[:, 0])(x)\n",
        "p = Dense(1, activation='sigmoid', kernel_initializer=TruncatedNormal(stddev=0.02))(x)\n",
        "\n",
        "model = Model([x1_in, x2_in, x3_in], p)\n",
        "# def auroc(y_true, y_pred):\n",
        "#     return tf.py_func(roc_auc_score, (y_true, y_pred), tf.double)\n",
        "\n",
        "model.compile(\n",
        "    loss='binary_crossentropy',\n",
        "    optimizer=Adam(1e-5),\n",
        "    metrics=['acc']\n",
        ")\n"
      ],
      "execution_count": 36,
      "outputs": [
        {
          "output_type": "stream",
          "text": [
            "WARNING:tensorflow:From /usr/local/lib/python3.6/dist-packages/keras/optimizers.py:793: The name tf.train.Optimizer is deprecated. Please use tf.compat.v1.train.Optimizer instead.\n",
            "\n",
            "WARNING:tensorflow:From /usr/local/lib/python3.6/dist-packages/tensorflow/python/ops/nn_impl.py:180: add_dispatch_support.<locals>.wrapper (from tensorflow.python.ops.array_ops) is deprecated and will be removed in a future version.\n",
            "Instructions for updating:\n",
            "Use tf.where in 2.0, which has the same broadcast rule as np.where\n"
          ],
          "name": "stdout"
        }
      ]
    },
    {
      "cell_type": "code",
      "metadata": {
        "id": "31l7HU8ZHsAe",
        "colab_type": "code",
        "outputId": "69ba097e-427c-4c7e-b7c8-60470765faeb",
        "colab": {
          "base_uri": "https://localhost:8080/",
          "height": 105
        }
      },
      "source": [
        "train_D = data_generator(train_data)\n",
        "valid_D = data_generator(valid_data)\n",
        "model.fit_generator(\n",
        "    train_D.__iter__(),\n",
        "    steps_per_epoch=len(train_D),\n",
        "    epochs=2,\n",
        "    validation_data=valid_D.__iter__(),\n",
        "    validation_steps=len(valid_D)\n",
        ")"
      ],
      "execution_count": 37,
      "outputs": [
        {
          "output_type": "stream",
          "text": [
            "Epoch 1/2\n",
            "147/147 [==============================] - 147s 999ms/step - loss: 0.6654 - acc: 0.6630 - val_loss: 0.5647 - val_acc: 0.7483\n",
            "Epoch 2/2\n",
            "147/147 [==============================] - 121s 825ms/step - loss: 0.6207 - acc: 0.6893 - val_loss: 0.5817 - val_acc: 0.7483\n"
          ],
          "name": "stdout"
        },
        {
          "output_type": "execute_result",
          "data": {
            "text/plain": [
              "<keras.callbacks.History at 0x7fe03b2986a0>"
            ]
          },
          "metadata": {
            "tags": []
          },
          "execution_count": 37
        }
      ]
    },
    {
      "cell_type": "code",
      "metadata": {
        "id": "2frFKaglPXeZ",
        "colab_type": "code",
        "colab": {}
      },
      "source": [
        "pred = model.predict_generator(valid_D.__iter__(), len(valid_D))"
      ],
      "execution_count": 0,
      "outputs": []
    },
    {
      "cell_type": "code",
      "metadata": {
        "id": "Qn5G__2CL2Mz",
        "colab_type": "code",
        "outputId": "46c60836-464b-46c8-e0d8-fd01c0e7bf6b",
        "colab": {
          "base_uri": "https://localhost:8080/",
          "height": 52
        }
      },
      "source": [
        "print('Accuracy Score: {:.2f}%'.format(accuracy_score([x[1] for x in valid_data], [int(x>0.5) for x in pred])*100))\n",
        "print('ROC-AUC: {:.2f}%'.format(roc_auc_score([x[1] for x in valid_data], pred)*100))"
      ],
      "execution_count": 39,
      "outputs": [
        {
          "output_type": "stream",
          "text": [
            "Accuracy Score: 74.83%\n",
            "ROC-AUC: 46.86%\n"
          ],
          "name": "stdout"
        }
      ]
    }
  ]
}