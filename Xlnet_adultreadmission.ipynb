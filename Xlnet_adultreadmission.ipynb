{
  "nbformat": 4,
  "nbformat_minor": 0,
  "metadata": {
    "colab": {
      "name": "Untitled0.ipynb",
      "provenance": [],
      "include_colab_link": true
    },
    "kernelspec": {
      "name": "python3",
      "display_name": "Python 3"
    },
    "accelerator": "GPU"
  },
  "cells": [
    {
      "cell_type": "markdown",
      "metadata": {
        "id": "view-in-github",
        "colab_type": "text"
      },
      "source": [
        "<a href=\"https://colab.research.google.com/github/acmilannesta/Bert-embedding/blob/master/Xlnet_adultreadmission.ipynb\" target=\"_parent\"><img src=\"https://colab.research.google.com/assets/colab-badge.svg\" alt=\"Open In Colab\"/></a>"
      ]
    },
    {
      "cell_type": "code",
      "metadata": {
        "id": "-ItDxs5xGRfa",
        "colab_type": "code",
        "colab": {}
      },
      "source": [
        "!wget https://storage.googleapis.com/xlnet/released_models/cased_L-12_H-768_A-12.zip\n",
        "!unzip cased_L-12_H-768_A-12.zip"
      ],
      "execution_count": 0,
      "outputs": []
    },
    {
      "cell_type": "code",
      "metadata": {
        "id": "rUGed4x9teIv",
        "colab_type": "code",
        "colab": {}
      },
      "source": [
        "!pip install keras_xlnet"
      ],
      "execution_count": 0,
      "outputs": []
    },
    {
      "cell_type": "code",
      "metadata": {
        "id": "g0TXgKiFFVyN",
        "colab_type": "code",
        "outputId": "4a1c23bb-5227-405b-bc69-e19b796c70af",
        "colab": {
          "base_uri": "https://localhost:8080/",
          "height": 125
        }
      },
      "source": [
        "from google.colab import drive\n",
        "drive.mount('/content/drive')"
      ],
      "execution_count": 0,
      "outputs": [
        {
          "output_type": "stream",
          "text": [
            "Go to this URL in a browser: https://accounts.google.com/o/oauth2/auth?client_id=947318989803-6bn6qk8qdgf4n4g3pfee6491hc0brc4i.apps.googleusercontent.com&redirect_uri=urn%3Aietf%3Awg%3Aoauth%3A2.0%3Aoob&scope=email%20https%3A%2F%2Fwww.googleapis.com%2Fauth%2Fdocs.test%20https%3A%2F%2Fwww.googleapis.com%2Fauth%2Fdrive%20https%3A%2F%2Fwww.googleapis.com%2Fauth%2Fdrive.photos.readonly%20https%3A%2F%2Fwww.googleapis.com%2Fauth%2Fpeopleapi.readonly&response_type=code\n",
            "\n",
            "Enter your authorization code:\n",
            "··········\n",
            "Mounted at /content/drive\n"
          ],
          "name": "stdout"
        }
      ]
    },
    {
      "cell_type": "code",
      "metadata": {
        "id": "80znwlH7iwUc",
        "colab_type": "code",
        "colab": {}
      },
      "source": [
        "import os\n",
        "from keras_xlnet import Tokenizer, load_trained_model_from_checkpoint, ATTENTION_TYPE_BI\n",
        "\n",
        "checkpoint_path = 'xlnet_cased_L-12_H-768_A-12'\n",
        "\n",
        "tokenizer = Tokenizer(os.path.join(checkpoint_path, 'spiece.model'))\n",
        "xlnet_model = load_trained_model_from_checkpoint(\n",
        "    config_path=os.path.join(checkpoint_path, 'xlnet_config.json'),\n",
        "    checkpoint_path=os.path.join(checkpoint_path, 'xlnet_model.ckpt'),\n",
        "    batch_size=16,\n",
        "    memory_len=512,\n",
        "    target_len=128,\n",
        "    in_train_phase=False,\n",
        "    attention_type=ATTENTION_TYPE_BI,\n",
        ")\n"
      ],
      "execution_count": 0,
      "outputs": []
    },
    {
      "cell_type": "code",
      "metadata": {
        "id": "8vv5Wfp1tuaV",
        "colab_type": "code",
        "colab": {
          "base_uri": "https://localhost:8080/",
          "height": 34
        },
        "outputId": "cfb3c4e7-7a60-47ab-a574-179c489deea9"
      },
      "source": [
        "tokenizer.SYM_CLS"
      ],
      "execution_count": 91,
      "outputs": [
        {
          "output_type": "execute_result",
          "data": {
            "text/plain": [
              "3"
            ]
          },
          "metadata": {
            "tags": []
          },
          "execution_count": 91
        }
      ]
    },
    {
      "cell_type": "code",
      "metadata": {
        "id": "gl-tLqJGHXij",
        "colab_type": "code",
        "colab": {}
      },
      "source": [
        "maxlen=300\n",
        "def seq_padding(X, padding=tokenizer.SYM_PAD):\n",
        "  L = [len(x) for x in X]\n",
        "  ML = max(L)\n",
        "  return np.array([np.concatenate([x, [padding] * (ML - len(x))]) if len(x) < ML else x for x in X])\n",
        "\n",
        "class data_generator:\n",
        "  def __init__(self, data, batch_size=8, memlen=512):\n",
        "    self.data = data\n",
        "    self.batch_size = batch_size\n",
        "    self.memlen = memlen\n",
        "    self.steps = len(self.data) // self.batch_size\n",
        "    if len(self.data) % self.batch_size != 0:\n",
        "        self.steps += 1\n",
        "  def __len__(self):\n",
        "    return self.steps\n",
        "  def __iter__(self):\n",
        "    while True:\n",
        "      idxs = list(range(len(self.data)))\n",
        "      np.random.shuffle(idxs)\n",
        "      X1, X2, X3, Y = [], [], [], []\n",
        "      for i in idxs:\n",
        "        d = self.data[i]\n",
        "        text = d[0][:maxlen]\n",
        "        x1 = tokenizer.encode(text=text)\n",
        "        x2 = [float(tokenizer.SYM_CLS) for i in range(len(x1))]\n",
        "        x3 = [float(self.memlen) for i in range(len(x1))]\n",
        "        y = d[1]\n",
        "        X1.append(x1)\n",
        "        X2.append(x2)\n",
        "        X3.append(x3)\n",
        "        Y.append([y])\n",
        "        if len(X1) == self.batch_size or i == idxs[-1]:\n",
        "          X1 = seq_padding(X1)\n",
        "          X2 = seq_padding(X2)\n",
        "          X3 = seq_padding(X3, padding=self.memlen)\n",
        "          Y = seq_padding(Y)\n",
        "          yield [X1, X2, X3], Y\n",
        "          X1, X2, X3, Y = [], [], [], []"
      ],
      "execution_count": 0,
      "outputs": []
    },
    {
      "cell_type": "code",
      "metadata": {
        "id": "306WTFXmGPA6",
        "colab_type": "code",
        "colab": {}
      },
      "source": [
        "import json\n",
        "import numpy as np\n",
        "import pandas as pd\n",
        "from random import choice\n",
        "from keras_bert import load_trained_model_from_checkpoint, Tokenizer\n",
        "import re, os, gc\n",
        "import codecs\n",
        "from keras.layers import *\n",
        "from keras.models import Model\n",
        "from keras.preprocessing.sequence import pad_sequences\n",
        "import keras.backend as K\n",
        "from keras.optimizers import Adam\n",
        "import tensorflow as tf\n",
        "from sklearn.metrics import roc_auc_score, accuracy_score\n"
      ],
      "execution_count": 0,
      "outputs": []
    },
    {
      "cell_type": "code",
      "metadata": {
        "id": "mQK47tDfHL-U",
        "colab_type": "code",
        "colab": {}
      },
      "source": [
        "data = pd.read_csv('drive/My Drive/Adult readmission/Combined_vars_04092019_notes.csv')\n",
        "data = data[['opnote_1', 'CODE_REHOSP']].dropna()\n",
        "data.CODE_REHOSP = np.where(data.CODE_REHOSP==2, 0, 1)\n",
        "random_order = list(range(len(data)))\n",
        "np.random.shuffle(random_order)\n",
        "train_data = [data.iloc[j] for i, j in enumerate(random_order) if i % 5 != 0]\n",
        "valid_data = [data.iloc[j] for i, j in enumerate(random_order) if i % 5 == 0]"
      ],
      "execution_count": 0,
      "outputs": []
    },
    {
      "cell_type": "code",
      "metadata": {
        "id": "4fnY5nGsHgHz",
        "colab_type": "code",
        "colab": {}
      },
      "source": [
        "x1_in = Input(shape=(None,))\n",
        "x2_in = Input(shape=(None,))\n",
        "x3_in = Input(shape=(None,))\n",
        "\n",
        "x = xlnet_model([x1_in, x2_in, x3_in])\n",
        "x = Lambda(lambda x: x[:, 0])(x)\n",
        "p = Dense(1, activation='sigmoid')(x)\n",
        "\n",
        "model = Model([x1_in, x2_in, x3_in], p)\n",
        "# def auroc(y_true, y_pred):\n",
        "#     return tf.py_func(roc_auc_score, (y_true, y_pred), tf.double)\n",
        "\n",
        "model.compile(\n",
        "    loss='binary_crossentropy',\n",
        "    optimizer=Adam(1e-5),\n",
        "    metrics=['acc']\n",
        ")\n"
      ],
      "execution_count": 0,
      "outputs": []
    },
    {
      "cell_type": "code",
      "metadata": {
        "id": "31l7HU8ZHsAe",
        "colab_type": "code",
        "outputId": "0d04f6a3-7b38-45d4-abff-97d98250c6ac",
        "colab": {
          "base_uri": "https://localhost:8080/",
          "height": 105
        }
      },
      "source": [
        "train_D = data_generator(train_data)\n",
        "valid_D = data_generator(valid_data)\n",
        "model.fit_generator(\n",
        "    train_D.__iter__(),\n",
        "    steps_per_epoch=len(train_D),\n",
        "    epochs=2,\n",
        "    validation_data=valid_D.__iter__(),\n",
        "    validation_steps=len(valid_D)\n",
        ")"
      ],
      "execution_count": 94,
      "outputs": [
        {
          "output_type": "stream",
          "text": [
            "Epoch 1/2\n",
            "147/147 [==============================] - 149s 1s/step - loss: 0.6632 - acc: 0.6611 - val_loss: 0.5903 - val_acc: 0.7245\n",
            "Epoch 2/2\n",
            "147/147 [==============================] - 111s 758ms/step - loss: 0.6150 - acc: 0.6900 - val_loss: 0.6177 - val_acc: 0.7245\n"
          ],
          "name": "stdout"
        },
        {
          "output_type": "execute_result",
          "data": {
            "text/plain": [
              "<keras.callbacks.History at 0x7fbdf6bc7898>"
            ]
          },
          "metadata": {
            "tags": []
          },
          "execution_count": 94
        }
      ]
    },
    {
      "cell_type": "code",
      "metadata": {
        "id": "2frFKaglPXeZ",
        "colab_type": "code",
        "colab": {}
      },
      "source": [
        "pred = model.predict_generator(valid_D.__iter__(), len(valid_D))"
      ],
      "execution_count": 0,
      "outputs": []
    },
    {
      "cell_type": "code",
      "metadata": {
        "id": "Qn5G__2CL2Mz",
        "colab_type": "code",
        "outputId": "1a410524-604d-495d-9e25-71dc0c38bd2c",
        "colab": {
          "base_uri": "https://localhost:8080/",
          "height": 52
        }
      },
      "source": [
        "print('Accuracy Score: {:.2f}%'.format(accuracy_score([x[1] for x in valid_data], [int(x>0.5) for x in pred])*100))\n",
        "print('ROC-AUC: {:.2f}%'.format(roc_auc_score([x[1] for x in valid_data], pred)*100))"
      ],
      "execution_count": 96,
      "outputs": [
        {
          "output_type": "stream",
          "text": [
            "Accuracy Score: 72.45%\n",
            "ROC-AUC: 46.24%\n"
          ],
          "name": "stdout"
        }
      ]
    }
  ]
}